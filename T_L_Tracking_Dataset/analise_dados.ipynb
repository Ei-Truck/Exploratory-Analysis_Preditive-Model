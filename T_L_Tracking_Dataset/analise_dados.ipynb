{
 "cells": [
  {
   "cell_type": "markdown",
   "metadata": {},
   "source": [
    "# Análise de Dados de Logística\n",
    "## 1. Introdução\n",
    "Este notebook tem como objetivo realizar uma análise exploratória de dados (EDA) em um conjunto de dados de logística. A análise visa identificar padrões, tendências e insights que possam otimizar as operações de transporte e entrega.\n",
    "\n",
    "### Descrição da Base de Dados\n",
    "A base de dados contém informações sobre viagens de transporte, incluindo detalhes como provedor de GPS, IDs de reserva, locais de origem e destino, datas e horários de viagem, tipo de veículo, distância percorrida, status de entrega (no prazo ou atrasado), e informações sobre clientes e fornecedores"
   ]
  },
  {
   "cell_type": "markdown",
   "metadata": {},
   "source": [
    "### 1.2 Objetivos da Análise\n",
    "- Compreender a distribuição das variáveis chave, como distância de transporte, duração da viagem e status de entrega.\n",
    "- Identificar outliers e anomalias nos dados que possam impactar a eficiência das operações.\n",
    "- Explorar correlações entre variáveis para entender fatores que influenciam atrasos nas entregas.\n",
    "- Visualizar os dados de forma clara e informativa para facilitar a interpretação dos resultados.\n",
    "- Fornecer insights acionáveis para melhorar a logística e o planejamento de rotas.\n",
    "- Preparar os dados para análises futuras, como modelagem preditiva ou otimização de rotas.\n"
   ]
  },
  {
   "cell_type": "markdown",
   "metadata": {},
   "source": [
    "### 1.3 metodos core do projeto"
   ]
  },
  {
   "cell_type": "code",
   "execution_count": 1,
   "metadata": {
    "ExecuteTime": {
     "end_time": "2025-09-22T20:33:59.774263Z",
     "start_time": "2025-09-22T20:33:59.765181Z"
    }
   },
   "outputs": [],
   "source": [
    "def save_base_cleaned(df, nome_base=\"base_limpa\", pasta=\".\"):\n",
    "    arquivos = [\n",
    "        f for f in os.listdir(pasta) if f.startswith(nome_base) and f.endswith(\".csv\")\n",
    "    ]\n",
    "\n",
    "    if not arquivos:\n",
    "        novo_num = 1\n",
    "    else:\n",
    "        nums = [int(f.replace(\".csv\", \"\").split(\"_\")[-1]) for f in arquivos]\n",
    "        novo_num = max(nums) + 1\n",
    "\n",
    "    nome_arquivo = os.path.join(pasta, f\"{nome_base}_{novo_num}.csv\")\n",
    "    df.to_csv(nome_arquivo, index=False)"
   ]
  },
  {
   "cell_type": "markdown",
   "metadata": {},
   "source": [
    "## 2. Carregamento e Pré-processamento de Dados"
   ]
  },
  {
   "cell_type": "markdown",
   "metadata": {},
   "source": [
    "### 2.1 imports"
   ]
  },
  {
   "cell_type": "code",
   "execution_count": 2,
   "metadata": {
    "ExecuteTime": {
     "end_time": "2025-09-22T20:33:59.869862Z",
     "start_time": "2025-09-22T20:33:59.861350Z"
    }
   },
   "outputs": [],
   "source": [
    "import pandas as pd\n",
    "import numpy as np\n",
    "import matplotlib.pyplot as plt\n",
    "import seaborn as sns\n",
    "import plotly.express as px\n",
    "import os\n",
    "import kagglehub\n",
    "from sklearn.preprocessing import (\n",
    "    MinMaxScaler,\n",
    "    OrdinalEncoder,\n",
    "    StandardScaler,\n",
    "    RobustScaler,\n",
    ")\n",
    "from sklearn.compose import ColumnTransformer\n",
    "from sklearn.pipeline import Pipeline\n",
    "from sklearn.neighbors import KNeighborsClassifier\n",
    "from sklearn.metrics import classification_report, confusion_matrix\n",
    "from sklearn.ensemble import RandomForestClassifier\n",
    "from sklearn.model_selection import train_test_split\n",
    "import pickle"
   ]
  },
  {
   "cell_type": "markdown",
   "metadata": {},
   "source": [
    "### 2.2 Carregamento dos Dados"
   ]
  },
  {
   "cell_type": "code",
   "execution_count": 3,
   "metadata": {
    "ExecuteTime": {
     "end_time": "2025-09-22T20:34:03.633602Z",
     "start_time": "2025-09-22T20:33:59.889189Z"
    }
   },
   "outputs": [
    {
     "data": {
      "text/html": [
       "<div>\n",
       "<style scoped>\n",
       "    .dataframe tbody tr th:only-of-type {\n",
       "        vertical-align: middle;\n",
       "    }\n",
       "\n",
       "    .dataframe tbody tr th {\n",
       "        vertical-align: top;\n",
       "    }\n",
       "\n",
       "    .dataframe thead th {\n",
       "        text-align: right;\n",
       "    }\n",
       "</style>\n",
       "<table border=\"1\" class=\"dataframe\">\n",
       "  <thead>\n",
       "    <tr style=\"text-align: right;\">\n",
       "      <th></th>\n",
       "      <th>GpsProvider</th>\n",
       "      <th>BookingID</th>\n",
       "      <th>Market/Regular</th>\n",
       "      <th>BookingID_Date</th>\n",
       "      <th>vehicle_no</th>\n",
       "      <th>Origin_Location</th>\n",
       "      <th>Destination_Location</th>\n",
       "      <th>Org_lat_lon</th>\n",
       "      <th>Des_lat_lon</th>\n",
       "      <th>Data_Ping_time</th>\n",
       "      <th>...</th>\n",
       "      <th>TRANSPORTATION_DISTANCE_IN_KM</th>\n",
       "      <th>vehicleType</th>\n",
       "      <th>Minimum_kms_to_be_covered_in_a_day</th>\n",
       "      <th>Driver_Name</th>\n",
       "      <th>Driver_MobileNo</th>\n",
       "      <th>customerID</th>\n",
       "      <th>customerNameCode</th>\n",
       "      <th>supplierID</th>\n",
       "      <th>supplierNameCode</th>\n",
       "      <th>Material Shipped</th>\n",
       "    </tr>\n",
       "  </thead>\n",
       "  <tbody>\n",
       "    <tr>\n",
       "      <th>0</th>\n",
       "      <td>CONSENT TRACK</td>\n",
       "      <td>MVCV0000927/082021</td>\n",
       "      <td>Market</td>\n",
       "      <td>2020-08-17 14:59:01.000</td>\n",
       "      <td>KA590408</td>\n",
       "      <td>TVSLSL-PUZHAL-HUB,CHENNAI,TAMIL NADU</td>\n",
       "      <td>ASHOK LEYLAND PLANT 1- HOSUR,HOSUR,KARNATAKA</td>\n",
       "      <td>13.1550,80.1960</td>\n",
       "      <td>12.7400,77.8200</td>\n",
       "      <td>2020-08-24 00:05:09</td>\n",
       "      <td>...</td>\n",
       "      <td>320.0</td>\n",
       "      <td>32 FT Single-Axle 7MT - HCV</td>\n",
       "      <td>NaN</td>\n",
       "      <td>NaN</td>\n",
       "      <td>NaN</td>\n",
       "      <td>ALLEXCHE45</td>\n",
       "      <td>Ashok leyland limited</td>\n",
       "      <td>VIJEXHOSR7</td>\n",
       "      <td>VIJAY TRANSPORT</td>\n",
       "      <td>BRACKET / GRAB HANDLE</td>\n",
       "    </tr>\n",
       "    <tr>\n",
       "      <th>1</th>\n",
       "      <td>VAMOSYS</td>\n",
       "      <td>VCV00014271/082021</td>\n",
       "      <td>Regular</td>\n",
       "      <td>2020-08-27 16:22:22.827</td>\n",
       "      <td>TN30BC5917</td>\n",
       "      <td>DAIMLER INDIA COMMERCIAL VEHICLES,KANCHIPURAM,...</td>\n",
       "      <td>DAIMLER INDIA COMMERCIAL VEHICLES,KANCHIPURAM,...</td>\n",
       "      <td>12.8390,79.9540</td>\n",
       "      <td>12.8390,79.9540</td>\n",
       "      <td>2020-08-28 12:40:28</td>\n",
       "      <td>...</td>\n",
       "      <td>103.0</td>\n",
       "      <td>32 FT Multi-Axle 14MT - HCV</td>\n",
       "      <td>NaN</td>\n",
       "      <td>RAMESH</td>\n",
       "      <td>NaN</td>\n",
       "      <td>DMREXCHEUX</td>\n",
       "      <td>Daimler india commercial vehicles pvt lt</td>\n",
       "      <td>VJLEXSHE09</td>\n",
       "      <td>VJ LOGISTICS</td>\n",
       "      <td>ZB MODEL PLATE / 3143</td>\n",
       "    </tr>\n",
       "    <tr>\n",
       "      <th>2</th>\n",
       "      <td>CONSENT TRACK</td>\n",
       "      <td>VCV00014382/082021</td>\n",
       "      <td>Regular</td>\n",
       "      <td>2020-08-27 17:59:24.987</td>\n",
       "      <td>TN22AR2748</td>\n",
       "      <td>LUCAS TVS LTD-PONDY,PONDY,PONDICHERRY</td>\n",
       "      <td>LUCAS TVS LTD-PONDY,PONDY,PONDICHERRY</td>\n",
       "      <td>11.8710,79.7390</td>\n",
       "      <td>11.8710,79.7390</td>\n",
       "      <td>2020-08-28 09:05:09</td>\n",
       "      <td>...</td>\n",
       "      <td>300.0</td>\n",
       "      <td>1 MT Tata Ace (Open Body)</td>\n",
       "      <td>NaN</td>\n",
       "      <td>GIRI</td>\n",
       "      <td>NaN</td>\n",
       "      <td>LUTGCCHE06</td>\n",
       "      <td>Lucas tvs ltd</td>\n",
       "      <td>GSTEXLAK1Q</td>\n",
       "      <td>G.S. TRANSPORT</td>\n",
       "      <td>LETTERING / FUSO</td>\n",
       "    </tr>\n",
       "    <tr>\n",
       "      <th>3</th>\n",
       "      <td>VAMOSYS</td>\n",
       "      <td>VCV00014743/082021</td>\n",
       "      <td>Regular</td>\n",
       "      <td>2020-08-28 00:48:24.503</td>\n",
       "      <td>TN28AQ0781</td>\n",
       "      <td>DAIMLER INDIA COMMERCIAL VEHICLES,KANCHIPURAM,...</td>\n",
       "      <td>DAIMLER INDIA COMMERCIAL VEHICLES,KANCHIPURAM,...</td>\n",
       "      <td>12.8390,79.9540</td>\n",
       "      <td>12.8390,79.9540</td>\n",
       "      <td>2020-08-28 12:40:31</td>\n",
       "      <td>...</td>\n",
       "      <td>61.0</td>\n",
       "      <td>32 FT Multi-Axle 14MT - HCV</td>\n",
       "      <td>NaN</td>\n",
       "      <td>RAVI</td>\n",
       "      <td>NaN</td>\n",
       "      <td>DMREXCHEUX</td>\n",
       "      <td>Daimler india commercial vehicles pvt lt</td>\n",
       "      <td>ARVEXNAM09</td>\n",
       "      <td>ARVINTH TRANSPORT</td>\n",
       "      <td>LU STRUT RA / RADIUS ROD</td>\n",
       "    </tr>\n",
       "    <tr>\n",
       "      <th>4</th>\n",
       "      <td>VAMOSYS</td>\n",
       "      <td>VCV00014744/082021</td>\n",
       "      <td>Regular</td>\n",
       "      <td>2020-08-28 01:23:19.243</td>\n",
       "      <td>TN68F1722</td>\n",
       "      <td>LUCAS TVS LTD-PONDY,PONDY,PONDICHERRY</td>\n",
       "      <td>LUCAS TVS LTD-PONDY,PONDY,PONDICHERRY</td>\n",
       "      <td>11.8720,79.6320</td>\n",
       "      <td>11.8720,79.6320</td>\n",
       "      <td>2020-08-28 12:40:29</td>\n",
       "      <td>...</td>\n",
       "      <td>240.0</td>\n",
       "      <td>32 FT Multi-Axle 14MT - HCV</td>\n",
       "      <td>NaN</td>\n",
       "      <td>TAMIL</td>\n",
       "      <td>NaN</td>\n",
       "      <td>LUTGCCHE06</td>\n",
       "      <td>Lucas tvs ltd</td>\n",
       "      <td>SRTEXKOR96</td>\n",
       "      <td>SR TRANSPORTS</td>\n",
       "      <td>WISHBONE / V ROD/HDT</td>\n",
       "    </tr>\n",
       "    <tr>\n",
       "      <th>...</th>\n",
       "      <td>...</td>\n",
       "      <td>...</td>\n",
       "      <td>...</td>\n",
       "      <td>...</td>\n",
       "      <td>...</td>\n",
       "      <td>...</td>\n",
       "      <td>...</td>\n",
       "      <td>...</td>\n",
       "      <td>...</td>\n",
       "      <td>...</td>\n",
       "      <td>...</td>\n",
       "      <td>...</td>\n",
       "      <td>...</td>\n",
       "      <td>...</td>\n",
       "      <td>...</td>\n",
       "      <td>...</td>\n",
       "      <td>...</td>\n",
       "      <td>...</td>\n",
       "      <td>...</td>\n",
       "      <td>...</td>\n",
       "      <td>...</td>\n",
       "    </tr>\n",
       "    <tr>\n",
       "      <th>6875</th>\n",
       "      <td>JTECH</td>\n",
       "      <td>WDSBKTP42751</td>\n",
       "      <td>Regular</td>\n",
       "      <td>2019-03-27 17:25:33.000</td>\n",
       "      <td>KA219502</td>\n",
       "      <td>Ramamurthy Nagar, Bangalore, Karnataka</td>\n",
       "      <td>Sahakaranagar P.O, Bangalore, Karnataka</td>\n",
       "      <td>13.007503209603689,77.665098855934886</td>\n",
       "      <td>13.068901840235711,77.590655738806618</td>\n",
       "      <td>2019-06-14 15:20:12</td>\n",
       "      <td>...</td>\n",
       "      <td>12.0</td>\n",
       "      <td>25 FT Open Body 21MT</td>\n",
       "      <td>NaN</td>\n",
       "      <td>NaN</td>\n",
       "      <td>NaN</td>\n",
       "      <td>LTLEXMUM40</td>\n",
       "      <td>Larsen &amp; toubro limited</td>\n",
       "      <td>55556</td>\n",
       "      <td>A S TRANSPORTS</td>\n",
       "      <td>TOOL KIT SET</td>\n",
       "    </tr>\n",
       "    <tr>\n",
       "      <th>6876</th>\n",
       "      <td>JTECH</td>\n",
       "      <td>WDSBKTP43203</td>\n",
       "      <td>Regular</td>\n",
       "      <td>2019-03-31 15:02:34.000</td>\n",
       "      <td>KA01AE9163</td>\n",
       "      <td>Ramamurthy Nagar, Bangalore, Karnataka</td>\n",
       "      <td>Bangalore International Airport, Bangalore, Ka...</td>\n",
       "      <td>13.007503209603689,77.665098855934886</td>\n",
       "      <td>13.196312912801169,77.708156925688726</td>\n",
       "      <td>2019-06-14 15:20:12</td>\n",
       "      <td>...</td>\n",
       "      <td>31.0</td>\n",
       "      <td>40 FT 3XL Trailer 35MT</td>\n",
       "      <td>NaN</td>\n",
       "      <td>NaN</td>\n",
       "      <td>NaN</td>\n",
       "      <td>LTLEXMUM40</td>\n",
       "      <td>Larsen &amp; toubro limited</td>\n",
       "      <td>55556</td>\n",
       "      <td>A S TRANSPORTS</td>\n",
       "      <td>CONTROL LEVER ASSY</td>\n",
       "    </tr>\n",
       "    <tr>\n",
       "      <th>6877</th>\n",
       "      <td>JTECH</td>\n",
       "      <td>WDSBKTP43021</td>\n",
       "      <td>Regular</td>\n",
       "      <td>2019-03-29 18:56:26.000</td>\n",
       "      <td>KA01AE9163</td>\n",
       "      <td>Mugabala, Bangalore Rural, Karnataka</td>\n",
       "      <td>Anekal, Bangalore, Karnataka</td>\n",
       "      <td>16.560192249175344,80.792293091599547</td>\n",
       "      <td>12.722686,77.676518</td>\n",
       "      <td>2019-06-14 15:20:12</td>\n",
       "      <td>...</td>\n",
       "      <td>49.0</td>\n",
       "      <td>40 FT 3XL Trailer 35MT</td>\n",
       "      <td>NaN</td>\n",
       "      <td>NaN</td>\n",
       "      <td>NaN</td>\n",
       "      <td>LTLEXMUM40</td>\n",
       "      <td>Larsen &amp; toubro limited</td>\n",
       "      <td>55556</td>\n",
       "      <td>A S TRANSPORTS</td>\n",
       "      <td>SPARE PARTS AUTOMOBILE</td>\n",
       "    </tr>\n",
       "    <tr>\n",
       "      <th>6878</th>\n",
       "      <td>JTECH</td>\n",
       "      <td>WDSBKTP42685</td>\n",
       "      <td>Regular</td>\n",
       "      <td>2019-03-27 08:29:45.000</td>\n",
       "      <td>KA21A3643</td>\n",
       "      <td>Mugabala, Bangalore Rural, Karnataka</td>\n",
       "      <td>Anekal, Bangalore, Karnataka</td>\n",
       "      <td>16.560192249175344,80.792293091599547</td>\n",
       "      <td>12.896896847817695,77.712223056874862</td>\n",
       "      <td>2019-06-14 15:20:12</td>\n",
       "      <td>...</td>\n",
       "      <td>49.0</td>\n",
       "      <td>40 FT 3XL Trailer 35MT</td>\n",
       "      <td>NaN</td>\n",
       "      <td>NaN</td>\n",
       "      <td>NaN</td>\n",
       "      <td>LTLEXMUM40</td>\n",
       "      <td>Larsen &amp; toubro limited</td>\n",
       "      <td>55556</td>\n",
       "      <td>A S TRANSPORTS</td>\n",
       "      <td>SPARE PARTS AUTOMOBILE</td>\n",
       "    </tr>\n",
       "    <tr>\n",
       "      <th>6879</th>\n",
       "      <td>JTECH</td>\n",
       "      <td>WDSBKTP42858</td>\n",
       "      <td>Regular</td>\n",
       "      <td>2019-03-28 17:55:17.000</td>\n",
       "      <td>KA51D1317</td>\n",
       "      <td>Mugabala, Bangalore Rural, Karnataka</td>\n",
       "      <td>Anekal, Bangalore, Karnataka</td>\n",
       "      <td>16.560192249175344,80.792293091599547</td>\n",
       "      <td>13.199089183304451,77.708554234959038</td>\n",
       "      <td>2019-06-14 15:20:12</td>\n",
       "      <td>...</td>\n",
       "      <td>49.0</td>\n",
       "      <td>40 FT 3XL Trailer 35MT</td>\n",
       "      <td>NaN</td>\n",
       "      <td>NaN</td>\n",
       "      <td>NaN</td>\n",
       "      <td>LTLEXMUM40</td>\n",
       "      <td>Larsen &amp; toubro limited</td>\n",
       "      <td>55556</td>\n",
       "      <td>A S TRANSPORTS</td>\n",
       "      <td>SPARE PARTS AUTOMOBILE</td>\n",
       "    </tr>\n",
       "  </tbody>\n",
       "</table>\n",
       "<p>6880 rows × 32 columns</p>\n",
       "</div>"
      ],
      "text/plain": [
       "        GpsProvider           BookingID Market/Regular   \\\n",
       "0     CONSENT TRACK  MVCV0000927/082021          Market   \n",
       "1           VAMOSYS  VCV00014271/082021         Regular   \n",
       "2     CONSENT TRACK  VCV00014382/082021         Regular   \n",
       "3           VAMOSYS  VCV00014743/082021         Regular   \n",
       "4           VAMOSYS  VCV00014744/082021         Regular   \n",
       "...             ...                 ...             ...   \n",
       "6875          JTECH        WDSBKTP42751         Regular   \n",
       "6876          JTECH        WDSBKTP43203         Regular   \n",
       "6877          JTECH        WDSBKTP43021         Regular   \n",
       "6878          JTECH        WDSBKTP42685         Regular   \n",
       "6879          JTECH        WDSBKTP42858         Regular   \n",
       "\n",
       "              BookingID_Date  vehicle_no  \\\n",
       "0    2020-08-17 14:59:01.000    KA590408   \n",
       "1    2020-08-27 16:22:22.827  TN30BC5917   \n",
       "2    2020-08-27 17:59:24.987  TN22AR2748   \n",
       "3    2020-08-28 00:48:24.503  TN28AQ0781   \n",
       "4    2020-08-28 01:23:19.243   TN68F1722   \n",
       "...                      ...         ...   \n",
       "6875 2019-03-27 17:25:33.000    KA219502   \n",
       "6876 2019-03-31 15:02:34.000  KA01AE9163   \n",
       "6877 2019-03-29 18:56:26.000  KA01AE9163   \n",
       "6878 2019-03-27 08:29:45.000   KA21A3643   \n",
       "6879 2019-03-28 17:55:17.000   KA51D1317   \n",
       "\n",
       "                                        Origin_Location  \\\n",
       "0                  TVSLSL-PUZHAL-HUB,CHENNAI,TAMIL NADU   \n",
       "1     DAIMLER INDIA COMMERCIAL VEHICLES,KANCHIPURAM,...   \n",
       "2                 LUCAS TVS LTD-PONDY,PONDY,PONDICHERRY   \n",
       "3     DAIMLER INDIA COMMERCIAL VEHICLES,KANCHIPURAM,...   \n",
       "4                 LUCAS TVS LTD-PONDY,PONDY,PONDICHERRY   \n",
       "...                                                 ...   \n",
       "6875             Ramamurthy Nagar, Bangalore, Karnataka   \n",
       "6876             Ramamurthy Nagar, Bangalore, Karnataka   \n",
       "6877               Mugabala, Bangalore Rural, Karnataka   \n",
       "6878               Mugabala, Bangalore Rural, Karnataka   \n",
       "6879               Mugabala, Bangalore Rural, Karnataka   \n",
       "\n",
       "                                   Destination_Location  \\\n",
       "0          ASHOK LEYLAND PLANT 1- HOSUR,HOSUR,KARNATAKA   \n",
       "1     DAIMLER INDIA COMMERCIAL VEHICLES,KANCHIPURAM,...   \n",
       "2                 LUCAS TVS LTD-PONDY,PONDY,PONDICHERRY   \n",
       "3     DAIMLER INDIA COMMERCIAL VEHICLES,KANCHIPURAM,...   \n",
       "4                 LUCAS TVS LTD-PONDY,PONDY,PONDICHERRY   \n",
       "...                                                 ...   \n",
       "6875            Sahakaranagar P.O, Bangalore, Karnataka   \n",
       "6876  Bangalore International Airport, Bangalore, Ka...   \n",
       "6877                       Anekal, Bangalore, Karnataka   \n",
       "6878                       Anekal, Bangalore, Karnataka   \n",
       "6879                       Anekal, Bangalore, Karnataka   \n",
       "\n",
       "                                Org_lat_lon  \\\n",
       "0                           13.1550,80.1960   \n",
       "1                           12.8390,79.9540   \n",
       "2                           11.8710,79.7390   \n",
       "3                           12.8390,79.9540   \n",
       "4                           11.8720,79.6320   \n",
       "...                                     ...   \n",
       "6875  13.007503209603689,77.665098855934886   \n",
       "6876  13.007503209603689,77.665098855934886   \n",
       "6877  16.560192249175344,80.792293091599547   \n",
       "6878  16.560192249175344,80.792293091599547   \n",
       "6879  16.560192249175344,80.792293091599547   \n",
       "\n",
       "                                Des_lat_lon      Data_Ping_time  ...  \\\n",
       "0                           12.7400,77.8200 2020-08-24 00:05:09  ...   \n",
       "1                           12.8390,79.9540 2020-08-28 12:40:28  ...   \n",
       "2                           11.8710,79.7390 2020-08-28 09:05:09  ...   \n",
       "3                           12.8390,79.9540 2020-08-28 12:40:31  ...   \n",
       "4                           11.8720,79.6320 2020-08-28 12:40:29  ...   \n",
       "...                                     ...                 ...  ...   \n",
       "6875  13.068901840235711,77.590655738806618 2019-06-14 15:20:12  ...   \n",
       "6876  13.196312912801169,77.708156925688726 2019-06-14 15:20:12  ...   \n",
       "6877                    12.722686,77.676518 2019-06-14 15:20:12  ...   \n",
       "6878  12.896896847817695,77.712223056874862 2019-06-14 15:20:12  ...   \n",
       "6879  13.199089183304451,77.708554234959038 2019-06-14 15:20:12  ...   \n",
       "\n",
       "     TRANSPORTATION_DISTANCE_IN_KM                  vehicleType  \\\n",
       "0                            320.0  32 FT Single-Axle 7MT - HCV   \n",
       "1                            103.0  32 FT Multi-Axle 14MT - HCV   \n",
       "2                            300.0    1 MT Tata Ace (Open Body)   \n",
       "3                             61.0  32 FT Multi-Axle 14MT - HCV   \n",
       "4                            240.0  32 FT Multi-Axle 14MT - HCV   \n",
       "...                            ...                          ...   \n",
       "6875                          12.0         25 FT Open Body 21MT   \n",
       "6876                          31.0       40 FT 3XL Trailer 35MT   \n",
       "6877                          49.0       40 FT 3XL Trailer 35MT   \n",
       "6878                          49.0       40 FT 3XL Trailer 35MT   \n",
       "6879                          49.0       40 FT 3XL Trailer 35MT   \n",
       "\n",
       "     Minimum_kms_to_be_covered_in_a_day Driver_Name  Driver_MobileNo  \\\n",
       "0                                   NaN         NaN              NaN   \n",
       "1                                   NaN      RAMESH              NaN   \n",
       "2                                   NaN        GIRI              NaN   \n",
       "3                                   NaN        RAVI              NaN   \n",
       "4                                   NaN       TAMIL              NaN   \n",
       "...                                 ...         ...              ...   \n",
       "6875                                NaN         NaN              NaN   \n",
       "6876                                NaN         NaN              NaN   \n",
       "6877                                NaN         NaN              NaN   \n",
       "6878                                NaN         NaN              NaN   \n",
       "6879                                NaN         NaN              NaN   \n",
       "\n",
       "      customerID                          customerNameCode  supplierID  \\\n",
       "0     ALLEXCHE45                     Ashok leyland limited  VIJEXHOSR7   \n",
       "1     DMREXCHEUX  Daimler india commercial vehicles pvt lt  VJLEXSHE09   \n",
       "2     LUTGCCHE06                             Lucas tvs ltd  GSTEXLAK1Q   \n",
       "3     DMREXCHEUX  Daimler india commercial vehicles pvt lt  ARVEXNAM09   \n",
       "4     LUTGCCHE06                             Lucas tvs ltd  SRTEXKOR96   \n",
       "...          ...                                       ...         ...   \n",
       "6875  LTLEXMUM40                   Larsen & toubro limited       55556   \n",
       "6876  LTLEXMUM40                   Larsen & toubro limited       55556   \n",
       "6877  LTLEXMUM40                   Larsen & toubro limited       55556   \n",
       "6878  LTLEXMUM40                   Larsen & toubro limited       55556   \n",
       "6879  LTLEXMUM40                   Larsen & toubro limited       55556   \n",
       "\n",
       "       supplierNameCode          Material Shipped  \n",
       "0       VIJAY TRANSPORT     BRACKET / GRAB HANDLE  \n",
       "1          VJ LOGISTICS     ZB MODEL PLATE / 3143  \n",
       "2        G.S. TRANSPORT          LETTERING / FUSO  \n",
       "3     ARVINTH TRANSPORT  LU STRUT RA / RADIUS ROD  \n",
       "4         SR TRANSPORTS      WISHBONE / V ROD/HDT  \n",
       "...                 ...                       ...  \n",
       "6875     A S TRANSPORTS              TOOL KIT SET  \n",
       "6876     A S TRANSPORTS        CONTROL LEVER ASSY  \n",
       "6877     A S TRANSPORTS    SPARE PARTS AUTOMOBILE  \n",
       "6878     A S TRANSPORTS    SPARE PARTS AUTOMOBILE  \n",
       "6879     A S TRANSPORTS    SPARE PARTS AUTOMOBILE  \n",
       "\n",
       "[6880 rows x 32 columns]"
      ]
     },
     "execution_count": 3,
     "metadata": {},
     "output_type": "execute_result"
    }
   ],
   "source": [
    "path = kagglehub.dataset_download(\n",
    "    \"nicolemachado/transportation-and-logistics-tracking-dataset\"\n",
    ")\n",
    "excel_path = os.path.join(path, \"Transportation and Logistics Tracking Dataset..xlsx\")\n",
    "df = pd.read_excel(excel_path, sheet_name=\"Primary data\")\n",
    "df"
   ]
  },
  {
   "cell_type": "markdown",
   "metadata": {},
   "source": [
    "### 2.3 informações do dataframe"
   ]
  },
  {
   "cell_type": "code",
   "execution_count": 4,
   "metadata": {
    "ExecuteTime": {
     "end_time": "2025-09-22T20:34:03.782320Z",
     "start_time": "2025-09-22T20:34:03.746514Z"
    }
   },
   "outputs": [
    {
     "name": "stdout",
     "output_type": "stream",
     "text": [
      "<class 'pandas.core.frame.DataFrame'>\n",
      "RangeIndex: 6880 entries, 0 to 6879\n",
      "Data columns (total 32 columns):\n",
      " #   Column                              Non-Null Count  Dtype         \n",
      "---  ------                              --------------  -----         \n",
      " 0   GpsProvider                         5927 non-null   object        \n",
      " 1   BookingID                           6880 non-null   object        \n",
      " 2   Market/Regular                      6880 non-null   object        \n",
      " 3   BookingID_Date                      6880 non-null   datetime64[ns]\n",
      " 4   vehicle_no                          6880 non-null   object        \n",
      " 5   Origin_Location                     6880 non-null   object        \n",
      " 6   Destination_Location                6880 non-null   object        \n",
      " 7   Org_lat_lon                         6880 non-null   object        \n",
      " 8   Des_lat_lon                         6880 non-null   object        \n",
      " 9   Data_Ping_time                      5927 non-null   datetime64[ns]\n",
      " 10  Planned_ETA                         6880 non-null   object        \n",
      " 11  Current_Location                    5916 non-null   object        \n",
      " 12  DestinationLocation                 6880 non-null   object        \n",
      " 13  actual_eta                          6843 non-null   object        \n",
      " 14  Curr_lat                            5927 non-null   float64       \n",
      " 15  Curr_lon                            5927 non-null   float64       \n",
      " 16  ontime                              2548 non-null   object        \n",
      " 17  delay                               4342 non-null   object        \n",
      " 18  OriginLocation_Code                 6877 non-null   object        \n",
      " 19  DestinationLocation_Code            6853 non-null   object        \n",
      " 20  trip_start_date                     6880 non-null   object        \n",
      " 21  trip_end_date                       6686 non-null   object        \n",
      " 22  TRANSPORTATION_DISTANCE_IN_KM       6168 non-null   float64       \n",
      " 23  vehicleType                         6111 non-null   object        \n",
      " 24  Minimum_kms_to_be_covered_in_a_day  2820 non-null   float64       \n",
      " 25  Driver_Name                         3451 non-null   object        \n",
      " 26  Driver_MobileNo                     2691 non-null   float64       \n",
      " 27  customerID                          6880 non-null   object        \n",
      " 28  customerNameCode                    6880 non-null   object        \n",
      " 29  supplierID                          6880 non-null   object        \n",
      " 30  supplierNameCode                    6880 non-null   object        \n",
      " 31  Material Shipped                    6880 non-null   object        \n",
      "dtypes: datetime64[ns](2), float64(5), object(25)\n",
      "memory usage: 1.7+ MB\n"
     ]
    },
    {
     "data": {
      "text/plain": [
       "GpsProvider                            953\n",
       "BookingID                                0\n",
       "Market/Regular                           0\n",
       "BookingID_Date                           0\n",
       "vehicle_no                               0\n",
       "Origin_Location                          0\n",
       "Destination_Location                     0\n",
       "Org_lat_lon                              0\n",
       "Des_lat_lon                              0\n",
       "Data_Ping_time                         953\n",
       "Planned_ETA                              0\n",
       "Current_Location                       964\n",
       "DestinationLocation                      0\n",
       "actual_eta                              37\n",
       "Curr_lat                               953\n",
       "Curr_lon                               953\n",
       "ontime                                4332\n",
       "delay                                 2538\n",
       "OriginLocation_Code                      3\n",
       "DestinationLocation_Code                27\n",
       "trip_start_date                          0\n",
       "trip_end_date                          194\n",
       "TRANSPORTATION_DISTANCE_IN_KM          712\n",
       "vehicleType                            769\n",
       "Minimum_kms_to_be_covered_in_a_day    4060\n",
       "Driver_Name                           3429\n",
       "Driver_MobileNo                       4189\n",
       "customerID                               0\n",
       "customerNameCode                         0\n",
       "supplierID                               0\n",
       "supplierNameCode                         0\n",
       "Material Shipped                         0\n",
       "dtype: int64"
      ]
     },
     "execution_count": 4,
     "metadata": {},
     "output_type": "execute_result"
    }
   ],
   "source": [
    "df.info()\n",
    "df.isnull().sum()"
   ]
  },
  {
   "cell_type": "markdown",
   "metadata": {},
   "source": [
    "### 2.4 tratando dados ausentes e outliers absurdos"
   ]
  },
  {
   "cell_type": "code",
   "execution_count": 5,
   "metadata": {
    "ExecuteTime": {
     "end_time": "2025-09-22T20:34:04.054175Z",
     "start_time": "2025-09-22T20:34:03.994946Z"
    }
   },
   "outputs": [
    {
     "name": "stdout",
     "output_type": "stream",
     "text": [
      "GpsProvider                              0\n",
      "BookingID                                0\n",
      "Market/Regular                           0\n",
      "BookingID_Date                           0\n",
      "vehicle_no                               0\n",
      "Origin_Location                          0\n",
      "Destination_Location                     0\n",
      "Org_lat_lon                              0\n",
      "Des_lat_lon                              0\n",
      "Data_Ping_time                         953\n",
      "Planned_ETA                              0\n",
      "Current_Location                         0\n",
      "DestinationLocation                      0\n",
      "actual_eta                               0\n",
      "Curr_lat                                 0\n",
      "Curr_lon                                 0\n",
      "ontime                                4332\n",
      "delay                                 2538\n",
      "OriginLocation_Code                      0\n",
      "DestinationLocation_Code                 0\n",
      "trip_start_date                          0\n",
      "trip_end_date                            0\n",
      "TRANSPORTATION_DISTANCE_IN_KM            0\n",
      "vehicleType                              0\n",
      "Minimum_kms_to_be_covered_in_a_day       0\n",
      "Driver_Name                              0\n",
      "Driver_MobileNo                          0\n",
      "customerID                               0\n",
      "customerNameCode                         0\n",
      "supplierID                               0\n",
      "supplierNameCode                         0\n",
      "Material Shipped                         0\n",
      "dtype: int64\n"
     ]
    }
   ],
   "source": [
    "colunas_nulas = df.columns[\n",
    "    df.isnull().any() & ~df.columns.isin([\"delay\", \"ontime\"])\n",
    "].tolist()\n",
    "\n",
    "for col in colunas_nulas:\n",
    "    if df[col].dtype == \"object\":\n",
    "        mode_val = df[col].mode()[0]\n",
    "        df[col] = df[col].fillna(mode_val)\n",
    "    elif df[col].dtype in [\"int64\", \"float64\"]:\n",
    "        median_val = df[col].median()\n",
    "        df[col] = df[col].fillna(median_val)\n",
    "\n",
    "\n",
    "print(df.isnull().sum())"
   ]
  },
  {
   "cell_type": "markdown",
   "metadata": {},
   "source": [
    "### 2.5 tratando dados de data"
   ]
  },
  {
   "cell_type": "code",
   "execution_count": null,
   "metadata": {
    "ExecuteTime": {
     "end_time": "2025-09-22T20:34:04.480642Z",
     "start_time": "2025-09-22T20:34:04.393967Z"
    }
   },
   "outputs": [
    {
     "name": "stdout",
     "output_type": "stream",
     "text": [
      "<class 'pandas.core.frame.DataFrame'>\n",
      "RangeIndex: 6880 entries, 0 to 6879\n",
      "Data columns (total 32 columns):\n",
      " #   Column                              Non-Null Count  Dtype         \n",
      "---  ------                              --------------  -----         \n",
      " 0   GpsProvider                         6880 non-null   object        \n",
      " 1   BookingID                           6880 non-null   object        \n",
      " 2   Market/Regular                      6880 non-null   object        \n",
      " 3   BookingID_Date                      6880 non-null   datetime64[ns]\n",
      " 4   vehicle_no                          6880 non-null   object        \n",
      " 5   Origin_Location                     6880 non-null   object        \n",
      " 6   Destination_Location                6880 non-null   object        \n",
      " 7   Org_lat_lon                         6880 non-null   object        \n",
      " 8   Des_lat_lon                         6880 non-null   object        \n",
      " 9   Data_Ping_time                      5927 non-null   datetime64[ns]\n",
      " 10  Planned_ETA                         6880 non-null   datetime64[ns]\n",
      " 11  Current_Location                    6880 non-null   object        \n",
      " 12  DestinationLocation                 6880 non-null   object        \n",
      " 13  actual_eta                          6880 non-null   datetime64[ns]\n",
      " 14  Curr_lat                            6880 non-null   float64       \n",
      " 15  Curr_lon                            6880 non-null   float64       \n",
      " 16  ontime                              2548 non-null   object        \n",
      " 17  delay                               4342 non-null   object        \n",
      " 18  OriginLocation_Code                 6880 non-null   object        \n",
      " 19  DestinationLocation_Code            6880 non-null   object        \n",
      " 20  trip_start_date                     6880 non-null   datetime64[ns]\n",
      " 21  trip_end_date                       6880 non-null   datetime64[ns]\n",
      " 22  TRANSPORTATION_DISTANCE_IN_KM       6880 non-null   float64       \n",
      " 23  vehicleType                         6880 non-null   object        \n",
      " 24  Minimum_kms_to_be_covered_in_a_day  6880 non-null   float64       \n",
      " 25  Driver_Name                         6880 non-null   object        \n",
      " 26  Driver_MobileNo                     6880 non-null   float64       \n",
      " 27  customerID                          6880 non-null   object        \n",
      " 28  customerNameCode                    6880 non-null   object        \n",
      " 29  supplierID                          6880 non-null   object        \n",
      " 30  supplierNameCode                    6880 non-null   object        \n",
      " 31  Material Shipped                    6880 non-null   object        \n",
      "dtypes: datetime64[ns](6), float64(5), object(21)\n",
      "memory usage: 1.7+ MB\n"
     ]
    },
    {
     "data": {
      "text/html": [
       "<div>\n",
       "<style scoped>\n",
       "    .dataframe tbody tr th:only-of-type {\n",
       "        vertical-align: middle;\n",
       "    }\n",
       "\n",
       "    .dataframe tbody tr th {\n",
       "        vertical-align: top;\n",
       "    }\n",
       "\n",
       "    .dataframe thead th {\n",
       "        text-align: right;\n",
       "    }\n",
       "</style>\n",
       "<table border=\"1\" class=\"dataframe\">\n",
       "  <thead>\n",
       "    <tr style=\"text-align: right;\">\n",
       "      <th></th>\n",
       "      <th>GpsProvider</th>\n",
       "      <th>BookingID</th>\n",
       "      <th>Market/Regular</th>\n",
       "      <th>BookingID_Date</th>\n",
       "      <th>vehicle_no</th>\n",
       "      <th>Origin_Location</th>\n",
       "      <th>Destination_Location</th>\n",
       "      <th>Org_lat_lon</th>\n",
       "      <th>Des_lat_lon</th>\n",
       "      <th>Data_Ping_time</th>\n",
       "      <th>...</th>\n",
       "      <th>vehicleType</th>\n",
       "      <th>Minimum_kms_to_be_covered_in_a_day</th>\n",
       "      <th>Driver_Name</th>\n",
       "      <th>Driver_MobileNo</th>\n",
       "      <th>customerID</th>\n",
       "      <th>customerNameCode</th>\n",
       "      <th>supplierID</th>\n",
       "      <th>supplierNameCode</th>\n",
       "      <th>Material Shipped</th>\n",
       "      <th>trip_duration_hours</th>\n",
       "    </tr>\n",
       "  </thead>\n",
       "  <tbody>\n",
       "    <tr>\n",
       "      <th>0</th>\n",
       "      <td>CONSENT TRACK</td>\n",
       "      <td>MVCV0000927/082021</td>\n",
       "      <td>Market</td>\n",
       "      <td>2020-08-17 14:59:01.000</td>\n",
       "      <td>KA590408</td>\n",
       "      <td>TVSLSL-PUZHAL-HUB,CHENNAI,TAMIL NADU</td>\n",
       "      <td>ASHOK LEYLAND PLANT 1- HOSUR,HOSUR,KARNATAKA</td>\n",
       "      <td>13.1550,80.1960</td>\n",
       "      <td>12.7400,77.8200</td>\n",
       "      <td>2020-08-24 00:05:09</td>\n",
       "      <td>...</td>\n",
       "      <td>32 FT Single-Axle 7MT - HCV</td>\n",
       "      <td>250.0</td>\n",
       "      <td>MANU</td>\n",
       "      <td>8.930762e+09</td>\n",
       "      <td>ALLEXCHE45</td>\n",
       "      <td>Ashok leyland limited</td>\n",
       "      <td>VIJEXHOSR7</td>\n",
       "      <td>VIJAY TRANSPORT</td>\n",
       "      <td>BRACKET / GRAB HANDLE</td>\n",
       "      <td>263.650958</td>\n",
       "    </tr>\n",
       "    <tr>\n",
       "      <th>1</th>\n",
       "      <td>VAMOSYS</td>\n",
       "      <td>VCV00014271/082021</td>\n",
       "      <td>Regular</td>\n",
       "      <td>2020-08-27 16:22:22.827</td>\n",
       "      <td>TN30BC5917</td>\n",
       "      <td>DAIMLER INDIA COMMERCIAL VEHICLES,KANCHIPURAM,...</td>\n",
       "      <td>DAIMLER INDIA COMMERCIAL VEHICLES,KANCHIPURAM,...</td>\n",
       "      <td>12.8390,79.9540</td>\n",
       "      <td>12.8390,79.9540</td>\n",
       "      <td>2020-08-28 12:40:28</td>\n",
       "      <td>...</td>\n",
       "      <td>32 FT Multi-Axle 14MT - HCV</td>\n",
       "      <td>250.0</td>\n",
       "      <td>RAMESH</td>\n",
       "      <td>8.930762e+09</td>\n",
       "      <td>DMREXCHEUX</td>\n",
       "      <td>Daimler india commercial vehicles pvt lt</td>\n",
       "      <td>VJLEXSHE09</td>\n",
       "      <td>VJ LOGISTICS</td>\n",
       "      <td>ZB MODEL PLATE / 3143</td>\n",
       "      <td>20.406946</td>\n",
       "    </tr>\n",
       "    <tr>\n",
       "      <th>2</th>\n",
       "      <td>CONSENT TRACK</td>\n",
       "      <td>VCV00014382/082021</td>\n",
       "      <td>Regular</td>\n",
       "      <td>2020-08-27 17:59:24.987</td>\n",
       "      <td>TN22AR2748</td>\n",
       "      <td>LUCAS TVS LTD-PONDY,PONDY,PONDICHERRY</td>\n",
       "      <td>LUCAS TVS LTD-PONDY,PONDY,PONDICHERRY</td>\n",
       "      <td>11.8710,79.7390</td>\n",
       "      <td>11.8710,79.7390</td>\n",
       "      <td>2020-08-28 09:05:09</td>\n",
       "      <td>...</td>\n",
       "      <td>1 MT Tata Ace (Open Body)</td>\n",
       "      <td>250.0</td>\n",
       "      <td>GIRI</td>\n",
       "      <td>8.930762e+09</td>\n",
       "      <td>LUTGCCHE06</td>\n",
       "      <td>Lucas tvs ltd</td>\n",
       "      <td>GSTEXLAK1Q</td>\n",
       "      <td>G.S. TRANSPORT</td>\n",
       "      <td>LETTERING / FUSO</td>\n",
       "      <td>22.107443</td>\n",
       "    </tr>\n",
       "    <tr>\n",
       "      <th>3</th>\n",
       "      <td>VAMOSYS</td>\n",
       "      <td>VCV00014743/082021</td>\n",
       "      <td>Regular</td>\n",
       "      <td>2020-08-28 00:48:24.503</td>\n",
       "      <td>TN28AQ0781</td>\n",
       "      <td>DAIMLER INDIA COMMERCIAL VEHICLES,KANCHIPURAM,...</td>\n",
       "      <td>DAIMLER INDIA COMMERCIAL VEHICLES,KANCHIPURAM,...</td>\n",
       "      <td>12.8390,79.9540</td>\n",
       "      <td>12.8390,79.9540</td>\n",
       "      <td>2020-08-28 12:40:31</td>\n",
       "      <td>...</td>\n",
       "      <td>32 FT Multi-Axle 14MT - HCV</td>\n",
       "      <td>250.0</td>\n",
       "      <td>RAVI</td>\n",
       "      <td>8.930762e+09</td>\n",
       "      <td>DMREXCHEUX</td>\n",
       "      <td>Daimler india commercial vehicles pvt lt</td>\n",
       "      <td>ARVEXNAM09</td>\n",
       "      <td>ARVINTH TRANSPORT</td>\n",
       "      <td>LU STRUT RA / RADIUS ROD</td>\n",
       "      <td>12.045277</td>\n",
       "    </tr>\n",
       "    <tr>\n",
       "      <th>4</th>\n",
       "      <td>VAMOSYS</td>\n",
       "      <td>VCV00014744/082021</td>\n",
       "      <td>Regular</td>\n",
       "      <td>2020-08-28 01:23:19.243</td>\n",
       "      <td>TN68F1722</td>\n",
       "      <td>LUCAS TVS LTD-PONDY,PONDY,PONDICHERRY</td>\n",
       "      <td>LUCAS TVS LTD-PONDY,PONDY,PONDICHERRY</td>\n",
       "      <td>11.8720,79.6320</td>\n",
       "      <td>11.8720,79.6320</td>\n",
       "      <td>2020-08-28 12:40:29</td>\n",
       "      <td>...</td>\n",
       "      <td>32 FT Multi-Axle 14MT - HCV</td>\n",
       "      <td>250.0</td>\n",
       "      <td>TAMIL</td>\n",
       "      <td>8.930762e+09</td>\n",
       "      <td>LUTGCCHE06</td>\n",
       "      <td>Lucas tvs ltd</td>\n",
       "      <td>SRTEXKOR96</td>\n",
       "      <td>SR TRANSPORTS</td>\n",
       "      <td>WISHBONE / V ROD/HDT</td>\n",
       "      <td>13.150591</td>\n",
       "    </tr>\n",
       "    <tr>\n",
       "      <th>...</th>\n",
       "      <td>...</td>\n",
       "      <td>...</td>\n",
       "      <td>...</td>\n",
       "      <td>...</td>\n",
       "      <td>...</td>\n",
       "      <td>...</td>\n",
       "      <td>...</td>\n",
       "      <td>...</td>\n",
       "      <td>...</td>\n",
       "      <td>...</td>\n",
       "      <td>...</td>\n",
       "      <td>...</td>\n",
       "      <td>...</td>\n",
       "      <td>...</td>\n",
       "      <td>...</td>\n",
       "      <td>...</td>\n",
       "      <td>...</td>\n",
       "      <td>...</td>\n",
       "      <td>...</td>\n",
       "      <td>...</td>\n",
       "      <td>...</td>\n",
       "    </tr>\n",
       "    <tr>\n",
       "      <th>6874</th>\n",
       "      <td>JTECH</td>\n",
       "      <td>WDSBKTP45240</td>\n",
       "      <td>Regular</td>\n",
       "      <td>2019-04-23 12:32:42.000</td>\n",
       "      <td>KA21A6239</td>\n",
       "      <td>Mugabala, Bangalore Rural, Karnataka</td>\n",
       "      <td>Bangalore International Airport, Bangalore, Ka...</td>\n",
       "      <td>16.560192249175344,80.792293091599547</td>\n",
       "      <td>13.199089183304451,77.708554234959038</td>\n",
       "      <td>2019-06-14 15:20:12</td>\n",
       "      <td>...</td>\n",
       "      <td>40 FT 3XL Trailer 35MT</td>\n",
       "      <td>250.0</td>\n",
       "      <td>MANU</td>\n",
       "      <td>8.930762e+09</td>\n",
       "      <td>LTLEXMUM40</td>\n",
       "      <td>Larsen &amp; toubro limited</td>\n",
       "      <td>55556</td>\n",
       "      <td>A S TRANSPORTS</td>\n",
       "      <td>HORN NP.027</td>\n",
       "      <td>3.250000</td>\n",
       "    </tr>\n",
       "    <tr>\n",
       "      <th>6876</th>\n",
       "      <td>JTECH</td>\n",
       "      <td>WDSBKTP43203</td>\n",
       "      <td>Regular</td>\n",
       "      <td>2019-03-31 15:02:34.000</td>\n",
       "      <td>KA01AE9163</td>\n",
       "      <td>Ramamurthy Nagar, Bangalore, Karnataka</td>\n",
       "      <td>Bangalore International Airport, Bangalore, Ka...</td>\n",
       "      <td>13.007503209603689,77.665098855934886</td>\n",
       "      <td>13.196312912801169,77.708156925688726</td>\n",
       "      <td>2019-06-14 15:20:12</td>\n",
       "      <td>...</td>\n",
       "      <td>40 FT 3XL Trailer 35MT</td>\n",
       "      <td>250.0</td>\n",
       "      <td>MANU</td>\n",
       "      <td>8.930762e+09</td>\n",
       "      <td>LTLEXMUM40</td>\n",
       "      <td>Larsen &amp; toubro limited</td>\n",
       "      <td>55556</td>\n",
       "      <td>A S TRANSPORTS</td>\n",
       "      <td>CONTROL LEVER ASSY</td>\n",
       "      <td>2.350000</td>\n",
       "    </tr>\n",
       "    <tr>\n",
       "      <th>6877</th>\n",
       "      <td>JTECH</td>\n",
       "      <td>WDSBKTP43021</td>\n",
       "      <td>Regular</td>\n",
       "      <td>2019-03-29 18:56:26.000</td>\n",
       "      <td>KA01AE9163</td>\n",
       "      <td>Mugabala, Bangalore Rural, Karnataka</td>\n",
       "      <td>Anekal, Bangalore, Karnataka</td>\n",
       "      <td>16.560192249175344,80.792293091599547</td>\n",
       "      <td>12.722686,77.676518</td>\n",
       "      <td>2019-06-14 15:20:12</td>\n",
       "      <td>...</td>\n",
       "      <td>40 FT 3XL Trailer 35MT</td>\n",
       "      <td>250.0</td>\n",
       "      <td>MANU</td>\n",
       "      <td>8.930762e+09</td>\n",
       "      <td>LTLEXMUM40</td>\n",
       "      <td>Larsen &amp; toubro limited</td>\n",
       "      <td>55556</td>\n",
       "      <td>A S TRANSPORTS</td>\n",
       "      <td>SPARE PARTS AUTOMOBILE</td>\n",
       "      <td>4.150000</td>\n",
       "    </tr>\n",
       "    <tr>\n",
       "      <th>6878</th>\n",
       "      <td>JTECH</td>\n",
       "      <td>WDSBKTP42685</td>\n",
       "      <td>Regular</td>\n",
       "      <td>2019-03-27 08:29:45.000</td>\n",
       "      <td>KA21A3643</td>\n",
       "      <td>Mugabala, Bangalore Rural, Karnataka</td>\n",
       "      <td>Anekal, Bangalore, Karnataka</td>\n",
       "      <td>16.560192249175344,80.792293091599547</td>\n",
       "      <td>12.896896847817695,77.712223056874862</td>\n",
       "      <td>2019-06-14 15:20:12</td>\n",
       "      <td>...</td>\n",
       "      <td>40 FT 3XL Trailer 35MT</td>\n",
       "      <td>250.0</td>\n",
       "      <td>MANU</td>\n",
       "      <td>8.930762e+09</td>\n",
       "      <td>LTLEXMUM40</td>\n",
       "      <td>Larsen &amp; toubro limited</td>\n",
       "      <td>55556</td>\n",
       "      <td>A S TRANSPORTS</td>\n",
       "      <td>SPARE PARTS AUTOMOBILE</td>\n",
       "      <td>1.100000</td>\n",
       "    </tr>\n",
       "    <tr>\n",
       "      <th>6879</th>\n",
       "      <td>JTECH</td>\n",
       "      <td>WDSBKTP42858</td>\n",
       "      <td>Regular</td>\n",
       "      <td>2019-03-28 17:55:17.000</td>\n",
       "      <td>KA51D1317</td>\n",
       "      <td>Mugabala, Bangalore Rural, Karnataka</td>\n",
       "      <td>Anekal, Bangalore, Karnataka</td>\n",
       "      <td>16.560192249175344,80.792293091599547</td>\n",
       "      <td>13.199089183304451,77.708554234959038</td>\n",
       "      <td>2019-06-14 15:20:12</td>\n",
       "      <td>...</td>\n",
       "      <td>40 FT 3XL Trailer 35MT</td>\n",
       "      <td>250.0</td>\n",
       "      <td>MANU</td>\n",
       "      <td>8.930762e+09</td>\n",
       "      <td>LTLEXMUM40</td>\n",
       "      <td>Larsen &amp; toubro limited</td>\n",
       "      <td>55556</td>\n",
       "      <td>A S TRANSPORTS</td>\n",
       "      <td>SPARE PARTS AUTOMOBILE</td>\n",
       "      <td>3.250000</td>\n",
       "    </tr>\n",
       "  </tbody>\n",
       "</table>\n",
       "<p>6839 rows × 33 columns</p>\n",
       "</div>"
      ],
      "text/plain": [
       "        GpsProvider           BookingID Market/Regular   \\\n",
       "0     CONSENT TRACK  MVCV0000927/082021          Market   \n",
       "1           VAMOSYS  VCV00014271/082021         Regular   \n",
       "2     CONSENT TRACK  VCV00014382/082021         Regular   \n",
       "3           VAMOSYS  VCV00014743/082021         Regular   \n",
       "4           VAMOSYS  VCV00014744/082021         Regular   \n",
       "...             ...                 ...             ...   \n",
       "6874          JTECH        WDSBKTP45240         Regular   \n",
       "6876          JTECH        WDSBKTP43203         Regular   \n",
       "6877          JTECH        WDSBKTP43021         Regular   \n",
       "6878          JTECH        WDSBKTP42685         Regular   \n",
       "6879          JTECH        WDSBKTP42858         Regular   \n",
       "\n",
       "              BookingID_Date  vehicle_no  \\\n",
       "0    2020-08-17 14:59:01.000    KA590408   \n",
       "1    2020-08-27 16:22:22.827  TN30BC5917   \n",
       "2    2020-08-27 17:59:24.987  TN22AR2748   \n",
       "3    2020-08-28 00:48:24.503  TN28AQ0781   \n",
       "4    2020-08-28 01:23:19.243   TN68F1722   \n",
       "...                      ...         ...   \n",
       "6874 2019-04-23 12:32:42.000   KA21A6239   \n",
       "6876 2019-03-31 15:02:34.000  KA01AE9163   \n",
       "6877 2019-03-29 18:56:26.000  KA01AE9163   \n",
       "6878 2019-03-27 08:29:45.000   KA21A3643   \n",
       "6879 2019-03-28 17:55:17.000   KA51D1317   \n",
       "\n",
       "                                        Origin_Location  \\\n",
       "0                  TVSLSL-PUZHAL-HUB,CHENNAI,TAMIL NADU   \n",
       "1     DAIMLER INDIA COMMERCIAL VEHICLES,KANCHIPURAM,...   \n",
       "2                 LUCAS TVS LTD-PONDY,PONDY,PONDICHERRY   \n",
       "3     DAIMLER INDIA COMMERCIAL VEHICLES,KANCHIPURAM,...   \n",
       "4                 LUCAS TVS LTD-PONDY,PONDY,PONDICHERRY   \n",
       "...                                                 ...   \n",
       "6874               Mugabala, Bangalore Rural, Karnataka   \n",
       "6876             Ramamurthy Nagar, Bangalore, Karnataka   \n",
       "6877               Mugabala, Bangalore Rural, Karnataka   \n",
       "6878               Mugabala, Bangalore Rural, Karnataka   \n",
       "6879               Mugabala, Bangalore Rural, Karnataka   \n",
       "\n",
       "                                   Destination_Location  \\\n",
       "0          ASHOK LEYLAND PLANT 1- HOSUR,HOSUR,KARNATAKA   \n",
       "1     DAIMLER INDIA COMMERCIAL VEHICLES,KANCHIPURAM,...   \n",
       "2                 LUCAS TVS LTD-PONDY,PONDY,PONDICHERRY   \n",
       "3     DAIMLER INDIA COMMERCIAL VEHICLES,KANCHIPURAM,...   \n",
       "4                 LUCAS TVS LTD-PONDY,PONDY,PONDICHERRY   \n",
       "...                                                 ...   \n",
       "6874  Bangalore International Airport, Bangalore, Ka...   \n",
       "6876  Bangalore International Airport, Bangalore, Ka...   \n",
       "6877                       Anekal, Bangalore, Karnataka   \n",
       "6878                       Anekal, Bangalore, Karnataka   \n",
       "6879                       Anekal, Bangalore, Karnataka   \n",
       "\n",
       "                                Org_lat_lon  \\\n",
       "0                           13.1550,80.1960   \n",
       "1                           12.8390,79.9540   \n",
       "2                           11.8710,79.7390   \n",
       "3                           12.8390,79.9540   \n",
       "4                           11.8720,79.6320   \n",
       "...                                     ...   \n",
       "6874  16.560192249175344,80.792293091599547   \n",
       "6876  13.007503209603689,77.665098855934886   \n",
       "6877  16.560192249175344,80.792293091599547   \n",
       "6878  16.560192249175344,80.792293091599547   \n",
       "6879  16.560192249175344,80.792293091599547   \n",
       "\n",
       "                                Des_lat_lon      Data_Ping_time  ...  \\\n",
       "0                           12.7400,77.8200 2020-08-24 00:05:09  ...   \n",
       "1                           12.8390,79.9540 2020-08-28 12:40:28  ...   \n",
       "2                           11.8710,79.7390 2020-08-28 09:05:09  ...   \n",
       "3                           12.8390,79.9540 2020-08-28 12:40:31  ...   \n",
       "4                           11.8720,79.6320 2020-08-28 12:40:29  ...   \n",
       "...                                     ...                 ...  ...   \n",
       "6874  13.199089183304451,77.708554234959038 2019-06-14 15:20:12  ...   \n",
       "6876  13.196312912801169,77.708156925688726 2019-06-14 15:20:12  ...   \n",
       "6877                    12.722686,77.676518 2019-06-14 15:20:12  ...   \n",
       "6878  12.896896847817695,77.712223056874862 2019-06-14 15:20:12  ...   \n",
       "6879  13.199089183304451,77.708554234959038 2019-06-14 15:20:12  ...   \n",
       "\n",
       "                      vehicleType Minimum_kms_to_be_covered_in_a_day  \\\n",
       "0     32 FT Single-Axle 7MT - HCV                              250.0   \n",
       "1     32 FT Multi-Axle 14MT - HCV                              250.0   \n",
       "2       1 MT Tata Ace (Open Body)                              250.0   \n",
       "3     32 FT Multi-Axle 14MT - HCV                              250.0   \n",
       "4     32 FT Multi-Axle 14MT - HCV                              250.0   \n",
       "...                           ...                                ...   \n",
       "6874       40 FT 3XL Trailer 35MT                              250.0   \n",
       "6876       40 FT 3XL Trailer 35MT                              250.0   \n",
       "6877       40 FT 3XL Trailer 35MT                              250.0   \n",
       "6878       40 FT 3XL Trailer 35MT                              250.0   \n",
       "6879       40 FT 3XL Trailer 35MT                              250.0   \n",
       "\n",
       "     Driver_Name Driver_MobileNo  customerID  \\\n",
       "0           MANU    8.930762e+09  ALLEXCHE45   \n",
       "1         RAMESH    8.930762e+09  DMREXCHEUX   \n",
       "2           GIRI    8.930762e+09  LUTGCCHE06   \n",
       "3           RAVI    8.930762e+09  DMREXCHEUX   \n",
       "4          TAMIL    8.930762e+09  LUTGCCHE06   \n",
       "...          ...             ...         ...   \n",
       "6874        MANU    8.930762e+09  LTLEXMUM40   \n",
       "6876        MANU    8.930762e+09  LTLEXMUM40   \n",
       "6877        MANU    8.930762e+09  LTLEXMUM40   \n",
       "6878        MANU    8.930762e+09  LTLEXMUM40   \n",
       "6879        MANU    8.930762e+09  LTLEXMUM40   \n",
       "\n",
       "                              customerNameCode  supplierID   supplierNameCode  \\\n",
       "0                        Ashok leyland limited  VIJEXHOSR7    VIJAY TRANSPORT   \n",
       "1     Daimler india commercial vehicles pvt lt  VJLEXSHE09       VJ LOGISTICS   \n",
       "2                                Lucas tvs ltd  GSTEXLAK1Q     G.S. TRANSPORT   \n",
       "3     Daimler india commercial vehicles pvt lt  ARVEXNAM09  ARVINTH TRANSPORT   \n",
       "4                                Lucas tvs ltd  SRTEXKOR96      SR TRANSPORTS   \n",
       "...                                        ...         ...                ...   \n",
       "6874                   Larsen & toubro limited       55556     A S TRANSPORTS   \n",
       "6876                   Larsen & toubro limited       55556     A S TRANSPORTS   \n",
       "6877                   Larsen & toubro limited       55556     A S TRANSPORTS   \n",
       "6878                   Larsen & toubro limited       55556     A S TRANSPORTS   \n",
       "6879                   Larsen & toubro limited       55556     A S TRANSPORTS   \n",
       "\n",
       "              Material Shipped trip_duration_hours  \n",
       "0        BRACKET / GRAB HANDLE          263.650958  \n",
       "1        ZB MODEL PLATE / 3143           20.406946  \n",
       "2             LETTERING / FUSO           22.107443  \n",
       "3     LU STRUT RA / RADIUS ROD           12.045277  \n",
       "4         WISHBONE / V ROD/HDT           13.150591  \n",
       "...                        ...                 ...  \n",
       "6874               HORN NP.027            3.250000  \n",
       "6876        CONTROL LEVER ASSY            2.350000  \n",
       "6877    SPARE PARTS AUTOMOBILE            4.150000  \n",
       "6878    SPARE PARTS AUTOMOBILE            1.100000  \n",
       "6879    SPARE PARTS AUTOMOBILE            3.250000  \n",
       "\n",
       "[6839 rows x 33 columns]"
      ]
     },
     "execution_count": 6,
     "metadata": {},
     "output_type": "execute_result"
    }
   ],
   "source": [
    "# Converter colunas de data para o tipo datetime\n",
    "date_cols = [\n",
    "    \"BookingID_Date\",\n",
    "    \"Planned_ETA\",\n",
    "    \"actual_eta\",\n",
    "    \"trip_start_date\",\n",
    "    \"trip_end_date\",\n",
    "]\n",
    "for col in date_cols:\n",
    "    if col in df.columns:\n",
    "        df[col] = pd.to_datetime(df[col], errors=\"coerce\")\n",
    "df.info()\n",
    "df[\"trip_duration_hours\"] = (\n",
    "    df[\"actual_eta\"] - df[\"trip_start_date\"]\n",
    ").dt.total_seconds() / 3600\n",
    "\n",
    "\n",
    "df[\"trip_duration_hours\"] = (\n",
    "    df[\"actual_eta\"] - df[\"trip_start_date\"]\n",
    ").dt.total_seconds() / 3600\n",
    "\n",
    "\n",
    "# Remover registros com duração de viagem negativa ou zero - outliers absurdos\n",
    "df = df[df[\"trip_duration_hours\"] > 0]\n",
    "df"
   ]
  },
  {
   "cell_type": "markdown",
   "metadata": {},
   "source": [
    "### 2.6 visao geral do dataframe depois de tratada"
   ]
  },
  {
   "cell_type": "code",
   "execution_count": 7,
   "metadata": {
    "ExecuteTime": {
     "end_time": "2025-09-22T20:34:04.760778Z",
     "start_time": "2025-09-22T20:34:04.731161Z"
    }
   },
   "outputs": [
    {
     "data": {
      "text/html": [
       "<div>\n",
       "<style scoped>\n",
       "    .dataframe tbody tr th:only-of-type {\n",
       "        vertical-align: middle;\n",
       "    }\n",
       "\n",
       "    .dataframe tbody tr th {\n",
       "        vertical-align: top;\n",
       "    }\n",
       "\n",
       "    .dataframe thead th {\n",
       "        text-align: right;\n",
       "    }\n",
       "</style>\n",
       "<table border=\"1\" class=\"dataframe\">\n",
       "  <thead>\n",
       "    <tr style=\"text-align: right;\">\n",
       "      <th></th>\n",
       "      <th>GpsProvider</th>\n",
       "      <th>BookingID</th>\n",
       "      <th>Market/Regular</th>\n",
       "      <th>BookingID_Date</th>\n",
       "      <th>vehicle_no</th>\n",
       "      <th>Origin_Location</th>\n",
       "      <th>Destination_Location</th>\n",
       "      <th>Org_lat_lon</th>\n",
       "      <th>Des_lat_lon</th>\n",
       "      <th>Data_Ping_time</th>\n",
       "      <th>...</th>\n",
       "      <th>vehicleType</th>\n",
       "      <th>Minimum_kms_to_be_covered_in_a_day</th>\n",
       "      <th>Driver_Name</th>\n",
       "      <th>Driver_MobileNo</th>\n",
       "      <th>customerID</th>\n",
       "      <th>customerNameCode</th>\n",
       "      <th>supplierID</th>\n",
       "      <th>supplierNameCode</th>\n",
       "      <th>Material Shipped</th>\n",
       "      <th>trip_duration_hours</th>\n",
       "    </tr>\n",
       "  </thead>\n",
       "  <tbody>\n",
       "    <tr>\n",
       "      <th>0</th>\n",
       "      <td>CONSENT TRACK</td>\n",
       "      <td>MVCV0000927/082021</td>\n",
       "      <td>Market</td>\n",
       "      <td>2020-08-17 14:59:01.000</td>\n",
       "      <td>KA590408</td>\n",
       "      <td>TVSLSL-PUZHAL-HUB,CHENNAI,TAMIL NADU</td>\n",
       "      <td>ASHOK LEYLAND PLANT 1- HOSUR,HOSUR,KARNATAKA</td>\n",
       "      <td>13.1550,80.1960</td>\n",
       "      <td>12.7400,77.8200</td>\n",
       "      <td>2020-08-24 00:05:09</td>\n",
       "      <td>...</td>\n",
       "      <td>32 FT Single-Axle 7MT - HCV</td>\n",
       "      <td>250.0</td>\n",
       "      <td>MANU</td>\n",
       "      <td>8.930762e+09</td>\n",
       "      <td>ALLEXCHE45</td>\n",
       "      <td>Ashok leyland limited</td>\n",
       "      <td>VIJEXHOSR7</td>\n",
       "      <td>VIJAY TRANSPORT</td>\n",
       "      <td>BRACKET / GRAB HANDLE</td>\n",
       "      <td>263.650958</td>\n",
       "    </tr>\n",
       "    <tr>\n",
       "      <th>1</th>\n",
       "      <td>VAMOSYS</td>\n",
       "      <td>VCV00014271/082021</td>\n",
       "      <td>Regular</td>\n",
       "      <td>2020-08-27 16:22:22.827</td>\n",
       "      <td>TN30BC5917</td>\n",
       "      <td>DAIMLER INDIA COMMERCIAL VEHICLES,KANCHIPURAM,...</td>\n",
       "      <td>DAIMLER INDIA COMMERCIAL VEHICLES,KANCHIPURAM,...</td>\n",
       "      <td>12.8390,79.9540</td>\n",
       "      <td>12.8390,79.9540</td>\n",
       "      <td>2020-08-28 12:40:28</td>\n",
       "      <td>...</td>\n",
       "      <td>32 FT Multi-Axle 14MT - HCV</td>\n",
       "      <td>250.0</td>\n",
       "      <td>RAMESH</td>\n",
       "      <td>8.930762e+09</td>\n",
       "      <td>DMREXCHEUX</td>\n",
       "      <td>Daimler india commercial vehicles pvt lt</td>\n",
       "      <td>VJLEXSHE09</td>\n",
       "      <td>VJ LOGISTICS</td>\n",
       "      <td>ZB MODEL PLATE / 3143</td>\n",
       "      <td>20.406946</td>\n",
       "    </tr>\n",
       "    <tr>\n",
       "      <th>2</th>\n",
       "      <td>CONSENT TRACK</td>\n",
       "      <td>VCV00014382/082021</td>\n",
       "      <td>Regular</td>\n",
       "      <td>2020-08-27 17:59:24.987</td>\n",
       "      <td>TN22AR2748</td>\n",
       "      <td>LUCAS TVS LTD-PONDY,PONDY,PONDICHERRY</td>\n",
       "      <td>LUCAS TVS LTD-PONDY,PONDY,PONDICHERRY</td>\n",
       "      <td>11.8710,79.7390</td>\n",
       "      <td>11.8710,79.7390</td>\n",
       "      <td>2020-08-28 09:05:09</td>\n",
       "      <td>...</td>\n",
       "      <td>1 MT Tata Ace (Open Body)</td>\n",
       "      <td>250.0</td>\n",
       "      <td>GIRI</td>\n",
       "      <td>8.930762e+09</td>\n",
       "      <td>LUTGCCHE06</td>\n",
       "      <td>Lucas tvs ltd</td>\n",
       "      <td>GSTEXLAK1Q</td>\n",
       "      <td>G.S. TRANSPORT</td>\n",
       "      <td>LETTERING / FUSO</td>\n",
       "      <td>22.107443</td>\n",
       "    </tr>\n",
       "    <tr>\n",
       "      <th>3</th>\n",
       "      <td>VAMOSYS</td>\n",
       "      <td>VCV00014743/082021</td>\n",
       "      <td>Regular</td>\n",
       "      <td>2020-08-28 00:48:24.503</td>\n",
       "      <td>TN28AQ0781</td>\n",
       "      <td>DAIMLER INDIA COMMERCIAL VEHICLES,KANCHIPURAM,...</td>\n",
       "      <td>DAIMLER INDIA COMMERCIAL VEHICLES,KANCHIPURAM,...</td>\n",
       "      <td>12.8390,79.9540</td>\n",
       "      <td>12.8390,79.9540</td>\n",
       "      <td>2020-08-28 12:40:31</td>\n",
       "      <td>...</td>\n",
       "      <td>32 FT Multi-Axle 14MT - HCV</td>\n",
       "      <td>250.0</td>\n",
       "      <td>RAVI</td>\n",
       "      <td>8.930762e+09</td>\n",
       "      <td>DMREXCHEUX</td>\n",
       "      <td>Daimler india commercial vehicles pvt lt</td>\n",
       "      <td>ARVEXNAM09</td>\n",
       "      <td>ARVINTH TRANSPORT</td>\n",
       "      <td>LU STRUT RA / RADIUS ROD</td>\n",
       "      <td>12.045277</td>\n",
       "    </tr>\n",
       "    <tr>\n",
       "      <th>4</th>\n",
       "      <td>VAMOSYS</td>\n",
       "      <td>VCV00014744/082021</td>\n",
       "      <td>Regular</td>\n",
       "      <td>2020-08-28 01:23:19.243</td>\n",
       "      <td>TN68F1722</td>\n",
       "      <td>LUCAS TVS LTD-PONDY,PONDY,PONDICHERRY</td>\n",
       "      <td>LUCAS TVS LTD-PONDY,PONDY,PONDICHERRY</td>\n",
       "      <td>11.8720,79.6320</td>\n",
       "      <td>11.8720,79.6320</td>\n",
       "      <td>2020-08-28 12:40:29</td>\n",
       "      <td>...</td>\n",
       "      <td>32 FT Multi-Axle 14MT - HCV</td>\n",
       "      <td>250.0</td>\n",
       "      <td>TAMIL</td>\n",
       "      <td>8.930762e+09</td>\n",
       "      <td>LUTGCCHE06</td>\n",
       "      <td>Lucas tvs ltd</td>\n",
       "      <td>SRTEXKOR96</td>\n",
       "      <td>SR TRANSPORTS</td>\n",
       "      <td>WISHBONE / V ROD/HDT</td>\n",
       "      <td>13.150591</td>\n",
       "    </tr>\n",
       "  </tbody>\n",
       "</table>\n",
       "<p>5 rows × 33 columns</p>\n",
       "</div>"
      ],
      "text/plain": [
       "     GpsProvider           BookingID Market/Regular           BookingID_Date  \\\n",
       "0  CONSENT TRACK  MVCV0000927/082021          Market 2020-08-17 14:59:01.000   \n",
       "1        VAMOSYS  VCV00014271/082021         Regular 2020-08-27 16:22:22.827   \n",
       "2  CONSENT TRACK  VCV00014382/082021         Regular 2020-08-27 17:59:24.987   \n",
       "3        VAMOSYS  VCV00014743/082021         Regular 2020-08-28 00:48:24.503   \n",
       "4        VAMOSYS  VCV00014744/082021         Regular 2020-08-28 01:23:19.243   \n",
       "\n",
       "   vehicle_no                                    Origin_Location  \\\n",
       "0    KA590408               TVSLSL-PUZHAL-HUB,CHENNAI,TAMIL NADU   \n",
       "1  TN30BC5917  DAIMLER INDIA COMMERCIAL VEHICLES,KANCHIPURAM,...   \n",
       "2  TN22AR2748              LUCAS TVS LTD-PONDY,PONDY,PONDICHERRY   \n",
       "3  TN28AQ0781  DAIMLER INDIA COMMERCIAL VEHICLES,KANCHIPURAM,...   \n",
       "4   TN68F1722              LUCAS TVS LTD-PONDY,PONDY,PONDICHERRY   \n",
       "\n",
       "                                Destination_Location      Org_lat_lon  \\\n",
       "0       ASHOK LEYLAND PLANT 1- HOSUR,HOSUR,KARNATAKA  13.1550,80.1960   \n",
       "1  DAIMLER INDIA COMMERCIAL VEHICLES,KANCHIPURAM,...  12.8390,79.9540   \n",
       "2              LUCAS TVS LTD-PONDY,PONDY,PONDICHERRY  11.8710,79.7390   \n",
       "3  DAIMLER INDIA COMMERCIAL VEHICLES,KANCHIPURAM,...  12.8390,79.9540   \n",
       "4              LUCAS TVS LTD-PONDY,PONDY,PONDICHERRY  11.8720,79.6320   \n",
       "\n",
       "       Des_lat_lon      Data_Ping_time  ...                  vehicleType  \\\n",
       "0  12.7400,77.8200 2020-08-24 00:05:09  ...  32 FT Single-Axle 7MT - HCV   \n",
       "1  12.8390,79.9540 2020-08-28 12:40:28  ...  32 FT Multi-Axle 14MT - HCV   \n",
       "2  11.8710,79.7390 2020-08-28 09:05:09  ...    1 MT Tata Ace (Open Body)   \n",
       "3  12.8390,79.9540 2020-08-28 12:40:31  ...  32 FT Multi-Axle 14MT - HCV   \n",
       "4  11.8720,79.6320 2020-08-28 12:40:29  ...  32 FT Multi-Axle 14MT - HCV   \n",
       "\n",
       "  Minimum_kms_to_be_covered_in_a_day Driver_Name Driver_MobileNo  customerID  \\\n",
       "0                              250.0        MANU    8.930762e+09  ALLEXCHE45   \n",
       "1                              250.0      RAMESH    8.930762e+09  DMREXCHEUX   \n",
       "2                              250.0        GIRI    8.930762e+09  LUTGCCHE06   \n",
       "3                              250.0        RAVI    8.930762e+09  DMREXCHEUX   \n",
       "4                              250.0       TAMIL    8.930762e+09  LUTGCCHE06   \n",
       "\n",
       "                           customerNameCode  supplierID   supplierNameCode  \\\n",
       "0                     Ashok leyland limited  VIJEXHOSR7    VIJAY TRANSPORT   \n",
       "1  Daimler india commercial vehicles pvt lt  VJLEXSHE09       VJ LOGISTICS   \n",
       "2                             Lucas tvs ltd  GSTEXLAK1Q     G.S. TRANSPORT   \n",
       "3  Daimler india commercial vehicles pvt lt  ARVEXNAM09  ARVINTH TRANSPORT   \n",
       "4                             Lucas tvs ltd  SRTEXKOR96      SR TRANSPORTS   \n",
       "\n",
       "           Material Shipped trip_duration_hours  \n",
       "0     BRACKET / GRAB HANDLE          263.650958  \n",
       "1     ZB MODEL PLATE / 3143           20.406946  \n",
       "2          LETTERING / FUSO           22.107443  \n",
       "3  LU STRUT RA / RADIUS ROD           12.045277  \n",
       "4      WISHBONE / V ROD/HDT           13.150591  \n",
       "\n",
       "[5 rows x 33 columns]"
      ]
     },
     "execution_count": 7,
     "metadata": {},
     "output_type": "execute_result"
    }
   ],
   "source": [
    "df.head()"
   ]
  },
  {
   "cell_type": "markdown",
   "metadata": {},
   "source": [
    "## 3. Análise Exploratória de Dados (EDA)"
   ]
  },
  {
   "cell_type": "markdown",
   "metadata": {},
   "source": [
    "### 3.1. Estatísticas Descritivas\n",
    "Vamos começar com uma visão geral estatística dos dados numéricos e categóricos para entender a sua distribuição e identificar possíveis anomalias."
   ]
  },
  {
   "cell_type": "code",
   "execution_count": 8,
   "metadata": {
    "ExecuteTime": {
     "end_time": "2025-09-22T20:34:05.057116Z",
     "start_time": "2025-09-22T20:34:04.953236Z"
    }
   },
   "outputs": [
    {
     "name": "stdout",
     "output_type": "stream",
     "text": [
      "Estatísticas Descritivas para Colunas Numéricas:\n",
      "                      BookingID_Date                 Data_Ping_time  \\\n",
      "count                           6839                           5889   \n",
      "mean   2020-02-07 17:33:36.753620736  2020-04-05 22:06:27.730707712   \n",
      "min              2019-03-18 12:19:22            2019-06-07 18:25:10   \n",
      "25%              2019-10-11 18:27:01            2019-12-01 07:30:20   \n",
      "50%              2020-01-20 11:07:12            2020-06-19 11:00:29   \n",
      "75%              2020-07-30 11:10:24            2020-08-10 19:35:12   \n",
      "max       2020-08-28 12:44:27.290000            2020-08-28 12:40:31   \n",
      "std                              NaN                            NaN   \n",
      "\n",
      "                         Planned_ETA                     actual_eta  \\\n",
      "count                           6839                           6839   \n",
      "mean   2020-01-28 03:19:45.167716352  2020-02-06 23:26:40.208600576   \n",
      "min              1899-12-30 04:06:00            1899-12-30 03:21:00   \n",
      "25%              2019-10-12 00:55:42  2019-11-09 16:56:26.515000064   \n",
      "50%              2020-01-20 13:31:12  2020-01-30 19:22:00.929999872   \n",
      "75%       2020-08-01 22:14:59.500000  2020-08-06 18:52:49.889999872   \n",
      "max       2020-09-01 16:44:27.290000     2020-08-30 03:21:27.263000   \n",
      "std                              NaN                            NaN   \n",
      "\n",
      "          Curr_lat     Curr_lon                trip_start_date  \\\n",
      "count  6839.000000  6839.000000                           6839   \n",
      "mean     18.519563    78.638771  2020-01-26 03:31:55.766340096   \n",
      "min       8.166790    69.657698            1899-12-30 00:00:00   \n",
      "25%      12.991526    77.282723            2019-10-11 18:27:01   \n",
      "50%      17.470922    77.843340            2020-01-20 11:07:12   \n",
      "75%      22.997011    79.952741            2020-07-30 11:10:24   \n",
      "max      32.367928    95.529550            2020-08-28 12:42:00   \n",
      "std       5.651398     3.933396                            NaN   \n",
      "\n",
      "                       trip_end_date  TRANSPORTATION_DISTANCE_IN_KM  \\\n",
      "count                           6839                    6839.000000   \n",
      "mean   2020-01-23 00:16:20.783537664                     510.264388   \n",
      "min              1899-12-30 03:21:00                       0.000000   \n",
      "25%              2019-10-21 09:57:00                      45.550000   \n",
      "50%              2020-01-10 14:11:00                     160.000000   \n",
      "75%              2020-07-30 15:05:30                     632.000000   \n",
      "max              2020-08-28 12:15:10                    2954.700000   \n",
      "std                              NaN                     726.686388   \n",
      "\n",
      "       Minimum_kms_to_be_covered_in_a_day  Driver_MobileNo  \\\n",
      "count                         6839.000000     6.839000e+03   \n",
      "mean                           250.098699     8.800500e+09   \n",
      "min                              0.000000     6.000546e+09   \n",
      "25%                            250.000000     8.930762e+09   \n",
      "50%                            250.000000     8.930762e+09   \n",
      "75%                            250.000000     8.930762e+09   \n",
      "max                            275.000000     1.000000e+10   \n",
      "std                             15.612710     7.248820e+08   \n",
      "\n",
      "       trip_duration_hours  \n",
      "count          6839.000000  \n",
      "mean            283.912345  \n",
      "min               0.045541  \n",
      "25%              30.480613  \n",
      "50%             107.169889  \n",
      "75%             220.300771  \n",
      "max            7397.818249  \n",
      "std             617.268908  \n",
      "Estatísticas Descritivas para Colunas Categóricas:\n",
      "          GpsProvider           BookingID Market/Regular   vehicle_no  \\\n",
      "count            6839                6839            6839        6839   \n",
      "unique             29                6834               2        2321   \n",
      "top     CONSENT TRACK  MVCV0000798/082021         Regular  TS15UC9341   \n",
      "freq             4800                   3            6770          37   \n",
      "\n",
      "                             Origin_Location  \\\n",
      "count                                   6839   \n",
      "unique                                   180   \n",
      "top     Mugabala, Bangalore Rural, Karnataka   \n",
      "freq                                     571   \n",
      "\n",
      "                                     Destination_Location  \\\n",
      "count                                                6839   \n",
      "unique                                                519   \n",
      "top     DAIMLER INDIA COMMERCIAL VEHICLES,KANCHIPURAM,...   \n",
      "freq                                                  342   \n",
      "\n",
      "                                  Org_lat_lon      Des_lat_lon  \\\n",
      "count                                    6839             6839   \n",
      "unique                                    173              521   \n",
      "top     16.560192249175344,80.792293091599547  12.8390,79.9540   \n",
      "freq                                     1188              342   \n",
      "\n",
      "                                         Current_Location  \\\n",
      "count                                                6839   \n",
      "unique                                               2552   \n",
      "top     Perumalpattu - Kottamedu Rd, Oragadam Industri...   \n",
      "freq                                                 1148   \n",
      "\n",
      "                                      DestinationLocation  ... delay  \\\n",
      "count                                                6839  ...  4327   \n",
      "unique                                                519  ...     1   \n",
      "top     DAIMLER INDIA COMMERCIAL VEHICLES,KANCHIPURAM,...  ...     R   \n",
      "freq                                                  342  ...  4327   \n",
      "\n",
      "       OriginLocation_Code DestinationLocation_Code             vehicleType  \\\n",
      "count                 6839                     6839                    6839   \n",
      "unique                 177                      476                      44   \n",
      "top              V0048673             CHEMMNFILCCA1  40 FT 3XL Trailer 35MT   \n",
      "freq                  1188                      284                    3338   \n",
      "\n",
      "       Driver_Name  customerID         customerNameCode supplierID  \\\n",
      "count         6839        6839                     6839       6839   \n",
      "unique        1350          38                       38        320   \n",
      "top           MANU  LTLEXMUM40  Larsen & toubro limited        999   \n",
      "freq          3480        4083                     4083        739   \n",
      "\n",
      "        supplierNameCode Material Shipped  \n",
      "count               6839             6839  \n",
      "unique               308             1404  \n",
      "top              Unknown       AUTO PARTS  \n",
      "freq                 739             1492  \n",
      "\n",
      "[4 rows x 21 columns]\n",
      "Distribuição da Duração da Viagem (horas):\n",
      "count    6839.000000\n",
      "mean      283.912345\n",
      "std       617.268908\n",
      "min         0.045541\n",
      "25%        30.480613\n",
      "50%       107.169889\n",
      "75%       220.300771\n",
      "max      7397.818249\n",
      "Name: trip_duration_hours, dtype: float64\n"
     ]
    }
   ],
   "source": [
    "print(\"Estatísticas Descritivas para Colunas Numéricas:\")\n",
    "print(df.describe())\n",
    "\n",
    "print(\"Estatísticas Descritivas para Colunas Categóricas:\")\n",
    "print(df.describe(include=\"object\"))\n",
    "\n",
    "print(\"Distribuição da Duração da Viagem (horas):\")\n",
    "print(df[\"trip_duration_hours\"].describe())"
   ]
  },
  {
   "cell_type": "markdown",
   "metadata": {},
   "source": [
    "### 3.2. Análise da Distribuição das Variáveis e Identificação de Outliers\n",
    "Vamos analisar a distribuição de algumas variáveis chave e identificar possíveis outliers que possam impactar a análise."
   ]
  },
  {
   "cell_type": "code",
   "execution_count": 9,
   "metadata": {
    "ExecuteTime": {
     "end_time": "2025-09-22T20:34:06.688999Z",
     "start_time": "2025-09-22T20:34:05.387763Z"
    }
   },
   "outputs": [
    {
     "data": {
      "image/png": "[encoded data removed]",
      "text/plain": [
       "<Figure size 1600x600 with 2 Axes>"
      ]
     },
     "metadata": {},
     "output_type": "display_data"
    },
    {
     "data": {
      "image/png": "[encoded data removed]",
      "text/plain": [
       "<Figure size 1600x600 with 2 Axes>"
      ]
     },
     "metadata": {},
     "output_type": "display_data"
    },
    {
     "name": "stdout",
     "output_type": "stream",
     "text": [
      " Número de outliers na duração da viagem: 868\n",
      "Exemplo de outliers na duração da viagem:\n"
     ]
    },
    {
     "data": {
      "text/html": [
       "<div>\n",
       "<style scoped>\n",
       "    .dataframe tbody tr th:only-of-type {\n",
       "        vertical-align: middle;\n",
       "    }\n",
       "\n",
       "    .dataframe tbody tr th {\n",
       "        vertical-align: top;\n",
       "    }\n",
       "\n",
       "    .dataframe thead th {\n",
       "        text-align: right;\n",
       "    }\n",
       "</style>\n",
       "<table border=\"1\" class=\"dataframe\">\n",
       "  <thead>\n",
       "    <tr style=\"text-align: right;\">\n",
       "      <th></th>\n",
       "      <th>BookingID</th>\n",
       "      <th>trip_duration_hours</th>\n",
       "      <th>TRANSPORTATION_DISTANCE_IN_KM</th>\n",
       "    </tr>\n",
       "  </thead>\n",
       "  <tbody>\n",
       "    <tr>\n",
       "      <th>1086</th>\n",
       "      <td>AEIBK2022716</td>\n",
       "      <td>860.913863</td>\n",
       "      <td>1000.0</td>\n",
       "    </tr>\n",
       "    <tr>\n",
       "      <th>1216</th>\n",
       "      <td>AEIBK2023415</td>\n",
       "      <td>633.667401</td>\n",
       "      <td>1900.0</td>\n",
       "    </tr>\n",
       "    <tr>\n",
       "      <th>1358</th>\n",
       "      <td>AEIBK2021224</td>\n",
       "      <td>1244.548892</td>\n",
       "      <td>1199.0</td>\n",
       "    </tr>\n",
       "    <tr>\n",
       "      <th>1359</th>\n",
       "      <td>AEIBK2021709</td>\n",
       "      <td>1098.553873</td>\n",
       "      <td>1330.0</td>\n",
       "    </tr>\n",
       "    <tr>\n",
       "      <th>1360</th>\n",
       "      <td>AEIBK2020139</td>\n",
       "      <td>1619.423786</td>\n",
       "      <td>2230.0</td>\n",
       "    </tr>\n",
       "  </tbody>\n",
       "</table>\n",
       "</div>"
      ],
      "text/plain": [
       "         BookingID  trip_duration_hours  TRANSPORTATION_DISTANCE_IN_KM\n",
       "1086  AEIBK2022716           860.913863                         1000.0\n",
       "1216  AEIBK2023415           633.667401                         1900.0\n",
       "1358  AEIBK2021224          1244.548892                         1199.0\n",
       "1359  AEIBK2021709          1098.553873                         1330.0\n",
       "1360  AEIBK2020139          1619.423786                         2230.0"
      ]
     },
     "metadata": {},
     "output_type": "display_data"
    }
   ],
   "source": [
    "fig, axes = plt.subplots(1, 2, figsize=(16, 6))\n",
    "\n",
    "sns.histplot(df[\"trip_duration_hours\"], bins=50, kde=True, ax=axes[0], color=\"skyblue\")\n",
    "axes[0].set_title(\n",
    "    \"Distribuição da Duração das Viagens (Horas)\", fontsize=14, weight=\"bold\"\n",
    ")\n",
    "axes[0].set_xlabel(\"Duração da Viagem (horas)\")\n",
    "axes[0].set_ylabel(\"Frequência\")\n",
    "axes[0].axvline(\n",
    "    df[\"trip_duration_hours\"].mean(), color=\"red\", linestyle=\"--\", label=\"Média\"\n",
    ")\n",
    "axes[0].axvline(\n",
    "    df[\"trip_duration_hours\"].median(), color=\"green\", linestyle=\"--\", label=\"Mediana\"\n",
    ")\n",
    "axes[0].legend()\n",
    "\n",
    "sns.boxplot(y=df[\"trip_duration_hours\"], ax=axes[1], color=\"lightcoral\")\n",
    "axes[1].set_title(\"Boxplot da Duração das Viagens (Horas)\", fontsize=14, weight=\"bold\")\n",
    "axes[1].set_ylabel(\"Duração da Viagem (horas)\")\n",
    "\n",
    "plt.tight_layout()\n",
    "plt.show()\n",
    "\n",
    "\n",
    "fig, axes = plt.subplots(1, 2, figsize=(16, 6))\n",
    "\n",
    "# Histograma + KDE\n",
    "sns.histplot(\n",
    "    df[\"TRANSPORTATION_DISTANCE_IN_KM\"],\n",
    "    bins=50,\n",
    "    kde=True,\n",
    "    ax=axes[0],\n",
    "    color=\"lightgreen\",\n",
    ")\n",
    "axes[0].set_title(\n",
    "    \"Distribuição da Distância de Transporte (KM)\", fontsize=14, weight=\"bold\"\n",
    ")\n",
    "axes[0].set_xlabel(\"Distância (KM)\")\n",
    "axes[0].set_ylabel(\"Frequência\")\n",
    "axes[0].axvline(\n",
    "    df[\"TRANSPORTATION_DISTANCE_IN_KM\"].mean(),\n",
    "    color=\"red\",\n",
    "    linestyle=\"--\",\n",
    "    label=\"Média\",\n",
    ")\n",
    "axes[0].axvline(\n",
    "    df[\"TRANSPORTATION_DISTANCE_IN_KM\"].median(),\n",
    "    color=\"blue\",\n",
    "    linestyle=\"--\",\n",
    "    label=\"Mediana\",\n",
    ")\n",
    "axes[0].legend()\n",
    "\n",
    "# Boxplot\n",
    "sns.boxplot(y=df[\"TRANSPORTATION_DISTANCE_IN_KM\"], ax=axes[1], color=\"gold\")\n",
    "axes[1].set_title(\"Boxplot da Distância de Transporte (KM)\", fontsize=14, weight=\"bold\")\n",
    "axes[1].set_ylabel(\"Distância (KM)\")\n",
    "\n",
    "plt.tight_layout()\n",
    "plt.show()\n",
    "\n",
    "Q1 = df[\"trip_duration_hours\"].quantile(0.25)\n",
    "Q3 = df[\"trip_duration_hours\"].quantile(0.75)\n",
    "IQR = Q3 - Q1\n",
    "lower_bound = Q1 - 1.5 * IQR\n",
    "upper_bound = Q3 + 1.5 * IQR\n",
    "\n",
    "outliers_duration = df[\n",
    "    (df[\"trip_duration_hours\"] < lower_bound)\n",
    "    | (df[\"trip_duration_hours\"] > upper_bound)\n",
    "]\n",
    "\n",
    "print(f\" Número de outliers na duração da viagem: {len(outliers_duration)}\")\n",
    "print(\"Exemplo de outliers na duração da viagem:\")\n",
    "display(\n",
    "    outliers_duration[\n",
    "        [\"BookingID\", \"trip_duration_hours\", \"TRANSPORTATION_DISTANCE_IN_KM\"]\n",
    "    ].head()\n",
    ")"
   ]
  },
  {
   "cell_type": "markdown",
   "metadata": {},
   "source": [
    "### 3.3. Análise de Correlações\n",
    "Vamos investigar as correlações entre as variáveis numéricas para entender como elas se relacionam."
   ]
  },
  {
   "cell_type": "code",
   "execution_count": 10,
   "metadata": {
    "ExecuteTime": {
     "end_time": "2025-09-22T20:34:07.228670Z",
     "start_time": "2025-09-22T20:34:06.757311Z"
    }
   },
   "outputs": [
    {
     "data": {
      "image/png": "[encoded data removed]",
      "text/plain": [
       "<Figure size 1200x1000 with 2 Axes>"
      ]
     },
     "metadata": {},
     "output_type": "display_data"
    },
    {
     "name": "stdout",
     "output_type": "stream",
     "text": [
      "Matriz de Correlação:\n",
      "                                    Curr_lat  Curr_lon  \\\n",
      "Curr_lat                            1.000000  0.021358   \n",
      "Curr_lon                            0.021358  1.000000   \n",
      "TRANSPORTATION_DISTANCE_IN_KM       0.094940 -0.068186   \n",
      "Minimum_kms_to_be_covered_in_a_day  0.032770  0.022626   \n",
      "Driver_MobileNo                    -0.112216 -0.004931   \n",
      "trip_duration_hours                 0.132646  0.060713   \n",
      "\n",
      "                                    TRANSPORTATION_DISTANCE_IN_KM  \\\n",
      "Curr_lat                                                 0.094940   \n",
      "Curr_lon                                                -0.068186   \n",
      "TRANSPORTATION_DISTANCE_IN_KM                            1.000000   \n",
      "Minimum_kms_to_be_covered_in_a_day                       0.020870   \n",
      "Driver_MobileNo                                         -0.180822   \n",
      "trip_duration_hours                                     -0.064279   \n",
      "\n",
      "                                    Minimum_kms_to_be_covered_in_a_day  \\\n",
      "Curr_lat                                                      0.032770   \n",
      "Curr_lon                                                      0.022626   \n",
      "TRANSPORTATION_DISTANCE_IN_KM                                 0.020870   \n",
      "Minimum_kms_to_be_covered_in_a_day                            1.000000   \n",
      "Driver_MobileNo                                               0.000583   \n",
      "trip_duration_hours                                          -0.019483   \n",
      "\n",
      "                                    Driver_MobileNo  trip_duration_hours  \n",
      "Curr_lat                                  -0.112216             0.132646  \n",
      "Curr_lon                                  -0.004931             0.060713  \n",
      "TRANSPORTATION_DISTANCE_IN_KM             -0.180822            -0.064279  \n",
      "Minimum_kms_to_be_covered_in_a_day         0.000583            -0.019483  \n",
      "Driver_MobileNo                            1.000000             0.021537  \n",
      "trip_duration_hours                        0.021537             1.000000  \n"
     ]
    }
   ],
   "source": [
    "numeric_cols = df.select_dtypes(include=np.number).columns.tolist()\n",
    "correlation_matrix = df[numeric_cols].corr()\n",
    "\n",
    "plt.figure(figsize=(12, 10))\n",
    "sns.heatmap(correlation_matrix, annot=True, cmap=\"coolwarm\", fmt=\".2f\")\n",
    "plt.title(\"Matriz de Correlação das Variáveis Numéricas\")\n",
    "plt.show()\n",
    "\n",
    "print(\"Matriz de Correlação:\")\n",
    "print(correlation_matrix)"
   ]
  },
  {
   "cell_type": "markdown",
   "metadata": {},
   "source": [
    "## 4. Visualizações"
   ]
  },
  {
   "cell_type": "markdown",
   "metadata": {},
   "source": [
    "### 4.1. Distribuição de Entregas no Prazo vs. Atrasadas (Matplotlib/Seaborn)\n",
    "Este gráfico de barras mostra a proporção de entregas que foram realizadas no prazo (G) versus as que foram atrasadas (R). É crucial para entender a eficiência geral das operações de logística."
   ]
  },
  {
   "cell_type": "code",
   "execution_count": 11,
   "metadata": {
    "ExecuteTime": {
     "end_time": "2025-09-22T20:34:07.756441Z",
     "start_time": "2025-09-22T20:34:07.606840Z"
    }
   },
   "outputs": [
    {
     "name": "stdout",
     "output_type": "stream",
     "text": [
      "ontime\n",
      "G    2523\n",
      "Name: count, dtype: int64\n",
      "delay\n",
      "R    4327\n",
      "Name: count, dtype: int64\n"
     ]
    },
    {
     "data": {
      "image/png": "[encoded data removed]",
      "text/plain": [
       "<Figure size 800x600 with 1 Axes>"
      ]
     },
     "metadata": {},
     "output_type": "display_data"
    }
   ],
   "source": [
    "delivery_status_ontime = df[\"ontime\"].value_counts()\n",
    "delivery_status_delay = df[\"delay\"].value_counts()\n",
    "\n",
    "print(delivery_status_ontime)\n",
    "print(delivery_status_delay)\n",
    "\n",
    "plt.figure(figsize=(8, 6))\n",
    "\n",
    "plt.bar(\n",
    "    delivery_status_ontime.index.astype(str),\n",
    "    delivery_status_ontime.values,\n",
    "    label=\"Ontime\",\n",
    ")\n",
    "plt.bar(\n",
    "    delivery_status_delay.index.astype(str),\n",
    "    delivery_status_delay.values,\n",
    "    label=\"Delay\",\n",
    "    alpha=0.7,\n",
    ")\n",
    "\n",
    "plt.title(\"Distribuição de Entregas (Ontime vs Delay)\")\n",
    "plt.xlabel(\"Status\")\n",
    "plt.ylabel(\"Quantidade\")\n",
    "plt.xticks(ticks=[0, 1], labels=[\"Ontime (G)\", \"Delay (R)\"])\n",
    "plt.grid(axis=\"y\", linestyle=\"--\", alpha=0.7)\n",
    "plt.legend()\n",
    "plt.show()"
   ]
  },
  {
   "cell_type": "markdown",
   "metadata": {},
   "source": [
    "### 4.2. Distribuição da Duração da Viagem (Seaborn)\n",
    "Um histograma com KDE (Kernel Density Estimate) para a duração da viagem em horas nos permite visualizar a forma da distribuição, identificar picos e a dispersão dos dados. Isso ajuda a entender o tempo típico de viagem e a presença de viagens excepcionalmente longas ou curtas."
   ]
  },
  {
   "cell_type": "code",
   "execution_count": 12,
   "metadata": {
    "ExecuteTime": {
     "end_time": "2025-09-22T20:34:08.144616Z",
     "start_time": "2025-09-22T20:34:07.793926Z"
    }
   },
   "outputs": [
    {
     "data": {
      "image/png": "[encoded data removed]",
      "text/plain": [
       "<Figure size 1200x700 with 1 Axes>"
      ]
     },
     "metadata": {},
     "output_type": "display_data"
    }
   ],
   "source": [
    "plt.figure(figsize=(12, 7))\n",
    "sns.histplot(df[\"trip_duration_hours\"], bins=50, kde=True, color=\"skyblue\")\n",
    "plt.title(\"Distribuição da Duração da Viagem em Horas\", fontsize=16)\n",
    "plt.xlabel(\"Duração da Viagem (horas)\", fontsize=12)\n",
    "plt.ylabel(\"Frequência\", fontsize=12)\n",
    "plt.grid(axis=\"y\", linestyle=\"--\", alpha=0.7)\n",
    "\n",
    "mean = df[\"trip_duration_hours\"].mean()\n",
    "median = df[\"trip_duration_hours\"].median()\n",
    "\n",
    "plt.axvline(mean, color=\"red\", linestyle=\"--\", label=f\"Média: {mean:.2f}h\")\n",
    "plt.axvline(median, color=\"green\", linestyle=\"-\", label=f\"Mediana: {median:.2f}h\")\n",
    "\n",
    "limite = df[\"trip_duration_hours\"].quantile(0.95)\n",
    "plt.xlim(0, limite)\n",
    "\n",
    "plt.legend()\n",
    "plt.show()"
   ]
  },
  {
   "cell_type": "markdown",
   "metadata": {},
   "source": [
    "### 4.3. Boxplot da Duração da Viagem para Identificação de Outliers (Matplotlib/Seaborn)\n",
    "O boxplot é uma ferramenta eficaz para visualizar a mediana, quartis e identificar outliers na duração da viagem. Outliers podem indicar viagens com problemas, erros de registro ou eventos incomuns que merecem investigação."
   ]
  },
  {
   "cell_type": "code",
   "execution_count": 13,
   "metadata": {
    "ExecuteTime": {
     "end_time": "2025-09-22T20:34:08.406108Z",
     "start_time": "2025-09-22T20:34:08.221510Z"
    }
   },
   "outputs": [
    {
     "data": {
      "image/png": "[encoded data removed]",
      "text/plain": [
       "<Figure size 1000x500 with 1 Axes>"
      ]
     },
     "metadata": {},
     "output_type": "display_data"
    }
   ],
   "source": [
    "plt.figure(figsize=(10, 5))\n",
    "sns.boxplot(x=df[\"trip_duration_hours\"], color=\"lightcoral\", fliersize=3, linewidth=1.2)\n",
    "\n",
    "# Título e rótulos\n",
    "plt.title(\"Boxplot da Duração da Viagem em Horas\", fontsize=16)\n",
    "plt.xlabel(\"Duração da Viagem (horas)\", fontsize=12)\n",
    "plt.grid(axis=\"x\", linestyle=\"--\", alpha=0.7)\n",
    "\n",
    "mean = df[\"trip_duration_hours\"].mean()\n",
    "median = df[\"trip_duration_hours\"].median()\n",
    "plt.axvline(mean, color=\"blue\", linestyle=\"--\", label=f\"Média: {mean:.2f}h\")\n",
    "plt.axvline(median, color=\"green\", linestyle=\"-\", label=f\"Mediana: {median:.2f}h\")\n",
    "\n",
    "limite = df[\"trip_duration_hours\"].quantile(0.95)\n",
    "plt.xlim(0, limite)\n",
    "\n",
    "plt.legend()\n",
    "plt.show()"
   ]
  },
  {
   "cell_type": "markdown",
   "metadata": {},
   "source": [
    "### 4.4. Matriz de Correlação Interativa (Plotly)\n",
    "Um mapa de calor interativo da matriz de correlação permite explorar a relação entre todas as variáveis numéricas. Cores mais quentes indicam correlação positiva forte, enquanto cores mais frias indicam correlação negativa forte. A interatividade do Plotly permite inspecionar os valores exatos das correlações ao passar o mouse."
   ]
  },
  {
   "cell_type": "code",
   "execution_count": 14,
   "metadata": {
    "ExecuteTime": {
     "end_time": "2025-09-22T20:34:08.679851Z",
     "start_time": "2025-09-22T20:34:08.564337Z"
    }
   },
   "outputs": [
    {
     "data": {
      "application/vnd.plotly.v1+json": {
       "config": {
        "plotlyServerURL": "https://plot.ly"
       },
       "data": [
        {
         "coloraxis": "coloraxis",
         "hovertemplate": "x: %{x}<br>y: %{y}<br>color: %{z}<extra></extra>",
         "name": "0",
         "texttemplate": "%{z}",
         "type": "heatmap",
         "x": [
          "Curr_lat",
          "Curr_lon",
          "TRANSPORTATION_DISTANCE_IN_KM",
          "Minimum_kms_to_be_covered_in_a_day",
          "Driver_MobileNo",
          "trip_duration_hours"
         ],
         "xaxis": "x",
         "y": [
          "Curr_lat",
          "Curr_lon",
          "TRANSPORTATION_DISTANCE_IN_KM",
          "Minimum_kms_to_be_covered_in_a_day",
          "Driver_MobileNo",
          "trip_duration_hours"
         ],
         "yaxis": "y",
         "z": {
          "bdata": "AAAAAAAA8D9DQ1Tdyt6VP5xFiCn7Tbg/KTzYJkvHoD/LI0iwNLq8v2eM6tqH+sA/Q0NU3crelT8AAAAAAADwP8c3QZeddLG/3VMWbycrlz8TABlcYjJ0v/dHCRC4Fa8/nEWIKftNuD/HN0GXnXSxvwAAAAAAAPA/+DrnuQxflT83pMQeKSXHv4QLUl2edLC/KTzYJkvHoD/dUxZvJyuXP/g657kMX5U/AAAAAAAA8D8CdvNV3B1DP2YxJv5385O/yyNIsDS6vL8TABlcYjJ0vzekxB4pJce/AnbzVdwdQz8AAAAAAADwPwaw8dLoDZY/Z4zq2of6wD/3RwkQuBWvP4QLUl2edLC/ZjEm/nfzk78GsPHS6A2WPwAAAAAAAPA/",
          "dtype": "f8",
          "shape": "6, 6"
         }
        }
       ],
       "layout": {
        "coloraxis": {
         "colorscale": [
          [
           0,
           "rgb(5,48,97)"
          ],
          [
           0.1,
           "rgb(33,102,172)"
          ],
          [
           0.2,
           "rgb(67,147,195)"
          ],
          [
           0.3,
           "rgb(146,197,222)"
          ],
          [
           0.4,
           "rgb(209,229,240)"
          ],
          [
           0.5,
           "rgb(247,247,247)"
          ],
          [
           0.6,
           "rgb(253,219,199)"
          ],
          [
           0.7,
           "rgb(244,165,130)"
          ],
          [
           0.8,
           "rgb(214,96,77)"
          ],
          [
           0.9,
           "rgb(178,24,43)"
          ],
          [
           1,
           "rgb(103,0,31)"
          ]
         ]
        },
        "template": {
         "data": {
          "bar": [
           {
            "error_x": {
             "color": "#2a3f5f"
            },
            "error_y": {
             "color": "#2a3f5f"
            },
            "marker": {
             "line": {
              "color": "#E5ECF6",
              "width": 0.5
             },
             "pattern": {
              "fillmode": "overlay",
              "size": 10,
              "solidity": 0.2
             }
            },
            "type": "bar"
           }
          ],
          "barpolar": [
           {
            "marker": {
             "line": {
              "color": "#E5ECF6",
              "width": 0.5
             },
             "pattern": {
              "fillmode": "overlay",
              "size": 10,
              "solidity": 0.2
             }
            },
            "type": "barpolar"
           }
          ],
          "carpet": [
           {
            "aaxis": {
             "endlinecolor": "#2a3f5f",
             "gridcolor": "white",
             "linecolor": "white",
             "minorgridcolor": "white",
             "startlinecolor": "#2a3f5f"
            },
            "baxis": {
             "endlinecolor": "#2a3f5f",
             "gridcolor": "white",
             "linecolor": "white",
             "minorgridcolor": "white",
             "startlinecolor": "#2a3f5f"
            },
            "type": "carpet"
           }
          ],
          "choropleth": [
           {
            "colorbar": {
             "outlinewidth": 0,
             "ticks": ""
            },
            "type": "choropleth"
           }
          ],
          "contour": [
           {
            "colorbar": {
             "outlinewidth": 0,
             "ticks": ""
            },
            "colorscale": [
             [
              0,
              "#0d0887"
             ],
             [
              0.1111111111111111,
              "#46039f"
             ],
             [
              0.2222222222222222,
              "#7201a8"
             ],
             [
              0.3333333333333333,
              "#9c179e"
             ],
             [
              0.4444444444444444,
              "#bd3786"
             ],
             [
              0.5555555555555556,
              "#d8576b"
             ],
             [
              0.6666666666666666,
              "#ed7953"
             ],
             [
              0.7777777777777778,
              "#fb9f3a"
             ],
             [
              0.8888888888888888,
              "#fdca26"
             ],
             [
              1,
              "#f0f921"
             ]
            ],
            "type": "contour"
           }
          ],
          "contourcarpet": [
           {
            "colorbar": {
             "outlinewidth": 0,
             "ticks": ""
            },
            "type": "contourcarpet"
           }
          ],
          "heatmap": [
           {
            "colorbar": {
             "outlinewidth": 0,
             "ticks": ""
            },
            "colorscale": [
             [
              0,
              "#0d0887"
             ],
             [
              0.1111111111111111,
              "#46039f"
             ],
             [
              0.2222222222222222,
              "#7201a8"
             ],
             [
              0.3333333333333333,
              "#9c179e"
             ],
             [
              0.4444444444444444,
              "#bd3786"
             ],
             [
              0.5555555555555556,
              "#d8576b"
             ],
             [
              0.6666666666666666,
              "#ed7953"
             ],
             [
              0.7777777777777778,
              "#fb9f3a"
             ],
             [
              0.8888888888888888,
              "#fdca26"
             ],
             [
              1,
              "#f0f921"
             ]
            ],
            "type": "heatmap"
           }
          ],
          "histogram": [
           {
            "marker": {
             "pattern": {
              "fillmode": "overlay",
              "size": 10,
              "solidity": 0.2
             }
            },
            "type": "histogram"
           }
          ],
          "histogram2d": [
           {
            "colorbar": {
             "outlinewidth": 0,
             "ticks": ""
            },
            "colorscale": [
             [
              0,
              "#0d0887"
             ],
             [
              0.1111111111111111,
              "#46039f"
             ],
             [
              0.2222222222222222,
              "#7201a8"
             ],
             [
              0.3333333333333333,
              "#9c179e"
             ],
             [
              0.4444444444444444,
              "#bd3786"
             ],
             [
              0.5555555555555556,
              "#d8576b"
             ],
             [
              0.6666666666666666,
              "#ed7953"
             ],
             [
              0.7777777777777778,
              "#fb9f3a"
             ],
             [
              0.8888888888888888,
              "#fdca26"
             ],
             [
              1,
              "#f0f921"
             ]
            ],
            "type": "histogram2d"
           }
          ],
          "histogram2dcontour": [
           {
            "colorbar": {
             "outlinewidth": 0,
             "ticks": ""
            },
            "colorscale": [
             [
              0,
              "#0d0887"
             ],
             [
              0.1111111111111111,
              "#46039f"
             ],
             [
              0.2222222222222222,
              "#7201a8"
             ],
             [
              0.3333333333333333,
              "#9c179e"
             ],
             [
              0.4444444444444444,
              "#bd3786"
             ],
             [
              0.5555555555555556,
              "#d8576b"
             ],
             [
              0.6666666666666666,
              "#ed7953"
             ],
             [
              0.7777777777777778,
              "#fb9f3a"
             ],
             [
              0.8888888888888888,
              "#fdca26"
             ],
             [
              1,
              "#f0f921"
             ]
            ],
            "type": "histogram2dcontour"
           }
          ],
          "mesh3d": [
           {
            "colorbar": {
             "outlinewidth": 0,
             "ticks": ""
            },
            "type": "mesh3d"
           }
          ],
          "parcoords": [
           {
            "line": {
             "colorbar": {
              "outlinewidth": 0,
              "ticks": ""
             }
            },
            "type": "parcoords"
           }
          ],
          "pie": [
           {
            "automargin": true,
            "type": "pie"
           }
          ],
          "scatter": [
           {
            "fillpattern": {
             "fillmode": "overlay",
             "size": 10,
             "solidity": 0.2
            },
            "type": "scatter"
           }
          ],
          "scatter3d": [
           {
            "line": {
             "colorbar": {
              "outlinewidth": 0,
              "ticks": ""
             }
            },
            "marker": {
             "colorbar": {
              "outlinewidth": 0,
              "ticks": ""
             }
            },
            "type": "scatter3d"
           }
          ],
          "scattercarpet": [
           {
            "marker": {
             "colorbar": {
              "outlinewidth": 0,
              "ticks": ""
             }
            },
            "type": "scattercarpet"
           }
          ],
          "scattergeo": [
           {
            "marker": {
             "colorbar": {
              "outlinewidth": 0,
              "ticks": ""
             }
            },
            "type": "scattergeo"
           }
          ],
          "scattergl": [
           {
            "marker": {
             "colorbar": {
              "outlinewidth": 0,
              "ticks": ""
             }
            },
            "type": "scattergl"
           }
          ],
          "scattermap": [
           {
            "marker": {
             "colorbar": {
              "outlinewidth": 0,
              "ticks": ""
             }
            },
            "type": "scattermap"
           }
          ],
          "scattermapbox": [
           {
            "marker": {
             "colorbar": {
              "outlinewidth": 0,
              "ticks": ""
             }
            },
            "type": "scattermapbox"
           }
          ],
          "scatterpolar": [
           {
            "marker": {
             "colorbar": {
              "outlinewidth": 0,
              "ticks": ""
             }
            },
            "type": "scatterpolar"
           }
          ],
          "scatterpolargl": [
           {
            "marker": {
             "colorbar": {
              "outlinewidth": 0,
              "ticks": ""
             }
            },
            "type": "scatterpolargl"
           }
          ],
          "scatterternary": [
           {
            "marker": {
             "colorbar": {
              "outlinewidth": 0,
              "ticks": ""
             }
            },
            "type": "scatterternary"
           }
          ],
          "surface": [
           {
            "colorbar": {
             "outlinewidth": 0,
             "ticks": ""
            },
            "colorscale": [
             [
              0,
              "#0d0887"
             ],
             [
              0.1111111111111111,
              "#46039f"
             ],
             [
              0.2222222222222222,
              "#7201a8"
             ],
             [
              0.3333333333333333,
              "#9c179e"
             ],
             [
              0.4444444444444444,
              "#bd3786"
             ],
             [
              0.5555555555555556,
              "#d8576b"
             ],
             [
              0.6666666666666666,
              "#ed7953"
             ],
             [
              0.7777777777777778,
              "#fb9f3a"
             ],
             [
              0.8888888888888888,
              "#fdca26"
             ],
             [
              1,
              "#f0f921"
             ]
            ],
            "type": "surface"
           }
          ],
          "table": [
           {
            "cells": {
             "fill": {
              "color": "#EBF0F8"
             },
             "line": {
              "color": "white"
             }
            },
            "header": {
             "fill": {
              "color": "#C8D4E3"
             },
             "line": {
              "color": "white"
             }
            },
            "type": "table"
           }
          ]
         },
         "layout": {
          "annotationdefaults": {
           "arrowcolor": "#2a3f5f",
           "arrowhead": 0,
           "arrowwidth": 1
          },
          "autotypenumbers": "strict",
          "coloraxis": {
           "colorbar": {
            "outlinewidth": 0,
            "ticks": ""
           }
          },
          "colorscale": {
           "diverging": [
            [
             0,
             "#8e0152"
            ],
            [
             0.1,
             "#c51b7d"
            ],
            [
             0.2,
             "#de77ae"
            ],
            [
             0.3,
             "#f1b6da"
            ],
            [
             0.4,
             "#fde0ef"
            ],
            [
             0.5,
             "#f7f7f7"
            ],
            [
             0.6,
             "#e6f5d0"
            ],
            [
             0.7,
             "#b8e186"
            ],
            [
             0.8,
             "#7fbc41"
            ],
            [
             0.9,
             "#4d9221"
            ],
            [
             1,
             "#276419"
            ]
           ],
           "sequential": [
            [
             0,
             "#0d0887"
            ],
            [
             0.1111111111111111,
             "#46039f"
            ],
            [
             0.2222222222222222,
             "#7201a8"
            ],
            [
             0.3333333333333333,
             "#9c179e"
            ],
            [
             0.4444444444444444,
             "#bd3786"
            ],
            [
             0.5555555555555556,
             "#d8576b"
            ],
            [
             0.6666666666666666,
             "#ed7953"
            ],
            [
             0.7777777777777778,
             "#fb9f3a"
            ],
            [
             0.8888888888888888,
             "#fdca26"
            ],
            [
             1,
             "#f0f921"
            ]
           ],
           "sequentialminus": [
            [
             0,
             "#0d0887"
            ],
            [
             0.1111111111111111,
             "#46039f"
            ],
            [
             0.2222222222222222,
             "#7201a8"
            ],
            [
             0.3333333333333333,
             "#9c179e"
            ],
            [
             0.4444444444444444,
             "#bd3786"
            ],
            [
             0.5555555555555556,
             "#d8576b"
            ],
            [
             0.6666666666666666,
             "#ed7953"
            ],
            [
             0.7777777777777778,
             "#fb9f3a"
            ],
            [
             0.8888888888888888,
             "#fdca26"
            ],
            [
             1,
             "#f0f921"
            ]
           ]
          },
          "colorway": [
           "#636efa",
           "#EF553B",
           "#00cc96",
           "#ab63fa",
           "#FFA15A",
           "#19d3f3",
           "#FF6692",
           "#B6E880",
           "#FF97FF",
           "#FECB52"
          ],
          "font": {
           "color": "#2a3f5f"
          },
          "geo": {
           "bgcolor": "white",
           "lakecolor": "white",
           "landcolor": "#E5ECF6",
           "showlakes": true,
           "showland": true,
           "subunitcolor": "white"
          },
          "hoverlabel": {
           "align": "left"
          },
          "hovermode": "closest",
          "mapbox": {
           "style": "light"
          },
          "paper_bgcolor": "white",
          "plot_bgcolor": "#E5ECF6",
          "polar": {
           "angularaxis": {
            "gridcolor": "white",
            "linecolor": "white",
            "ticks": ""
           },
           "bgcolor": "#E5ECF6",
           "radialaxis": {
            "gridcolor": "white",
            "linecolor": "white",
            "ticks": ""
           }
          },
          "scene": {
           "xaxis": {
            "backgroundcolor": "#E5ECF6",
            "gridcolor": "white",
            "gridwidth": 2,
            "linecolor": "white",
            "showbackground": true,
            "ticks": "",
            "zerolinecolor": "white"
           },
           "yaxis": {
            "backgroundcolor": "#E5ECF6",
            "gridcolor": "white",
            "gridwidth": 2,
            "linecolor": "white",
            "showbackground": true,
            "ticks": "",
            "zerolinecolor": "white"
           },
           "zaxis": {
            "backgroundcolor": "#E5ECF6",
            "gridcolor": "white",
            "gridwidth": 2,
            "linecolor": "white",
            "showbackground": true,
            "ticks": "",
            "zerolinecolor": "white"
           }
          },
          "shapedefaults": {
           "line": {
            "color": "#2a3f5f"
           }
          },
          "ternary": {
           "aaxis": {
            "gridcolor": "white",
            "linecolor": "white",
            "ticks": ""
           },
           "baxis": {
            "gridcolor": "white",
            "linecolor": "white",
            "ticks": ""
           },
           "bgcolor": "#E5ECF6",
           "caxis": {
            "gridcolor": "white",
            "linecolor": "white",
            "ticks": ""
           }
          },
          "title": {
           "x": 0.05
          },
          "xaxis": {
           "automargin": true,
           "gridcolor": "white",
           "linecolor": "white",
           "ticks": "",
           "title": {
            "standoff": 15
           },
           "zerolinecolor": "white",
           "zerolinewidth": 2
          },
          "yaxis": {
           "automargin": true,
           "gridcolor": "white",
           "linecolor": "white",
           "ticks": "",
           "title": {
            "standoff": 15
           },
           "zerolinecolor": "white",
           "zerolinewidth": 2
          }
         }
        },
        "title": {
         "font": {
          "size": 16
         },
         "text": "Matriz de Correlação das Variáveis Numéricas"
        },
        "xaxis": {
         "anchor": "y",
         "domain": [
          0,
          1
         ]
        },
        "yaxis": {
         "anchor": "x",
         "autorange": "reversed",
         "domain": [
          0,
          1
         ]
        }
       }
      }
     },
     "metadata": {},
     "output_type": "display_data"
    }
   ],
   "source": [
    "numeric_cols = df.select_dtypes(include=np.number).columns.tolist()\n",
    "correlation_matrix = df[numeric_cols].corr()\n",
    "\n",
    "fig = px.imshow(\n",
    "    correlation_matrix,\n",
    "    text_auto=True,\n",
    "    aspect=\"auto\",\n",
    "    title=\"Matriz de Correlação das Variáveis Numéricas\",\n",
    "    color_continuous_scale=\"RdBu_r\",\n",
    ")\n",
    "fig.update_layout(title_font_size=16)\n",
    "fig.show()"
   ]
  },
  {
   "cell_type": "markdown",
   "metadata": {},
   "source": [
    "### 4.5. Relação entre Distância e Duração da Viagem (Seaborn)\n",
    "Um gráfico de dispersão entre a distância de transporte e a duração da viagem pode revelar se há uma relação linear entre essas duas variáveis. A cor pode ser usada para diferenciar entregas no prazo e atrasadas, adicionando uma camada de insight sobre como a distância afeta a pontualidade."
   ]
  },
  {
   "cell_type": "code",
   "execution_count": 15,
   "metadata": {
    "ExecuteTime": {
     "end_time": "2025-09-22T20:34:09.406378Z",
     "start_time": "2025-09-22T20:34:08.771862Z"
    }
   },
   "outputs": [
    {
     "data": {
      "image/png": "[encoded data removed]",
      "text/plain": [
       "<Figure size 1200x700 with 1 Axes>"
      ]
     },
     "metadata": {},
     "output_type": "display_data"
    }
   ],
   "source": [
    "plt.figure(figsize=(12, 7))\n",
    "\n",
    "sns.scatterplot(\n",
    "    x=\"TRANSPORTATION_DISTANCE_IN_KM\",\n",
    "    y=\"trip_duration_hours\",\n",
    "    hue=\"ontime\",\n",
    "    data=df,\n",
    "    alpha=0.5,\n",
    "    s=40,\n",
    "    palette=\"Set1\",\n",
    ")\n",
    "\n",
    "sns.regplot(\n",
    "    x=\"TRANSPORTATION_DISTANCE_IN_KM\",\n",
    "    y=\"trip_duration_hours\",\n",
    "    data=df,\n",
    "    scatter=False,\n",
    "    color=\"black\",\n",
    "    line_kws={\"linewidth\": 1.5, \"linestyle\": \"--\"},\n",
    ")\n",
    "\n",
    "# Títulos e labels\n",
    "plt.title(\n",
    "    \"Distância de Transporte vs. Duração da Viagem por Status de Entrega\", fontsize=16\n",
    ")\n",
    "plt.xlabel(\"Distância de Transporte (KM)\", fontsize=12)\n",
    "plt.ylabel(\"Duração da Viagem (Horas)\", fontsize=12)\n",
    "plt.grid(linestyle=\"--\", alpha=0.7)\n",
    "\n",
    "# Limitar eixos para evitar distorção\n",
    "x_lim = df[\"TRANSPORTATION_DISTANCE_IN_KM\"].quantile(0.95)\n",
    "y_lim = df[\"trip_duration_hours\"].quantile(0.90)\n",
    "plt.xlim(0, x_lim)\n",
    "plt.ylim(0, y_lim)\n",
    "\n",
    "plt.legend(title=\"Entrega no Prazo\")\n",
    "plt.show()"
   ]
  },
  {
   "cell_type": "markdown",
   "metadata": {},
   "source": [
    "## 5. Conclusão\n",
    "Esta análise exploratória forneceu insights valiosos sobre os dados de logística. Identificamos a distribuição das entregas no prazo e atrasadas, a duração típica das viagens e a presença de outliers. A correlação entre distância e duração da viagem foi explorada, e visualizações interativas foram criadas para facilitar a compreensão dos dados.\n",
    "\n",
    "### Principais Descobertas:\n",
    "- A maioria das entregas está no prazo, mas uma parcela significativa sofre atrasos, indicando uma área para otimização.\n",
    "- A duração das viagens e as distâncias percorridas variam amplamente, com alguns outliers que podem representar rotas incomuns ou problemas específicos.\n",
    "- Existe uma correlação positiva entre a distância de transporte e a duração da viagem, como esperado, mas a análise detalhada pode revelar ineficiências em certas rotas ou tipos de veículos.\n",
    "\n",
    "### Sugestões para Análises Futuras:\n",
    "- Investigar os fatores que contribuem para os atrasos nas entregas (e.g., tipo de veículo, rota, condições climáticas, horário de pico).\n",
    "- Realizar uma análise mais aprofundada dos outliers para entender suas causas e se devem ser tratados de forma diferente.\n",
    "- Desenvolver um modelo preditivo para estimar a duração da viagem e a probabilidade de atraso, utilizando variáveis como tipo de veículo, distância, origem e destino.\n",
    "- Analisar o impacto de diferentes provedores de GPS e fornecedores na eficiência das entregas."
   ]
  },
  {
   "cell_type": "markdown",
   "metadata": {},
   "source": [
    "# 6. Modelo Preditivo\n",
    "\n",
    "O modelo preditivo será desenvolvido para prever caso uma viagem atrase ou não, utilizando as colunas delay e ontime como variáveis alvo.\n",
    "Transformaremos elas em variáveis binárias, onde 1 representa que esta dentro do prazo e 0 representa o atraso com nome de TARGET.\n",
    "Faremos o tratamento necessário e apresentaremos o melhor modelo utilizado."
   ]
  },
  {
   "cell_type": "code",
   "execution_count": 16,
   "metadata": {
    "ExecuteTime": {
     "end_time": "2025-09-22T20:34:09.531285Z",
     "start_time": "2025-09-22T20:34:09.492172Z"
    }
   },
   "outputs": [
    {
     "name": "stderr",
     "output_type": "stream",
     "text": [
      "C:\\Users\\migue\\AppData\\Local\\Temp\\ipykernel_15624\\2941311455.py:1: SettingWithCopyWarning:\n",
      "\n",
      "\n",
      "A value is trying to be set on a copy of a slice from a DataFrame.\n",
      "Try using .loc[row_indexer,col_indexer] = value instead\n",
      "\n",
      "See the caveats in the documentation: https://pandas.pydata.org/pandas-docs/stable/user_guide/indexing.html#returning-a-view-versus-a-copy\n",
      "\n"
     ]
    },
    {
     "data": {
      "text/html": [
       "<div>\n",
       "<style scoped>\n",
       "    .dataframe tbody tr th:only-of-type {\n",
       "        vertical-align: middle;\n",
       "    }\n",
       "\n",
       "    .dataframe tbody tr th {\n",
       "        vertical-align: top;\n",
       "    }\n",
       "\n",
       "    .dataframe thead th {\n",
       "        text-align: right;\n",
       "    }\n",
       "</style>\n",
       "<table border=\"1\" class=\"dataframe\">\n",
       "  <thead>\n",
       "    <tr style=\"text-align: right;\">\n",
       "      <th></th>\n",
       "      <th>GpsProvider</th>\n",
       "      <th>BookingID</th>\n",
       "      <th>Market/Regular</th>\n",
       "      <th>BookingID_Date</th>\n",
       "      <th>vehicle_no</th>\n",
       "      <th>Origin_Location</th>\n",
       "      <th>Destination_Location</th>\n",
       "      <th>Org_lat_lon</th>\n",
       "      <th>Des_lat_lon</th>\n",
       "      <th>Data_Ping_time</th>\n",
       "      <th>...</th>\n",
       "      <th>Minimum_kms_to_be_covered_in_a_day</th>\n",
       "      <th>Driver_Name</th>\n",
       "      <th>Driver_MobileNo</th>\n",
       "      <th>customerID</th>\n",
       "      <th>customerNameCode</th>\n",
       "      <th>supplierID</th>\n",
       "      <th>supplierNameCode</th>\n",
       "      <th>Material Shipped</th>\n",
       "      <th>trip_duration_hours</th>\n",
       "      <th>target</th>\n",
       "    </tr>\n",
       "  </thead>\n",
       "  <tbody>\n",
       "    <tr>\n",
       "      <th>0</th>\n",
       "      <td>CONSENT TRACK</td>\n",
       "      <td>MVCV0000927/082021</td>\n",
       "      <td>Market</td>\n",
       "      <td>2020-08-17 14:59:01.000</td>\n",
       "      <td>KA590408</td>\n",
       "      <td>TVSLSL-PUZHAL-HUB,CHENNAI,TAMIL NADU</td>\n",
       "      <td>ASHOK LEYLAND PLANT 1- HOSUR,HOSUR,KARNATAKA</td>\n",
       "      <td>13.1550,80.1960</td>\n",
       "      <td>12.7400,77.8200</td>\n",
       "      <td>2020-08-24 00:05:09</td>\n",
       "      <td>...</td>\n",
       "      <td>250.0</td>\n",
       "      <td>MANU</td>\n",
       "      <td>8.930762e+09</td>\n",
       "      <td>ALLEXCHE45</td>\n",
       "      <td>Ashok leyland limited</td>\n",
       "      <td>VIJEXHOSR7</td>\n",
       "      <td>VIJAY TRANSPORT</td>\n",
       "      <td>BRACKET / GRAB HANDLE</td>\n",
       "      <td>263.650958</td>\n",
       "      <td>0</td>\n",
       "    </tr>\n",
       "    <tr>\n",
       "      <th>1</th>\n",
       "      <td>VAMOSYS</td>\n",
       "      <td>VCV00014271/082021</td>\n",
       "      <td>Regular</td>\n",
       "      <td>2020-08-27 16:22:22.827</td>\n",
       "      <td>TN30BC5917</td>\n",
       "      <td>DAIMLER INDIA COMMERCIAL VEHICLES,KANCHIPURAM,...</td>\n",
       "      <td>DAIMLER INDIA COMMERCIAL VEHICLES,KANCHIPURAM,...</td>\n",
       "      <td>12.8390,79.9540</td>\n",
       "      <td>12.8390,79.9540</td>\n",
       "      <td>2020-08-28 12:40:28</td>\n",
       "      <td>...</td>\n",
       "      <td>250.0</td>\n",
       "      <td>RAMESH</td>\n",
       "      <td>8.930762e+09</td>\n",
       "      <td>DMREXCHEUX</td>\n",
       "      <td>Daimler india commercial vehicles pvt lt</td>\n",
       "      <td>VJLEXSHE09</td>\n",
       "      <td>VJ LOGISTICS</td>\n",
       "      <td>ZB MODEL PLATE / 3143</td>\n",
       "      <td>20.406946</td>\n",
       "      <td>1</td>\n",
       "    </tr>\n",
       "    <tr>\n",
       "      <th>2</th>\n",
       "      <td>CONSENT TRACK</td>\n",
       "      <td>VCV00014382/082021</td>\n",
       "      <td>Regular</td>\n",
       "      <td>2020-08-27 17:59:24.987</td>\n",
       "      <td>TN22AR2748</td>\n",
       "      <td>LUCAS TVS LTD-PONDY,PONDY,PONDICHERRY</td>\n",
       "      <td>LUCAS TVS LTD-PONDY,PONDY,PONDICHERRY</td>\n",
       "      <td>11.8710,79.7390</td>\n",
       "      <td>11.8710,79.7390</td>\n",
       "      <td>2020-08-28 09:05:09</td>\n",
       "      <td>...</td>\n",
       "      <td>250.0</td>\n",
       "      <td>GIRI</td>\n",
       "      <td>8.930762e+09</td>\n",
       "      <td>LUTGCCHE06</td>\n",
       "      <td>Lucas tvs ltd</td>\n",
       "      <td>GSTEXLAK1Q</td>\n",
       "      <td>G.S. TRANSPORT</td>\n",
       "      <td>LETTERING / FUSO</td>\n",
       "      <td>22.107443</td>\n",
       "      <td>1</td>\n",
       "    </tr>\n",
       "    <tr>\n",
       "      <th>3</th>\n",
       "      <td>VAMOSYS</td>\n",
       "      <td>VCV00014743/082021</td>\n",
       "      <td>Regular</td>\n",
       "      <td>2020-08-28 00:48:24.503</td>\n",
       "      <td>TN28AQ0781</td>\n",
       "      <td>DAIMLER INDIA COMMERCIAL VEHICLES,KANCHIPURAM,...</td>\n",
       "      <td>DAIMLER INDIA COMMERCIAL VEHICLES,KANCHIPURAM,...</td>\n",
       "      <td>12.8390,79.9540</td>\n",
       "      <td>12.8390,79.9540</td>\n",
       "      <td>2020-08-28 12:40:31</td>\n",
       "      <td>...</td>\n",
       "      <td>250.0</td>\n",
       "      <td>RAVI</td>\n",
       "      <td>8.930762e+09</td>\n",
       "      <td>DMREXCHEUX</td>\n",
       "      <td>Daimler india commercial vehicles pvt lt</td>\n",
       "      <td>ARVEXNAM09</td>\n",
       "      <td>ARVINTH TRANSPORT</td>\n",
       "      <td>LU STRUT RA / RADIUS ROD</td>\n",
       "      <td>12.045277</td>\n",
       "      <td>1</td>\n",
       "    </tr>\n",
       "    <tr>\n",
       "      <th>4</th>\n",
       "      <td>VAMOSYS</td>\n",
       "      <td>VCV00014744/082021</td>\n",
       "      <td>Regular</td>\n",
       "      <td>2020-08-28 01:23:19.243</td>\n",
       "      <td>TN68F1722</td>\n",
       "      <td>LUCAS TVS LTD-PONDY,PONDY,PONDICHERRY</td>\n",
       "      <td>LUCAS TVS LTD-PONDY,PONDY,PONDICHERRY</td>\n",
       "      <td>11.8720,79.6320</td>\n",
       "      <td>11.8720,79.6320</td>\n",
       "      <td>2020-08-28 12:40:29</td>\n",
       "      <td>...</td>\n",
       "      <td>250.0</td>\n",
       "      <td>TAMIL</td>\n",
       "      <td>8.930762e+09</td>\n",
       "      <td>LUTGCCHE06</td>\n",
       "      <td>Lucas tvs ltd</td>\n",
       "      <td>SRTEXKOR96</td>\n",
       "      <td>SR TRANSPORTS</td>\n",
       "      <td>WISHBONE / V ROD/HDT</td>\n",
       "      <td>13.150591</td>\n",
       "      <td>1</td>\n",
       "    </tr>\n",
       "    <tr>\n",
       "      <th>...</th>\n",
       "      <td>...</td>\n",
       "      <td>...</td>\n",
       "      <td>...</td>\n",
       "      <td>...</td>\n",
       "      <td>...</td>\n",
       "      <td>...</td>\n",
       "      <td>...</td>\n",
       "      <td>...</td>\n",
       "      <td>...</td>\n",
       "      <td>...</td>\n",
       "      <td>...</td>\n",
       "      <td>...</td>\n",
       "      <td>...</td>\n",
       "      <td>...</td>\n",
       "      <td>...</td>\n",
       "      <td>...</td>\n",
       "      <td>...</td>\n",
       "      <td>...</td>\n",
       "      <td>...</td>\n",
       "      <td>...</td>\n",
       "      <td>...</td>\n",
       "    </tr>\n",
       "    <tr>\n",
       "      <th>6874</th>\n",
       "      <td>JTECH</td>\n",
       "      <td>WDSBKTP45240</td>\n",
       "      <td>Regular</td>\n",
       "      <td>2019-04-23 12:32:42.000</td>\n",
       "      <td>KA21A6239</td>\n",
       "      <td>Mugabala, Bangalore Rural, Karnataka</td>\n",
       "      <td>Bangalore International Airport, Bangalore, Ka...</td>\n",
       "      <td>16.560192249175344,80.792293091599547</td>\n",
       "      <td>13.199089183304451,77.708554234959038</td>\n",
       "      <td>2019-06-14 15:20:12</td>\n",
       "      <td>...</td>\n",
       "      <td>250.0</td>\n",
       "      <td>MANU</td>\n",
       "      <td>8.930762e+09</td>\n",
       "      <td>LTLEXMUM40</td>\n",
       "      <td>Larsen &amp; toubro limited</td>\n",
       "      <td>55556</td>\n",
       "      <td>A S TRANSPORTS</td>\n",
       "      <td>HORN NP.027</td>\n",
       "      <td>3.250000</td>\n",
       "      <td>1</td>\n",
       "    </tr>\n",
       "    <tr>\n",
       "      <th>6876</th>\n",
       "      <td>JTECH</td>\n",
       "      <td>WDSBKTP43203</td>\n",
       "      <td>Regular</td>\n",
       "      <td>2019-03-31 15:02:34.000</td>\n",
       "      <td>KA01AE9163</td>\n",
       "      <td>Ramamurthy Nagar, Bangalore, Karnataka</td>\n",
       "      <td>Bangalore International Airport, Bangalore, Ka...</td>\n",
       "      <td>13.007503209603689,77.665098855934886</td>\n",
       "      <td>13.196312912801169,77.708156925688726</td>\n",
       "      <td>2019-06-14 15:20:12</td>\n",
       "      <td>...</td>\n",
       "      <td>250.0</td>\n",
       "      <td>MANU</td>\n",
       "      <td>8.930762e+09</td>\n",
       "      <td>LTLEXMUM40</td>\n",
       "      <td>Larsen &amp; toubro limited</td>\n",
       "      <td>55556</td>\n",
       "      <td>A S TRANSPORTS</td>\n",
       "      <td>CONTROL LEVER ASSY</td>\n",
       "      <td>2.350000</td>\n",
       "      <td>1</td>\n",
       "    </tr>\n",
       "    <tr>\n",
       "      <th>6877</th>\n",
       "      <td>JTECH</td>\n",
       "      <td>WDSBKTP43021</td>\n",
       "      <td>Regular</td>\n",
       "      <td>2019-03-29 18:56:26.000</td>\n",
       "      <td>KA01AE9163</td>\n",
       "      <td>Mugabala, Bangalore Rural, Karnataka</td>\n",
       "      <td>Anekal, Bangalore, Karnataka</td>\n",
       "      <td>16.560192249175344,80.792293091599547</td>\n",
       "      <td>12.722686,77.676518</td>\n",
       "      <td>2019-06-14 15:20:12</td>\n",
       "      <td>...</td>\n",
       "      <td>250.0</td>\n",
       "      <td>MANU</td>\n",
       "      <td>8.930762e+09</td>\n",
       "      <td>LTLEXMUM40</td>\n",
       "      <td>Larsen &amp; toubro limited</td>\n",
       "      <td>55556</td>\n",
       "      <td>A S TRANSPORTS</td>\n",
       "      <td>SPARE PARTS AUTOMOBILE</td>\n",
       "      <td>4.150000</td>\n",
       "      <td>1</td>\n",
       "    </tr>\n",
       "    <tr>\n",
       "      <th>6878</th>\n",
       "      <td>JTECH</td>\n",
       "      <td>WDSBKTP42685</td>\n",
       "      <td>Regular</td>\n",
       "      <td>2019-03-27 08:29:45.000</td>\n",
       "      <td>KA21A3643</td>\n",
       "      <td>Mugabala, Bangalore Rural, Karnataka</td>\n",
       "      <td>Anekal, Bangalore, Karnataka</td>\n",
       "      <td>16.560192249175344,80.792293091599547</td>\n",
       "      <td>12.896896847817695,77.712223056874862</td>\n",
       "      <td>2019-06-14 15:20:12</td>\n",
       "      <td>...</td>\n",
       "      <td>250.0</td>\n",
       "      <td>MANU</td>\n",
       "      <td>8.930762e+09</td>\n",
       "      <td>LTLEXMUM40</td>\n",
       "      <td>Larsen &amp; toubro limited</td>\n",
       "      <td>55556</td>\n",
       "      <td>A S TRANSPORTS</td>\n",
       "      <td>SPARE PARTS AUTOMOBILE</td>\n",
       "      <td>1.100000</td>\n",
       "      <td>0</td>\n",
       "    </tr>\n",
       "    <tr>\n",
       "      <th>6879</th>\n",
       "      <td>JTECH</td>\n",
       "      <td>WDSBKTP42858</td>\n",
       "      <td>Regular</td>\n",
       "      <td>2019-03-28 17:55:17.000</td>\n",
       "      <td>KA51D1317</td>\n",
       "      <td>Mugabala, Bangalore Rural, Karnataka</td>\n",
       "      <td>Anekal, Bangalore, Karnataka</td>\n",
       "      <td>16.560192249175344,80.792293091599547</td>\n",
       "      <td>13.199089183304451,77.708554234959038</td>\n",
       "      <td>2019-06-14 15:20:12</td>\n",
       "      <td>...</td>\n",
       "      <td>250.0</td>\n",
       "      <td>MANU</td>\n",
       "      <td>8.930762e+09</td>\n",
       "      <td>LTLEXMUM40</td>\n",
       "      <td>Larsen &amp; toubro limited</td>\n",
       "      <td>55556</td>\n",
       "      <td>A S TRANSPORTS</td>\n",
       "      <td>SPARE PARTS AUTOMOBILE</td>\n",
       "      <td>3.250000</td>\n",
       "      <td>1</td>\n",
       "    </tr>\n",
       "  </tbody>\n",
       "</table>\n",
       "<p>6839 rows × 34 columns</p>\n",
       "</div>"
      ],
      "text/plain": [
       "        GpsProvider           BookingID Market/Regular   \\\n",
       "0     CONSENT TRACK  MVCV0000927/082021          Market   \n",
       "1           VAMOSYS  VCV00014271/082021         Regular   \n",
       "2     CONSENT TRACK  VCV00014382/082021         Regular   \n",
       "3           VAMOSYS  VCV00014743/082021         Regular   \n",
       "4           VAMOSYS  VCV00014744/082021         Regular   \n",
       "...             ...                 ...             ...   \n",
       "6874          JTECH        WDSBKTP45240         Regular   \n",
       "6876          JTECH        WDSBKTP43203         Regular   \n",
       "6877          JTECH        WDSBKTP43021         Regular   \n",
       "6878          JTECH        WDSBKTP42685         Regular   \n",
       "6879          JTECH        WDSBKTP42858         Regular   \n",
       "\n",
       "              BookingID_Date  vehicle_no  \\\n",
       "0    2020-08-17 14:59:01.000    KA590408   \n",
       "1    2020-08-27 16:22:22.827  TN30BC5917   \n",
       "2    2020-08-27 17:59:24.987  TN22AR2748   \n",
       "3    2020-08-28 00:48:24.503  TN28AQ0781   \n",
       "4    2020-08-28 01:23:19.243   TN68F1722   \n",
       "...                      ...         ...   \n",
       "6874 2019-04-23 12:32:42.000   KA21A6239   \n",
       "6876 2019-03-31 15:02:34.000  KA01AE9163   \n",
       "6877 2019-03-29 18:56:26.000  KA01AE9163   \n",
       "6878 2019-03-27 08:29:45.000   KA21A3643   \n",
       "6879 2019-03-28 17:55:17.000   KA51D1317   \n",
       "\n",
       "                                        Origin_Location  \\\n",
       "0                  TVSLSL-PUZHAL-HUB,CHENNAI,TAMIL NADU   \n",
       "1     DAIMLER INDIA COMMERCIAL VEHICLES,KANCHIPURAM,...   \n",
       "2                 LUCAS TVS LTD-PONDY,PONDY,PONDICHERRY   \n",
       "3     DAIMLER INDIA COMMERCIAL VEHICLES,KANCHIPURAM,...   \n",
       "4                 LUCAS TVS LTD-PONDY,PONDY,PONDICHERRY   \n",
       "...                                                 ...   \n",
       "6874               Mugabala, Bangalore Rural, Karnataka   \n",
       "6876             Ramamurthy Nagar, Bangalore, Karnataka   \n",
       "6877               Mugabala, Bangalore Rural, Karnataka   \n",
       "6878               Mugabala, Bangalore Rural, Karnataka   \n",
       "6879               Mugabala, Bangalore Rural, Karnataka   \n",
       "\n",
       "                                   Destination_Location  \\\n",
       "0          ASHOK LEYLAND PLANT 1- HOSUR,HOSUR,KARNATAKA   \n",
       "1     DAIMLER INDIA COMMERCIAL VEHICLES,KANCHIPURAM,...   \n",
       "2                 LUCAS TVS LTD-PONDY,PONDY,PONDICHERRY   \n",
       "3     DAIMLER INDIA COMMERCIAL VEHICLES,KANCHIPURAM,...   \n",
       "4                 LUCAS TVS LTD-PONDY,PONDY,PONDICHERRY   \n",
       "...                                                 ...   \n",
       "6874  Bangalore International Airport, Bangalore, Ka...   \n",
       "6876  Bangalore International Airport, Bangalore, Ka...   \n",
       "6877                       Anekal, Bangalore, Karnataka   \n",
       "6878                       Anekal, Bangalore, Karnataka   \n",
       "6879                       Anekal, Bangalore, Karnataka   \n",
       "\n",
       "                                Org_lat_lon  \\\n",
       "0                           13.1550,80.1960   \n",
       "1                           12.8390,79.9540   \n",
       "2                           11.8710,79.7390   \n",
       "3                           12.8390,79.9540   \n",
       "4                           11.8720,79.6320   \n",
       "...                                     ...   \n",
       "6874  16.560192249175344,80.792293091599547   \n",
       "6876  13.007503209603689,77.665098855934886   \n",
       "6877  16.560192249175344,80.792293091599547   \n",
       "6878  16.560192249175344,80.792293091599547   \n",
       "6879  16.560192249175344,80.792293091599547   \n",
       "\n",
       "                                Des_lat_lon      Data_Ping_time  ...  \\\n",
       "0                           12.7400,77.8200 2020-08-24 00:05:09  ...   \n",
       "1                           12.8390,79.9540 2020-08-28 12:40:28  ...   \n",
       "2                           11.8710,79.7390 2020-08-28 09:05:09  ...   \n",
       "3                           12.8390,79.9540 2020-08-28 12:40:31  ...   \n",
       "4                           11.8720,79.6320 2020-08-28 12:40:29  ...   \n",
       "...                                     ...                 ...  ...   \n",
       "6874  13.199089183304451,77.708554234959038 2019-06-14 15:20:12  ...   \n",
       "6876  13.196312912801169,77.708156925688726 2019-06-14 15:20:12  ...   \n",
       "6877                    12.722686,77.676518 2019-06-14 15:20:12  ...   \n",
       "6878  12.896896847817695,77.712223056874862 2019-06-14 15:20:12  ...   \n",
       "6879  13.199089183304451,77.708554234959038 2019-06-14 15:20:12  ...   \n",
       "\n",
       "     Minimum_kms_to_be_covered_in_a_day Driver_Name Driver_MobileNo  \\\n",
       "0                                 250.0        MANU    8.930762e+09   \n",
       "1                                 250.0      RAMESH    8.930762e+09   \n",
       "2                                 250.0        GIRI    8.930762e+09   \n",
       "3                                 250.0        RAVI    8.930762e+09   \n",
       "4                                 250.0       TAMIL    8.930762e+09   \n",
       "...                                 ...         ...             ...   \n",
       "6874                              250.0        MANU    8.930762e+09   \n",
       "6876                              250.0        MANU    8.930762e+09   \n",
       "6877                              250.0        MANU    8.930762e+09   \n",
       "6878                              250.0        MANU    8.930762e+09   \n",
       "6879                              250.0        MANU    8.930762e+09   \n",
       "\n",
       "      customerID                          customerNameCode  supplierID  \\\n",
       "0     ALLEXCHE45                     Ashok leyland limited  VIJEXHOSR7   \n",
       "1     DMREXCHEUX  Daimler india commercial vehicles pvt lt  VJLEXSHE09   \n",
       "2     LUTGCCHE06                             Lucas tvs ltd  GSTEXLAK1Q   \n",
       "3     DMREXCHEUX  Daimler india commercial vehicles pvt lt  ARVEXNAM09   \n",
       "4     LUTGCCHE06                             Lucas tvs ltd  SRTEXKOR96   \n",
       "...          ...                                       ...         ...   \n",
       "6874  LTLEXMUM40                   Larsen & toubro limited       55556   \n",
       "6876  LTLEXMUM40                   Larsen & toubro limited       55556   \n",
       "6877  LTLEXMUM40                   Larsen & toubro limited       55556   \n",
       "6878  LTLEXMUM40                   Larsen & toubro limited       55556   \n",
       "6879  LTLEXMUM40                   Larsen & toubro limited       55556   \n",
       "\n",
       "       supplierNameCode          Material Shipped trip_duration_hours target  \n",
       "0       VIJAY TRANSPORT     BRACKET / GRAB HANDLE          263.650958      0  \n",
       "1          VJ LOGISTICS     ZB MODEL PLATE / 3143           20.406946      1  \n",
       "2        G.S. TRANSPORT          LETTERING / FUSO           22.107443      1  \n",
       "3     ARVINTH TRANSPORT  LU STRUT RA / RADIUS ROD           12.045277      1  \n",
       "4         SR TRANSPORTS      WISHBONE / V ROD/HDT           13.150591      1  \n",
       "...                 ...                       ...                 ...    ...  \n",
       "6874     A S TRANSPORTS               HORN NP.027            3.250000      1  \n",
       "6876     A S TRANSPORTS        CONTROL LEVER ASSY            2.350000      1  \n",
       "6877     A S TRANSPORTS    SPARE PARTS AUTOMOBILE            4.150000      1  \n",
       "6878     A S TRANSPORTS    SPARE PARTS AUTOMOBILE            1.100000      0  \n",
       "6879     A S TRANSPORTS    SPARE PARTS AUTOMOBILE            3.250000      1  \n",
       "\n",
       "[6839 rows x 34 columns]"
      ]
     },
     "execution_count": 16,
     "metadata": {},
     "output_type": "execute_result"
    }
   ],
   "source": [
    "df[\"target\"] = df[\"ontime\"].apply(lambda x: 1 if x == \"G\" else 0)\n",
    "df"
   ]
  },
  {
   "cell_type": "markdown",
   "metadata": {},
   "source": [
    "### 6.1. retirada de colunas desnecessárias"
   ]
  },
  {
   "cell_type": "code",
   "execution_count": 27,
   "metadata": {
    "ExecuteTime": {
     "end_time": "2025-09-22T20:38:09.402152Z",
     "start_time": "2025-09-22T20:38:09.350304Z"
    }
   },
   "outputs": [
    {
     "data": {
      "text/html": [
       "<div>\n",
       "<style scoped>\n",
       "    .dataframe tbody tr th:only-of-type {\n",
       "        vertical-align: middle;\n",
       "    }\n",
       "\n",
       "    .dataframe tbody tr th {\n",
       "        vertical-align: top;\n",
       "    }\n",
       "\n",
       "    .dataframe thead th {\n",
       "        text-align: right;\n",
       "    }\n",
       "</style>\n",
       "<table border=\"1\" class=\"dataframe\">\n",
       "  <thead>\n",
       "    <tr style=\"text-align: right;\">\n",
       "      <th></th>\n",
       "      <th>GpsProvider</th>\n",
       "      <th>Market/Regular</th>\n",
       "      <th>Planned_ETA</th>\n",
       "      <th>DestinationLocation</th>\n",
       "      <th>Curr_lat</th>\n",
       "      <th>Curr_lon</th>\n",
       "      <th>trip_start_date</th>\n",
       "      <th>TRANSPORTATION_DISTANCE_IN_KM</th>\n",
       "      <th>vehicleType</th>\n",
       "      <th>Minimum_kms_to_be_covered_in_a_day</th>\n",
       "      <th>Material Shipped</th>\n",
       "      <th>trip_duration_hours</th>\n",
       "      <th>target</th>\n",
       "    </tr>\n",
       "  </thead>\n",
       "  <tbody>\n",
       "    <tr>\n",
       "      <th>0</th>\n",
       "      <td>CONSENT TRACK</td>\n",
       "      <td>Market</td>\n",
       "      <td>2020-08-21 18:59:01.000</td>\n",
       "      <td>ASHOK LEYLAND PLANT 1- HOSUR,HOSUR,KARNATAKA</td>\n",
       "      <td>12.663500</td>\n",
       "      <td>78.649870</td>\n",
       "      <td>2020-08-17 14:59:01</td>\n",
       "      <td>320.0</td>\n",
       "      <td>32 FT Single-Axle 7MT - HCV</td>\n",
       "      <td>250.0</td>\n",
       "      <td>BRACKET / GRAB HANDLE</td>\n",
       "      <td>263.650958</td>\n",
       "      <td>0</td>\n",
       "    </tr>\n",
       "    <tr>\n",
       "      <th>1</th>\n",
       "      <td>VAMOSYS</td>\n",
       "      <td>Regular</td>\n",
       "      <td>2020-08-31 20:22:22.827</td>\n",
       "      <td>DAIMLER INDIA COMMERCIAL VEHICLES,KANCHIPURAM,...</td>\n",
       "      <td>12.836757</td>\n",
       "      <td>79.954428</td>\n",
       "      <td>2020-08-27 16:21:52</td>\n",
       "      <td>103.0</td>\n",
       "      <td>32 FT Multi-Axle 14MT - HCV</td>\n",
       "      <td>250.0</td>\n",
       "      <td>ZB MODEL PLATE / 3143</td>\n",
       "      <td>20.406946</td>\n",
       "      <td>1</td>\n",
       "    </tr>\n",
       "    <tr>\n",
       "      <th>2</th>\n",
       "      <td>CONSENT TRACK</td>\n",
       "      <td>Regular</td>\n",
       "      <td>2020-08-31 21:59:24.987</td>\n",
       "      <td>LUCAS TVS LTD-PONDY,PONDY,PONDICHERRY</td>\n",
       "      <td>13.073956</td>\n",
       "      <td>80.225780</td>\n",
       "      <td>2020-08-27 17:57:04</td>\n",
       "      <td>300.0</td>\n",
       "      <td>1 MT Tata Ace (Open Body)</td>\n",
       "      <td>250.0</td>\n",
       "      <td>LETTERING / FUSO</td>\n",
       "      <td>22.107443</td>\n",
       "      <td>1</td>\n",
       "    </tr>\n",
       "    <tr>\n",
       "      <th>3</th>\n",
       "      <td>VAMOSYS</td>\n",
       "      <td>Regular</td>\n",
       "      <td>2020-09-01 04:48:24.503</td>\n",
       "      <td>DAIMLER INDIA COMMERCIAL VEHICLES,KANCHIPURAM,...</td>\n",
       "      <td>12.836686</td>\n",
       "      <td>79.950560</td>\n",
       "      <td>2020-08-28 00:47:45</td>\n",
       "      <td>61.0</td>\n",
       "      <td>32 FT Multi-Axle 14MT - HCV</td>\n",
       "      <td>250.0</td>\n",
       "      <td>LU STRUT RA / RADIUS ROD</td>\n",
       "      <td>12.045277</td>\n",
       "      <td>1</td>\n",
       "    </tr>\n",
       "    <tr>\n",
       "      <th>4</th>\n",
       "      <td>VAMOSYS</td>\n",
       "      <td>Regular</td>\n",
       "      <td>2020-09-01 05:23:19.243</td>\n",
       "      <td>LUCAS TVS LTD-PONDY,PONDY,PONDICHERRY</td>\n",
       "      <td>12.429501</td>\n",
       "      <td>79.831556</td>\n",
       "      <td>2020-08-28 01:13:48</td>\n",
       "      <td>240.0</td>\n",
       "      <td>32 FT Multi-Axle 14MT - HCV</td>\n",
       "      <td>250.0</td>\n",
       "      <td>WISHBONE / V ROD/HDT</td>\n",
       "      <td>13.150591</td>\n",
       "      <td>1</td>\n",
       "    </tr>\n",
       "    <tr>\n",
       "      <th>...</th>\n",
       "      <td>...</td>\n",
       "      <td>...</td>\n",
       "      <td>...</td>\n",
       "      <td>...</td>\n",
       "      <td>...</td>\n",
       "      <td>...</td>\n",
       "      <td>...</td>\n",
       "      <td>...</td>\n",
       "      <td>...</td>\n",
       "      <td>...</td>\n",
       "      <td>...</td>\n",
       "      <td>...</td>\n",
       "      <td>...</td>\n",
       "    </tr>\n",
       "    <tr>\n",
       "      <th>6874</th>\n",
       "      <td>JTECH</td>\n",
       "      <td>Regular</td>\n",
       "      <td>2019-04-24 15:40:00.000</td>\n",
       "      <td>Bangalore International Airport, Bangalore, Ka...</td>\n",
       "      <td>13.024866</td>\n",
       "      <td>77.722378</td>\n",
       "      <td>2019-04-24 11:40:00</td>\n",
       "      <td>40.0</td>\n",
       "      <td>40 FT 3XL Trailer 35MT</td>\n",
       "      <td>250.0</td>\n",
       "      <td>HORN NP.027</td>\n",
       "      <td>3.250000</td>\n",
       "      <td>1</td>\n",
       "    </tr>\n",
       "    <tr>\n",
       "      <th>6876</th>\n",
       "      <td>JTECH</td>\n",
       "      <td>Regular</td>\n",
       "      <td>2019-03-31 20:36:00.000</td>\n",
       "      <td>Bangalore International Airport, Bangalore, Ka...</td>\n",
       "      <td>13.024788</td>\n",
       "      <td>77.722391</td>\n",
       "      <td>2019-03-31 17:30:00</td>\n",
       "      <td>31.0</td>\n",
       "      <td>40 FT 3XL Trailer 35MT</td>\n",
       "      <td>250.0</td>\n",
       "      <td>CONTROL LEVER ASSY</td>\n",
       "      <td>2.350000</td>\n",
       "      <td>1</td>\n",
       "    </tr>\n",
       "    <tr>\n",
       "      <th>6877</th>\n",
       "      <td>JTECH</td>\n",
       "      <td>Regular</td>\n",
       "      <td>2019-03-30 01:38:00.000</td>\n",
       "      <td>Anekal, Bangalore, Karnataka</td>\n",
       "      <td>13.024788</td>\n",
       "      <td>77.722391</td>\n",
       "      <td>2019-03-29 20:44:00</td>\n",
       "      <td>49.0</td>\n",
       "      <td>40 FT 3XL Trailer 35MT</td>\n",
       "      <td>250.0</td>\n",
       "      <td>SPARE PARTS AUTOMOBILE</td>\n",
       "      <td>4.150000</td>\n",
       "      <td>1</td>\n",
       "    </tr>\n",
       "    <tr>\n",
       "      <th>6878</th>\n",
       "      <td>JTECH</td>\n",
       "      <td>Regular</td>\n",
       "      <td>2019-03-27 17:20:00.000</td>\n",
       "      <td>Anekal, Bangalore, Karnataka</td>\n",
       "      <td>13.024747</td>\n",
       "      <td>77.721823</td>\n",
       "      <td>2019-03-27 15:29:00</td>\n",
       "      <td>49.0</td>\n",
       "      <td>40 FT 3XL Trailer 35MT</td>\n",
       "      <td>250.0</td>\n",
       "      <td>SPARE PARTS AUTOMOBILE</td>\n",
       "      <td>1.100000</td>\n",
       "      <td>0</td>\n",
       "    </tr>\n",
       "    <tr>\n",
       "      <th>6879</th>\n",
       "      <td>JTECH</td>\n",
       "      <td>Regular</td>\n",
       "      <td>2019-03-29 00:26:00.000</td>\n",
       "      <td>Anekal, Bangalore, Karnataka</td>\n",
       "      <td>12.991815</td>\n",
       "      <td>77.606038</td>\n",
       "      <td>2019-03-28 20:26:00</td>\n",
       "      <td>49.0</td>\n",
       "      <td>40 FT 3XL Trailer 35MT</td>\n",
       "      <td>250.0</td>\n",
       "      <td>SPARE PARTS AUTOMOBILE</td>\n",
       "      <td>3.250000</td>\n",
       "      <td>1</td>\n",
       "    </tr>\n",
       "  </tbody>\n",
       "</table>\n",
       "<p>6839 rows × 13 columns</p>\n",
       "</div>"
      ],
      "text/plain": [
       "        GpsProvider Market/Regular              Planned_ETA  \\\n",
       "0     CONSENT TRACK          Market 2020-08-21 18:59:01.000   \n",
       "1           VAMOSYS         Regular 2020-08-31 20:22:22.827   \n",
       "2     CONSENT TRACK         Regular 2020-08-31 21:59:24.987   \n",
       "3           VAMOSYS         Regular 2020-09-01 04:48:24.503   \n",
       "4           VAMOSYS         Regular 2020-09-01 05:23:19.243   \n",
       "...             ...             ...                     ...   \n",
       "6874          JTECH         Regular 2019-04-24 15:40:00.000   \n",
       "6876          JTECH         Regular 2019-03-31 20:36:00.000   \n",
       "6877          JTECH         Regular 2019-03-30 01:38:00.000   \n",
       "6878          JTECH         Regular 2019-03-27 17:20:00.000   \n",
       "6879          JTECH         Regular 2019-03-29 00:26:00.000   \n",
       "\n",
       "                                    DestinationLocation   Curr_lat   Curr_lon  \\\n",
       "0          ASHOK LEYLAND PLANT 1- HOSUR,HOSUR,KARNATAKA  12.663500  78.649870   \n",
       "1     DAIMLER INDIA COMMERCIAL VEHICLES,KANCHIPURAM,...  12.836757  79.954428   \n",
       "2                 LUCAS TVS LTD-PONDY,PONDY,PONDICHERRY  13.073956  80.225780   \n",
       "3     DAIMLER INDIA COMMERCIAL VEHICLES,KANCHIPURAM,...  12.836686  79.950560   \n",
       "4                 LUCAS TVS LTD-PONDY,PONDY,PONDICHERRY  12.429501  79.831556   \n",
       "...                                                 ...        ...        ...   \n",
       "6874  Bangalore International Airport, Bangalore, Ka...  13.024866  77.722378   \n",
       "6876  Bangalore International Airport, Bangalore, Ka...  13.024788  77.722391   \n",
       "6877                       Anekal, Bangalore, Karnataka  13.024788  77.722391   \n",
       "6878                       Anekal, Bangalore, Karnataka  13.024747  77.721823   \n",
       "6879                       Anekal, Bangalore, Karnataka  12.991815  77.606038   \n",
       "\n",
       "         trip_start_date  TRANSPORTATION_DISTANCE_IN_KM  \\\n",
       "0    2020-08-17 14:59:01                          320.0   \n",
       "1    2020-08-27 16:21:52                          103.0   \n",
       "2    2020-08-27 17:57:04                          300.0   \n",
       "3    2020-08-28 00:47:45                           61.0   \n",
       "4    2020-08-28 01:13:48                          240.0   \n",
       "...                  ...                            ...   \n",
       "6874 2019-04-24 11:40:00                           40.0   \n",
       "6876 2019-03-31 17:30:00                           31.0   \n",
       "6877 2019-03-29 20:44:00                           49.0   \n",
       "6878 2019-03-27 15:29:00                           49.0   \n",
       "6879 2019-03-28 20:26:00                           49.0   \n",
       "\n",
       "                      vehicleType  Minimum_kms_to_be_covered_in_a_day  \\\n",
       "0     32 FT Single-Axle 7MT - HCV                               250.0   \n",
       "1     32 FT Multi-Axle 14MT - HCV                               250.0   \n",
       "2       1 MT Tata Ace (Open Body)                               250.0   \n",
       "3     32 FT Multi-Axle 14MT - HCV                               250.0   \n",
       "4     32 FT Multi-Axle 14MT - HCV                               250.0   \n",
       "...                           ...                                 ...   \n",
       "6874       40 FT 3XL Trailer 35MT                               250.0   \n",
       "6876       40 FT 3XL Trailer 35MT                               250.0   \n",
       "6877       40 FT 3XL Trailer 35MT                               250.0   \n",
       "6878       40 FT 3XL Trailer 35MT                               250.0   \n",
       "6879       40 FT 3XL Trailer 35MT                               250.0   \n",
       "\n",
       "              Material Shipped  trip_duration_hours  target  \n",
       "0        BRACKET / GRAB HANDLE           263.650958       0  \n",
       "1        ZB MODEL PLATE / 3143            20.406946       1  \n",
       "2             LETTERING / FUSO            22.107443       1  \n",
       "3     LU STRUT RA / RADIUS ROD            12.045277       1  \n",
       "4         WISHBONE / V ROD/HDT            13.150591       1  \n",
       "...                        ...                  ...     ...  \n",
       "6874               HORN NP.027             3.250000       1  \n",
       "6876        CONTROL LEVER ASSY             2.350000       1  \n",
       "6877    SPARE PARTS AUTOMOBILE             4.150000       1  \n",
       "6878    SPARE PARTS AUTOMOBILE             1.100000       0  \n",
       "6879    SPARE PARTS AUTOMOBILE             3.250000       1  \n",
       "\n",
       "[6839 rows x 13 columns]"
      ]
     },
     "execution_count": 27,
     "metadata": {},
     "output_type": "execute_result"
    }
   ],
   "source": [
    "colunas_desnecessarias = [\n",
    "    # Identificador único, não traz informação útil para prever atrasos\n",
    "    \"BookingID\",\n",
    "    # Data/hora bruta do agendamento. Melhor extrair variáveis derivadas (mês, dia da semana, hora)\n",
    "    \"BookingID_Date\",\n",
    "    # Placa do veículo, informação única que não generaliza (melhor usar vehicleType)\n",
    "    \"vehicle_no\",\n",
    "    # Nome do motorista: dado pessoal + não generaliza para outros\n",
    "    \"Driver_Name\",\n",
    "    # Telefone do motorista: dado pessoal e irrelevante para atrasos\n",
    "    \"Driver_MobileNo\",\n",
    "    # Identificador do cliente: é apenas um código\n",
    "    \"customerID\",\n",
    "    # Nome/código do cliente: pode enviesar o modelo, não generaliza (a não ser que queira analisar clientes específicos)\n",
    "    \"customerNameCode\",\n",
    "    # Identificador do fornecedor: apenas um código\n",
    "    \"supplierID\",\n",
    "    # Nome/código do fornecedor: pode enviesar, só faz sentido em análise de fornecedor\n",
    "    \"supplierNameCode\",\n",
    "    # Código da localização de origem (redundante, já temos latitude/longitude)\n",
    "    \"OriginLocation_Code\",\n",
    "    # Código da localização de destino (redundante, já temos latitude/longitude)\n",
    "    \"DestinationLocation_Code\",\n",
    "    # Data/hora de ping do GPS: só se sabe durante a viagem, não pode ser usado na previsão antes de sair\n",
    "    \"Data_Ping_time\",\n",
    "    # ETA real: só se sabe após a viagem (causa vazamento de dados)\n",
    "    \"actual_eta\",\n",
    "    # Data de término da viagem: informação conhecida apenas após a entrega (vazamento de dados)\n",
    "    \"trip_end_date\",\n",
    "    # Ambas já foram usadas para classificar o target\n",
    "    \"delay\",\n",
    "    \"ontime\",\n",
    "    \"Current_Location\",\n",
    "    \"Origin_Location\",\n",
    "    \"Destination_Location\",\n",
    "    \"Org_lat_lon\",\n",
    "    \"Des_lat_lon\",\n",
    "]\n",
    "\n",
    "df = df.drop(columns=[c for c in colunas_desnecessarias if c in df.columns])\n",
    "df"
   ]
  },
  {
   "cell_type": "code",
   "execution_count": 26,
   "metadata": {},
   "outputs": [
    {
     "name": "stdout",
     "output_type": "stream",
     "text": [
      "                         Planned_ETA     Curr_lat     Curr_lon  \\\n",
      "count                           2523  2523.000000  2523.000000   \n",
      "mean   2020-01-14 08:46:40.580752640    16.535321    78.496193   \n",
      "min              1899-12-30 08:58:00     8.194479    70.504600   \n",
      "25%              2019-05-16 20:37:08    12.835837    77.843340   \n",
      "50%              2020-07-19 20:00:35    17.470922    77.843340   \n",
      "75%    2020-08-23 23:16:34.158500096    17.470922    79.950264   \n",
      "max       2020-09-01 16:44:27.290000    31.066338    94.911189   \n",
      "std                              NaN     4.090491     2.969559   \n",
      "\n",
      "                     trip_start_date  TRANSPORTATION_DISTANCE_IN_KM  \\\n",
      "count                           2523                    2523.000000   \n",
      "mean   2020-01-11 03:26:25.146650880                     365.744055   \n",
      "min              1899-12-30 00:00:00                       3.000000   \n",
      "25%              2019-05-15 18:21:23                      70.000000   \n",
      "50%              2020-07-15 18:17:14                     160.000000   \n",
      "75%              2020-08-19 22:45:44                     365.000000   \n",
      "max              2020-08-28 12:42:00                    2723.000000   \n",
      "std                              NaN                     523.296617   \n",
      "\n",
      "       Minimum_kms_to_be_covered_in_a_day  trip_duration_hours  target  \n",
      "count                         2523.000000          2523.000000  2523.0  \n",
      "mean                           251.625050            42.853627     1.0  \n",
      "min                            250.000000             0.045541     1.0  \n",
      "25%                            250.000000             4.150000     1.0  \n",
      "50%                            250.000000            23.883333     1.0  \n",
      "75%                            250.000000            65.410468     1.0  \n",
      "max                            275.000000          2948.266667     1.0  \n",
      "std                              6.164456            78.114710     0.0  \n",
      "                         Planned_ETA     Curr_lat     Curr_lon  \\\n",
      "count                           4316  4316.000000  4316.000000   \n",
      "mean   2020-02-05 04:33:33.321773568    19.679489    78.722117   \n",
      "min              1899-12-30 04:06:00     8.166790    69.657698   \n",
      "25%       2019-11-01 18:40:27.500000    13.070878    76.839257   \n",
      "50%              2019-12-30 20:02:48    19.027505    77.731962   \n",
      "75%    2020-07-12 00:05:07.249999872    24.842642    80.027840   \n",
      "max              2020-08-28 20:42:40    32.367928    95.529550   \n",
      "std                              NaN     6.097987     4.398300   \n",
      "\n",
      "                     trip_start_date  TRANSPORTATION_DISTANCE_IN_KM  \\\n",
      "count                           4316                    4316.000000   \n",
      "mean   2020-02-03 22:01:50.519230976                     594.746501   \n",
      "min              1899-12-30 00:00:00                       0.000000   \n",
      "25%              2019-11-01 16:15:32                      40.000000   \n",
      "50%              2019-12-30 16:18:41                     150.000000   \n",
      "75%    2020-07-09 11:39:13.750000128                    1055.000000   \n",
      "max              2020-08-28 11:43:00                    2954.700000   \n",
      "std                              NaN                     810.824951   \n",
      "\n",
      "       Minimum_kms_to_be_covered_in_a_day  trip_duration_hours  target  \n",
      "count                         4316.000000          4316.000000  4316.0  \n",
      "mean                           249.206441           424.827810     0.0  \n",
      "min                              0.000000             0.283333     0.0  \n",
      "25%                            250.000000           105.524669     0.0  \n",
      "50%                            250.000000           171.265840     0.0  \n",
      "75%                            250.000000           377.875666     0.0  \n",
      "max                            275.000000          7397.818249     0.0  \n",
      "std                             19.024026           739.189156     0.0  \n"
     ]
    }
   ],
   "source": [
    "print(df[df[\"target\"] == 1].describe())\n",
    "print(df[df[\"target\"] == 0].describe())"
   ]
  },
  {
   "cell_type": "markdown",
   "metadata": {},
   "source": [
    "### 6.2. Escolha dos modelos\n",
    "\n",
    "De acordo com os testes realizados em outro notebook, os melhores modelo para esta base foram:\n",
    "<br>\n",
    "**KNN (K-Nearest Neighbors)**.\n",
    "<br>\n",
    "Configurações:\n",
    "- Escalonamento das colunas numéricas com **MinMaxScaler**\n",
    "- Codificação das colunas categóricas com **OrdinalEncoder**\n",
    "- Parâmetros do modelo:\n",
    "  - `n_neighbors = 3`\n",
    "  - `p = 2` (distância euclidiana)\n",
    "  - `weights = 'uniform'`\n",
    "\n",
    "**Random Forest**\n",
    "- Escalonamento das colunas numéricas com **StandardScaler**\n",
    "- Codificação das colunas categóricas com **OrdinalEncoder**\n",
    "- Parametros do modelo:\n",
    "  - `bootstrap = true`\n",
    "  - `criterion = \"gini\"`\n",
    "  - `max_depth = None`\n",
    "  - `max_features = sqrt`\n",
    "  - `min_samples_leaf = 1`\n",
    "  - `min_samples_split = 5`\n",
    "  - `n_estimators = 100`"
   ]
  },
  {
   "cell_type": "markdown",
   "metadata": {},
   "source": [
    "### 6.3. Formatando a base para o treino"
   ]
  },
  {
   "cell_type": "markdown",
   "metadata": {},
   "source": [
    "#### 6.3.1 Indentificando as colunas"
   ]
  },
  {
   "cell_type": "code",
   "execution_count": 18,
   "metadata": {
    "ExecuteTime": {
     "end_time": "2025-09-22T20:37:02.289033Z",
     "start_time": "2025-09-22T20:37:02.263071Z"
    }
   },
   "outputs": [
    {
     "data": {
      "text/html": [
       "<div>\n",
       "<style scoped>\n",
       "    .dataframe tbody tr th:only-of-type {\n",
       "        vertical-align: middle;\n",
       "    }\n",
       "\n",
       "    .dataframe tbody tr th {\n",
       "        vertical-align: top;\n",
       "    }\n",
       "\n",
       "    .dataframe thead th {\n",
       "        text-align: right;\n",
       "    }\n",
       "</style>\n",
       "<table border=\"1\" class=\"dataframe\">\n",
       "  <thead>\n",
       "    <tr style=\"text-align: right;\">\n",
       "      <th></th>\n",
       "      <th>GpsProvider</th>\n",
       "      <th>Market/Regular</th>\n",
       "      <th>Planned_ETA</th>\n",
       "      <th>DestinationLocation</th>\n",
       "      <th>Curr_lat</th>\n",
       "      <th>Curr_lon</th>\n",
       "      <th>trip_start_date</th>\n",
       "      <th>TRANSPORTATION_DISTANCE_IN_KM</th>\n",
       "      <th>vehicleType</th>\n",
       "      <th>Minimum_kms_to_be_covered_in_a_day</th>\n",
       "      <th>Material Shipped</th>\n",
       "      <th>trip_duration_hours</th>\n",
       "      <th>target</th>\n",
       "    </tr>\n",
       "  </thead>\n",
       "  <tbody>\n",
       "    <tr>\n",
       "      <th>0</th>\n",
       "      <td>CONSENT TRACK</td>\n",
       "      <td>Market</td>\n",
       "      <td>2020-08-21 18:59:01.000</td>\n",
       "      <td>ASHOK LEYLAND PLANT 1- HOSUR,HOSUR,KARNATAKA</td>\n",
       "      <td>12.663500</td>\n",
       "      <td>78.649870</td>\n",
       "      <td>2020-08-17 14:59:01</td>\n",
       "      <td>320.0</td>\n",
       "      <td>32 FT Single-Axle 7MT - HCV</td>\n",
       "      <td>250.0</td>\n",
       "      <td>BRACKET / GRAB HANDLE</td>\n",
       "      <td>263.650958</td>\n",
       "      <td>0</td>\n",
       "    </tr>\n",
       "    <tr>\n",
       "      <th>1</th>\n",
       "      <td>VAMOSYS</td>\n",
       "      <td>Regular</td>\n",
       "      <td>2020-08-31 20:22:22.827</td>\n",
       "      <td>DAIMLER INDIA COMMERCIAL VEHICLES,KANCHIPURAM,...</td>\n",
       "      <td>12.836757</td>\n",
       "      <td>79.954428</td>\n",
       "      <td>2020-08-27 16:21:52</td>\n",
       "      <td>103.0</td>\n",
       "      <td>32 FT Multi-Axle 14MT - HCV</td>\n",
       "      <td>250.0</td>\n",
       "      <td>ZB MODEL PLATE / 3143</td>\n",
       "      <td>20.406946</td>\n",
       "      <td>1</td>\n",
       "    </tr>\n",
       "    <tr>\n",
       "      <th>2</th>\n",
       "      <td>CONSENT TRACK</td>\n",
       "      <td>Regular</td>\n",
       "      <td>2020-08-31 21:59:24.987</td>\n",
       "      <td>LUCAS TVS LTD-PONDY,PONDY,PONDICHERRY</td>\n",
       "      <td>13.073956</td>\n",
       "      <td>80.225780</td>\n",
       "      <td>2020-08-27 17:57:04</td>\n",
       "      <td>300.0</td>\n",
       "      <td>1 MT Tata Ace (Open Body)</td>\n",
       "      <td>250.0</td>\n",
       "      <td>LETTERING / FUSO</td>\n",
       "      <td>22.107443</td>\n",
       "      <td>1</td>\n",
       "    </tr>\n",
       "    <tr>\n",
       "      <th>3</th>\n",
       "      <td>VAMOSYS</td>\n",
       "      <td>Regular</td>\n",
       "      <td>2020-09-01 04:48:24.503</td>\n",
       "      <td>DAIMLER INDIA COMMERCIAL VEHICLES,KANCHIPURAM,...</td>\n",
       "      <td>12.836686</td>\n",
       "      <td>79.950560</td>\n",
       "      <td>2020-08-28 00:47:45</td>\n",
       "      <td>61.0</td>\n",
       "      <td>32 FT Multi-Axle 14MT - HCV</td>\n",
       "      <td>250.0</td>\n",
       "      <td>LU STRUT RA / RADIUS ROD</td>\n",
       "      <td>12.045277</td>\n",
       "      <td>1</td>\n",
       "    </tr>\n",
       "    <tr>\n",
       "      <th>4</th>\n",
       "      <td>VAMOSYS</td>\n",
       "      <td>Regular</td>\n",
       "      <td>2020-09-01 05:23:19.243</td>\n",
       "      <td>LUCAS TVS LTD-PONDY,PONDY,PONDICHERRY</td>\n",
       "      <td>12.429501</td>\n",
       "      <td>79.831556</td>\n",
       "      <td>2020-08-28 01:13:48</td>\n",
       "      <td>240.0</td>\n",
       "      <td>32 FT Multi-Axle 14MT - HCV</td>\n",
       "      <td>250.0</td>\n",
       "      <td>WISHBONE / V ROD/HDT</td>\n",
       "      <td>13.150591</td>\n",
       "      <td>1</td>\n",
       "    </tr>\n",
       "    <tr>\n",
       "      <th>...</th>\n",
       "      <td>...</td>\n",
       "      <td>...</td>\n",
       "      <td>...</td>\n",
       "      <td>...</td>\n",
       "      <td>...</td>\n",
       "      <td>...</td>\n",
       "      <td>...</td>\n",
       "      <td>...</td>\n",
       "      <td>...</td>\n",
       "      <td>...</td>\n",
       "      <td>...</td>\n",
       "      <td>...</td>\n",
       "      <td>...</td>\n",
       "    </tr>\n",
       "    <tr>\n",
       "      <th>6874</th>\n",
       "      <td>JTECH</td>\n",
       "      <td>Regular</td>\n",
       "      <td>2019-04-24 15:40:00.000</td>\n",
       "      <td>Bangalore International Airport, Bangalore, Ka...</td>\n",
       "      <td>13.024866</td>\n",
       "      <td>77.722378</td>\n",
       "      <td>2019-04-24 11:40:00</td>\n",
       "      <td>40.0</td>\n",
       "      <td>40 FT 3XL Trailer 35MT</td>\n",
       "      <td>250.0</td>\n",
       "      <td>HORN NP.027</td>\n",
       "      <td>3.250000</td>\n",
       "      <td>1</td>\n",
       "    </tr>\n",
       "    <tr>\n",
       "      <th>6876</th>\n",
       "      <td>JTECH</td>\n",
       "      <td>Regular</td>\n",
       "      <td>2019-03-31 20:36:00.000</td>\n",
       "      <td>Bangalore International Airport, Bangalore, Ka...</td>\n",
       "      <td>13.024788</td>\n",
       "      <td>77.722391</td>\n",
       "      <td>2019-03-31 17:30:00</td>\n",
       "      <td>31.0</td>\n",
       "      <td>40 FT 3XL Trailer 35MT</td>\n",
       "      <td>250.0</td>\n",
       "      <td>CONTROL LEVER ASSY</td>\n",
       "      <td>2.350000</td>\n",
       "      <td>1</td>\n",
       "    </tr>\n",
       "    <tr>\n",
       "      <th>6877</th>\n",
       "      <td>JTECH</td>\n",
       "      <td>Regular</td>\n",
       "      <td>2019-03-30 01:38:00.000</td>\n",
       "      <td>Anekal, Bangalore, Karnataka</td>\n",
       "      <td>13.024788</td>\n",
       "      <td>77.722391</td>\n",
       "      <td>2019-03-29 20:44:00</td>\n",
       "      <td>49.0</td>\n",
       "      <td>40 FT 3XL Trailer 35MT</td>\n",
       "      <td>250.0</td>\n",
       "      <td>SPARE PARTS AUTOMOBILE</td>\n",
       "      <td>4.150000</td>\n",
       "      <td>1</td>\n",
       "    </tr>\n",
       "    <tr>\n",
       "      <th>6878</th>\n",
       "      <td>JTECH</td>\n",
       "      <td>Regular</td>\n",
       "      <td>2019-03-27 17:20:00.000</td>\n",
       "      <td>Anekal, Bangalore, Karnataka</td>\n",
       "      <td>13.024747</td>\n",
       "      <td>77.721823</td>\n",
       "      <td>2019-03-27 15:29:00</td>\n",
       "      <td>49.0</td>\n",
       "      <td>40 FT 3XL Trailer 35MT</td>\n",
       "      <td>250.0</td>\n",
       "      <td>SPARE PARTS AUTOMOBILE</td>\n",
       "      <td>1.100000</td>\n",
       "      <td>0</td>\n",
       "    </tr>\n",
       "    <tr>\n",
       "      <th>6879</th>\n",
       "      <td>JTECH</td>\n",
       "      <td>Regular</td>\n",
       "      <td>2019-03-29 00:26:00.000</td>\n",
       "      <td>Anekal, Bangalore, Karnataka</td>\n",
       "      <td>12.991815</td>\n",
       "      <td>77.606038</td>\n",
       "      <td>2019-03-28 20:26:00</td>\n",
       "      <td>49.0</td>\n",
       "      <td>40 FT 3XL Trailer 35MT</td>\n",
       "      <td>250.0</td>\n",
       "      <td>SPARE PARTS AUTOMOBILE</td>\n",
       "      <td>3.250000</td>\n",
       "      <td>1</td>\n",
       "    </tr>\n",
       "  </tbody>\n",
       "</table>\n",
       "<p>6839 rows × 13 columns</p>\n",
       "</div>"
      ],
      "text/plain": [
       "        GpsProvider Market/Regular              Planned_ETA  \\\n",
       "0     CONSENT TRACK          Market 2020-08-21 18:59:01.000   \n",
       "1           VAMOSYS         Regular 2020-08-31 20:22:22.827   \n",
       "2     CONSENT TRACK         Regular 2020-08-31 21:59:24.987   \n",
       "3           VAMOSYS         Regular 2020-09-01 04:48:24.503   \n",
       "4           VAMOSYS         Regular 2020-09-01 05:23:19.243   \n",
       "...             ...             ...                     ...   \n",
       "6874          JTECH         Regular 2019-04-24 15:40:00.000   \n",
       "6876          JTECH         Regular 2019-03-31 20:36:00.000   \n",
       "6877          JTECH         Regular 2019-03-30 01:38:00.000   \n",
       "6878          JTECH         Regular 2019-03-27 17:20:00.000   \n",
       "6879          JTECH         Regular 2019-03-29 00:26:00.000   \n",
       "\n",
       "                                    DestinationLocation   Curr_lat   Curr_lon  \\\n",
       "0          ASHOK LEYLAND PLANT 1- HOSUR,HOSUR,KARNATAKA  12.663500  78.649870   \n",
       "1     DAIMLER INDIA COMMERCIAL VEHICLES,KANCHIPURAM,...  12.836757  79.954428   \n",
       "2                 LUCAS TVS LTD-PONDY,PONDY,PONDICHERRY  13.073956  80.225780   \n",
       "3     DAIMLER INDIA COMMERCIAL VEHICLES,KANCHIPURAM,...  12.836686  79.950560   \n",
       "4                 LUCAS TVS LTD-PONDY,PONDY,PONDICHERRY  12.429501  79.831556   \n",
       "...                                                 ...        ...        ...   \n",
       "6874  Bangalore International Airport, Bangalore, Ka...  13.024866  77.722378   \n",
       "6876  Bangalore International Airport, Bangalore, Ka...  13.024788  77.722391   \n",
       "6877                       Anekal, Bangalore, Karnataka  13.024788  77.722391   \n",
       "6878                       Anekal, Bangalore, Karnataka  13.024747  77.721823   \n",
       "6879                       Anekal, Bangalore, Karnataka  12.991815  77.606038   \n",
       "\n",
       "         trip_start_date  TRANSPORTATION_DISTANCE_IN_KM  \\\n",
       "0    2020-08-17 14:59:01                          320.0   \n",
       "1    2020-08-27 16:21:52                          103.0   \n",
       "2    2020-08-27 17:57:04                          300.0   \n",
       "3    2020-08-28 00:47:45                           61.0   \n",
       "4    2020-08-28 01:13:48                          240.0   \n",
       "...                  ...                            ...   \n",
       "6874 2019-04-24 11:40:00                           40.0   \n",
       "6876 2019-03-31 17:30:00                           31.0   \n",
       "6877 2019-03-29 20:44:00                           49.0   \n",
       "6878 2019-03-27 15:29:00                           49.0   \n",
       "6879 2019-03-28 20:26:00                           49.0   \n",
       "\n",
       "                      vehicleType  Minimum_kms_to_be_covered_in_a_day  \\\n",
       "0     32 FT Single-Axle 7MT - HCV                               250.0   \n",
       "1     32 FT Multi-Axle 14MT - HCV                               250.0   \n",
       "2       1 MT Tata Ace (Open Body)                               250.0   \n",
       "3     32 FT Multi-Axle 14MT - HCV                               250.0   \n",
       "4     32 FT Multi-Axle 14MT - HCV                               250.0   \n",
       "...                           ...                                 ...   \n",
       "6874       40 FT 3XL Trailer 35MT                               250.0   \n",
       "6876       40 FT 3XL Trailer 35MT                               250.0   \n",
       "6877       40 FT 3XL Trailer 35MT                               250.0   \n",
       "6878       40 FT 3XL Trailer 35MT                               250.0   \n",
       "6879       40 FT 3XL Trailer 35MT                               250.0   \n",
       "\n",
       "              Material Shipped  trip_duration_hours  target  \n",
       "0        BRACKET / GRAB HANDLE           263.650958       0  \n",
       "1        ZB MODEL PLATE / 3143            20.406946       1  \n",
       "2             LETTERING / FUSO            22.107443       1  \n",
       "3     LU STRUT RA / RADIUS ROD            12.045277       1  \n",
       "4         WISHBONE / V ROD/HDT            13.150591       1  \n",
       "...                        ...                  ...     ...  \n",
       "6874               HORN NP.027             3.250000       1  \n",
       "6876        CONTROL LEVER ASSY             2.350000       1  \n",
       "6877    SPARE PARTS AUTOMOBILE             4.150000       1  \n",
       "6878    SPARE PARTS AUTOMOBILE             1.100000       0  \n",
       "6879    SPARE PARTS AUTOMOBILE             3.250000       1  \n",
       "\n",
       "[6839 rows x 13 columns]"
      ]
     },
     "execution_count": 18,
     "metadata": {},
     "output_type": "execute_result"
    }
   ],
   "source": [
    "num_cols = df.select_dtypes(include=[\"int64\", \"float64\"]).columns\n",
    "cat_cols = df.select_dtypes(include=[\"object\"]).columns\n",
    "df"
   ]
  },
  {
   "cell_type": "markdown",
   "metadata": {},
   "source": [
    "#### 6.3.2 Preprocessando as colunas"
   ]
  },
  {
   "cell_type": "code",
   "execution_count": 19,
   "metadata": {
    "ExecuteTime": {
     "end_time": "2025-09-22T20:37:02.409685Z",
     "start_time": "2025-09-22T20:37:02.401273Z"
    }
   },
   "outputs": [],
   "source": [
    "preprocessor_knn = ColumnTransformer(\n",
    "    transformers=[\n",
    "        (\"num\", MinMaxScaler(), num_cols),\n",
    "        (\n",
    "            \"cat\",\n",
    "            OrdinalEncoder(handle_unknown=\"use_encoded_value\", unknown_value=-1),\n",
    "            cat_cols,\n",
    "        ),\n",
    "    ]\n",
    ")\n",
    "\n",
    "preprocessor_rf = ColumnTransformer(\n",
    "    transformers=[\n",
    "        (\"num\", RobustScaler(), num_cols),\n",
    "        (\n",
    "            \"cat\",\n",
    "            OrdinalEncoder(handle_unknown=\"use_encoded_value\", unknown_value=-1),\n",
    "            cat_cols,\n",
    "        ),\n",
    "    ]\n",
    ")"
   ]
  },
  {
   "cell_type": "markdown",
   "metadata": {},
   "source": [
    "### 6.4 Separando o treino e teste"
   ]
  },
  {
   "cell_type": "code",
   "execution_count": 20,
   "metadata": {
    "ExecuteTime": {
     "end_time": "2025-09-22T20:37:02.487981Z",
     "start_time": "2025-09-22T20:37:02.473329Z"
    }
   },
   "outputs": [],
   "source": [
    "X = df\n",
    "y = df.iloc[:, -1]\n",
    "\n",
    "X_train, X_test, y_train, y_test = train_test_split(\n",
    "    X, y, test_size=0.3, random_state=42, stratify=y\n",
    ")"
   ]
  },
  {
   "cell_type": "markdown",
   "metadata": {},
   "source": [
    "### 6.5  Fazendo os modelos"
   ]
  },
  {
   "cell_type": "code",
   "execution_count": 21,
   "metadata": {
    "ExecuteTime": {
     "end_time": "2025-09-22T20:37:02.821249Z",
     "start_time": "2025-09-22T20:37:02.811177Z"
    }
   },
   "outputs": [],
   "source": [
    "knn_model = Pipeline(\n",
    "    steps=[\n",
    "        (\"preprocessor\", preprocessor_knn),\n",
    "        (\"classifier\", KNeighborsClassifier(n_neighbors=3, p=2, weights=\"uniform\")),\n",
    "    ]\n",
    ")\n",
    "\n",
    "rf_model = Pipeline(\n",
    "    steps=[\n",
    "        (\"preprocessor\", preprocessor_rf),\n",
    "        (\n",
    "            \"classifier\",\n",
    "            RandomForestClassifier(\n",
    "                bootstrap=True,\n",
    "                criterion=\"gini\",\n",
    "                max_depth=None,\n",
    "                max_features=\"sqrt\",\n",
    "                min_samples_leaf=1,\n",
    "                min_samples_split=5,\n",
    "                n_estimators=100,\n",
    "                random_state=42,\n",
    "            ),\n",
    "        ),\n",
    "    ]\n",
    ")"
   ]
  },
  {
   "cell_type": "markdown",
   "metadata": {},
   "source": [
    "### 6.6 Treinando o modelo"
   ]
  },
  {
   "cell_type": "code",
   "execution_count": 22,
   "metadata": {
    "ExecuteTime": {
     "end_time": "2025-09-22T20:37:03.660234Z",
     "start_time": "2025-09-22T20:37:03.022256Z"
    }
   },
   "outputs": [
    {
     "data": {
      "text/html": [
       "<style>#sk-container-id-1 {\n",
       "  /* Definition of color scheme common for light and dark mode */\n",
       "  --sklearn-color-text: #000;\n",
       "  --sklearn-color-text-muted: #666;\n",
       "  --sklearn-color-line: gray;\n",
       "  /* Definition of color scheme for unfitted estimators */\n",
       "  --sklearn-color-unfitted-level-0: #fff5e6;\n",
       "  --sklearn-color-unfitted-level-1: #f6e4d2;\n",
       "  --sklearn-color-unfitted-level-2: #ffe0b3;\n",
       "  --sklearn-color-unfitted-level-3: chocolate;\n",
       "  /* Definition of color scheme for fitted estimators */\n",
       "  --sklearn-color-fitted-level-0: #f0f8ff;\n",
       "  --sklearn-color-fitted-level-1: #d4ebff;\n",
       "  --sklearn-color-fitted-level-2: #b3dbfd;\n",
       "  --sklearn-color-fitted-level-3: cornflowerblue;\n",
       "\n",
       "  /* Specific color for light theme */\n",
       "  --sklearn-color-text-on-default-background: var(--sg-text-color, var(--theme-code-foreground, var(--jp-content-font-color1, black)));\n",
       "  --sklearn-color-background: var(--sg-background-color, var(--theme-background, var(--jp-layout-color0, white)));\n",
       "  --sklearn-color-border-box: var(--sg-text-color, var(--theme-code-foreground, var(--jp-content-font-color1, black)));\n",
       "  --sklearn-color-icon: #696969;\n",
       "\n",
       "  @media (prefers-color-scheme: dark) {\n",
       "    /* Redefinition of color scheme for dark theme */\n",
       "    --sklearn-color-text-on-default-background: var(--sg-text-color, var(--theme-code-foreground, var(--jp-content-font-color1, white)));\n",
       "    --sklearn-color-background: var(--sg-background-color, var(--theme-background, var(--jp-layout-color0, #111)));\n",
       "    --sklearn-color-border-box: var(--sg-text-color, var(--theme-code-foreground, var(--jp-content-font-color1, white)));\n",
       "    --sklearn-color-icon: #878787;\n",
       "  }\n",
       "}\n",
       "\n",
       "#sk-container-id-1 {\n",
       "  color: var(--sklearn-color-text);\n",
       "}\n",
       "\n",
       "#sk-container-id-1 pre {\n",
       "  padding: 0;\n",
       "}\n",
       "\n",
       "#sk-container-id-1 input.sk-hidden--visually {\n",
       "  border: 0;\n",
       "  clip: rect(1px 1px 1px 1px);\n",
       "  clip: rect(1px, 1px, 1px, 1px);\n",
       "  height: 1px;\n",
       "  margin: -1px;\n",
       "  overflow: hidden;\n",
       "  padding: 0;\n",
       "  position: absolute;\n",
       "  width: 1px;\n",
       "}\n",
       "\n",
       "#sk-container-id-1 div.sk-dashed-wrapped {\n",
       "  border: 1px dashed var(--sklearn-color-line);\n",
       "  margin: 0 0.4em 0.5em 0.4em;\n",
       "  box-sizing: border-box;\n",
       "  padding-bottom: 0.4em;\n",
       "  background-color: var(--sklearn-color-background);\n",
       "}\n",
       "\n",
       "#sk-container-id-1 div.sk-container {\n",
       "  /* jupyter's `normalize.less` sets `[hidden] { display: none; }`\n",
       "     but bootstrap.min.css set `[hidden] { display: none !important; }`\n",
       "     so we also need the `!important` here to be able to override the\n",
       "     default hidden behavior on the sphinx rendered scikit-learn.org.\n",
       "     See: https://github.com/scikit-learn/scikit-learn/issues/21755 */\n",
       "  display: inline-block !important;\n",
       "  position: relative;\n",
       "}\n",
       "\n",
       "#sk-container-id-1 div.sk-text-repr-fallback {\n",
       "  display: none;\n",
       "}\n",
       "\n",
       "div.sk-parallel-item,\n",
       "div.sk-serial,\n",
       "div.sk-item {\n",
       "  /* draw centered vertical line to link estimators */\n",
       "  background-image: linear-gradient(var(--sklearn-color-text-on-default-background), var(--sklearn-color-text-on-default-background));\n",
       "  background-size: 2px 100%;\n",
       "  background-repeat: no-repeat;\n",
       "  background-position: center center;\n",
       "}\n",
       "\n",
       "/* Parallel-specific style estimator block */\n",
       "\n",
       "#sk-container-id-1 div.sk-parallel-item::after {\n",
       "  content: \"\";\n",
       "  width: 100%;\n",
       "  border-bottom: 2px solid var(--sklearn-color-text-on-default-background);\n",
       "  flex-grow: 1;\n",
       "}\n",
       "\n",
       "#sk-container-id-1 div.sk-parallel {\n",
       "  display: flex;\n",
       "  align-items: stretch;\n",
       "  justify-content: center;\n",
       "  background-color: var(--sklearn-color-background);\n",
       "  position: relative;\n",
       "}\n",
       "\n",
       "#sk-container-id-1 div.sk-parallel-item {\n",
       "  display: flex;\n",
       "  flex-direction: column;\n",
       "}\n",
       "\n",
       "#sk-container-id-1 div.sk-parallel-item:first-child::after {\n",
       "  align-self: flex-end;\n",
       "  width: 50%;\n",
       "}\n",
       "\n",
       "#sk-container-id-1 div.sk-parallel-item:last-child::after {\n",
       "  align-self: flex-start;\n",
       "  width: 50%;\n",
       "}\n",
       "\n",
       "#sk-container-id-1 div.sk-parallel-item:only-child::after {\n",
       "  width: 0;\n",
       "}\n",
       "\n",
       "/* Serial-specific style estimator block */\n",
       "\n",
       "#sk-container-id-1 div.sk-serial {\n",
       "  display: flex;\n",
       "  flex-direction: column;\n",
       "  align-items: center;\n",
       "  background-color: var(--sklearn-color-background);\n",
       "  padding-right: 1em;\n",
       "  padding-left: 1em;\n",
       "}\n",
       "\n",
       "\n",
       "/* Toggleable style: style used for estimator/Pipeline/ColumnTransformer box that is\n",
       "clickable and can be expanded/collapsed.\n",
       "- Pipeline and ColumnTransformer use this feature and define the default style\n",
       "- Estimators will overwrite some part of the style using the `sk-estimator` class\n",
       "*/\n",
       "\n",
       "/* Pipeline and ColumnTransformer style (default) */\n",
       "\n",
       "#sk-container-id-1 div.sk-toggleable {\n",
       "  /* Default theme specific background. It is overwritten whether we have a\n",
       "  specific estimator or a Pipeline/ColumnTransformer */\n",
       "  background-color: var(--sklearn-color-background);\n",
       "}\n",
       "\n",
       "/* Toggleable label */\n",
       "#sk-container-id-1 label.sk-toggleable__label {\n",
       "  cursor: pointer;\n",
       "  display: flex;\n",
       "  width: 100%;\n",
       "  margin-bottom: 0;\n",
       "  padding: 0.5em;\n",
       "  box-sizing: border-box;\n",
       "  text-align: center;\n",
       "  align-items: start;\n",
       "  justify-content: space-between;\n",
       "  gap: 0.5em;\n",
       "}\n",
       "\n",
       "#sk-container-id-1 label.sk-toggleable__label .caption {\n",
       "  font-size: 0.6rem;\n",
       "  font-weight: lighter;\n",
       "  color: var(--sklearn-color-text-muted);\n",
       "}\n",
       "\n",
       "#sk-container-id-1 label.sk-toggleable__label-arrow:before {\n",
       "  /* Arrow on the left of the label */\n",
       "  content: \"▸\";\n",
       "  float: left;\n",
       "  margin-right: 0.25em;\n",
       "  color: var(--sklearn-color-icon);\n",
       "}\n",
       "\n",
       "#sk-container-id-1 label.sk-toggleable__label-arrow:hover:before {\n",
       "  color: var(--sklearn-color-text);\n",
       "}\n",
       "\n",
       "/* Toggleable content - dropdown */\n",
       "\n",
       "#sk-container-id-1 div.sk-toggleable__content {\n",
       "  max-height: 0;\n",
       "  max-width: 0;\n",
       "  overflow: hidden;\n",
       "  text-align: left;\n",
       "  /* unfitted */\n",
       "  background-color: var(--sklearn-color-unfitted-level-0);\n",
       "}\n",
       "\n",
       "#sk-container-id-1 div.sk-toggleable__content.fitted {\n",
       "  /* fitted */\n",
       "  background-color: var(--sklearn-color-fitted-level-0);\n",
       "}\n",
       "\n",
       "#sk-container-id-1 div.sk-toggleable__content pre {\n",
       "  margin: 0.2em;\n",
       "  border-radius: 0.25em;\n",
       "  color: var(--sklearn-color-text);\n",
       "  /* unfitted */\n",
       "  background-color: var(--sklearn-color-unfitted-level-0);\n",
       "}\n",
       "\n",
       "#sk-container-id-1 div.sk-toggleable__content.fitted pre {\n",
       "  /* unfitted */\n",
       "  background-color: var(--sklearn-color-fitted-level-0);\n",
       "}\n",
       "\n",
       "#sk-container-id-1 input.sk-toggleable__control:checked~div.sk-toggleable__content {\n",
       "  /* Expand drop-down */\n",
       "  max-height: 200px;\n",
       "  max-width: 100%;\n",
       "  overflow: auto;\n",
       "}\n",
       "\n",
       "#sk-container-id-1 input.sk-toggleable__control:checked~label.sk-toggleable__label-arrow:before {\n",
       "  content: \"▾\";\n",
       "}\n",
       "\n",
       "/* Pipeline/ColumnTransformer-specific style */\n",
       "\n",
       "#sk-container-id-1 div.sk-label input.sk-toggleable__control:checked~label.sk-toggleable__label {\n",
       "  color: var(--sklearn-color-text);\n",
       "  background-color: var(--sklearn-color-unfitted-level-2);\n",
       "}\n",
       "\n",
       "#sk-container-id-1 div.sk-label.fitted input.sk-toggleable__control:checked~label.sk-toggleable__label {\n",
       "  background-color: var(--sklearn-color-fitted-level-2);\n",
       "}\n",
       "\n",
       "/* Estimator-specific style */\n",
       "\n",
       "/* Colorize estimator box */\n",
       "#sk-container-id-1 div.sk-estimator input.sk-toggleable__control:checked~label.sk-toggleable__label {\n",
       "  /* unfitted */\n",
       "  background-color: var(--sklearn-color-unfitted-level-2);\n",
       "}\n",
       "\n",
       "#sk-container-id-1 div.sk-estimator.fitted input.sk-toggleable__control:checked~label.sk-toggleable__label {\n",
       "  /* fitted */\n",
       "  background-color: var(--sklearn-color-fitted-level-2);\n",
       "}\n",
       "\n",
       "#sk-container-id-1 div.sk-label label.sk-toggleable__label,\n",
       "#sk-container-id-1 div.sk-label label {\n",
       "  /* The background is the default theme color */\n",
       "  color: var(--sklearn-color-text-on-default-background);\n",
       "}\n",
       "\n",
       "/* On hover, darken the color of the background */\n",
       "#sk-container-id-1 div.sk-label:hover label.sk-toggleable__label {\n",
       "  color: var(--sklearn-color-text);\n",
       "  background-color: var(--sklearn-color-unfitted-level-2);\n",
       "}\n",
       "\n",
       "/* Label box, darken color on hover, fitted */\n",
       "#sk-container-id-1 div.sk-label.fitted:hover label.sk-toggleable__label.fitted {\n",
       "  color: var(--sklearn-color-text);\n",
       "  background-color: var(--sklearn-color-fitted-level-2);\n",
       "}\n",
       "\n",
       "/* Estimator label */\n",
       "\n",
       "#sk-container-id-1 div.sk-label label {\n",
       "  font-family: monospace;\n",
       "  font-weight: bold;\n",
       "  display: inline-block;\n",
       "  line-height: 1.2em;\n",
       "}\n",
       "\n",
       "#sk-container-id-1 div.sk-label-container {\n",
       "  text-align: center;\n",
       "}\n",
       "\n",
       "/* Estimator-specific */\n",
       "#sk-container-id-1 div.sk-estimator {\n",
       "  font-family: monospace;\n",
       "  border: 1px dotted var(--sklearn-color-border-box);\n",
       "  border-radius: 0.25em;\n",
       "  box-sizing: border-box;\n",
       "  margin-bottom: 0.5em;\n",
       "  /* unfitted */\n",
       "  background-color: var(--sklearn-color-unfitted-level-0);\n",
       "}\n",
       "\n",
       "#sk-container-id-1 div.sk-estimator.fitted {\n",
       "  /* fitted */\n",
       "  background-color: var(--sklearn-color-fitted-level-0);\n",
       "}\n",
       "\n",
       "/* on hover */\n",
       "#sk-container-id-1 div.sk-estimator:hover {\n",
       "  /* unfitted */\n",
       "  background-color: var(--sklearn-color-unfitted-level-2);\n",
       "}\n",
       "\n",
       "#sk-container-id-1 div.sk-estimator.fitted:hover {\n",
       "  /* fitted */\n",
       "  background-color: var(--sklearn-color-fitted-level-2);\n",
       "}\n",
       "\n",
       "/* Specification for estimator info (e.g. \"i\" and \"?\") */\n",
       "\n",
       "/* Common style for \"i\" and \"?\" */\n",
       "\n",
       ".sk-estimator-doc-link,\n",
       "a:link.sk-estimator-doc-link,\n",
       "a:visited.sk-estimator-doc-link {\n",
       "  float: right;\n",
       "  font-size: smaller;\n",
       "  line-height: 1em;\n",
       "  font-family: monospace;\n",
       "  background-color: var(--sklearn-color-background);\n",
       "  border-radius: 1em;\n",
       "  height: 1em;\n",
       "  width: 1em;\n",
       "  text-decoration: none !important;\n",
       "  margin-left: 0.5em;\n",
       "  text-align: center;\n",
       "  /* unfitted */\n",
       "  border: var(--sklearn-color-unfitted-level-1) 1pt solid;\n",
       "  color: var(--sklearn-color-unfitted-level-1);\n",
       "}\n",
       "\n",
       ".sk-estimator-doc-link.fitted,\n",
       "a:link.sk-estimator-doc-link.fitted,\n",
       "a:visited.sk-estimator-doc-link.fitted {\n",
       "  /* fitted */\n",
       "  border: var(--sklearn-color-fitted-level-1) 1pt solid;\n",
       "  color: var(--sklearn-color-fitted-level-1);\n",
       "}\n",
       "\n",
       "/* On hover */\n",
       "div.sk-estimator:hover .sk-estimator-doc-link:hover,\n",
       ".sk-estimator-doc-link:hover,\n",
       "div.sk-label-container:hover .sk-estimator-doc-link:hover,\n",
       ".sk-estimator-doc-link:hover {\n",
       "  /* unfitted */\n",
       "  background-color: var(--sklearn-color-unfitted-level-3);\n",
       "  color: var(--sklearn-color-background);\n",
       "  text-decoration: none;\n",
       "}\n",
       "\n",
       "div.sk-estimator.fitted:hover .sk-estimator-doc-link.fitted:hover,\n",
       ".sk-estimator-doc-link.fitted:hover,\n",
       "div.sk-label-container:hover .sk-estimator-doc-link.fitted:hover,\n",
       ".sk-estimator-doc-link.fitted:hover {\n",
       "  /* fitted */\n",
       "  background-color: var(--sklearn-color-fitted-level-3);\n",
       "  color: var(--sklearn-color-background);\n",
       "  text-decoration: none;\n",
       "}\n",
       "\n",
       "/* Span, style for the box shown on hovering the info icon */\n",
       ".sk-estimator-doc-link span {\n",
       "  display: none;\n",
       "  z-index: 9999;\n",
       "  position: relative;\n",
       "  font-weight: normal;\n",
       "  right: .2ex;\n",
       "  padding: .5ex;\n",
       "  margin: .5ex;\n",
       "  width: min-content;\n",
       "  min-width: 20ex;\n",
       "  max-width: 50ex;\n",
       "  color: var(--sklearn-color-text);\n",
       "  box-shadow: 2pt 2pt 4pt #999;\n",
       "  /* unfitted */\n",
       "  background: var(--sklearn-color-unfitted-level-0);\n",
       "  border: .5pt solid var(--sklearn-color-unfitted-level-3);\n",
       "}\n",
       "\n",
       ".sk-estimator-doc-link.fitted span {\n",
       "  /* fitted */\n",
       "  background: var(--sklearn-color-fitted-level-0);\n",
       "  border: var(--sklearn-color-fitted-level-3);\n",
       "}\n",
       "\n",
       ".sk-estimator-doc-link:hover span {\n",
       "  display: block;\n",
       "}\n",
       "\n",
       "/* \"?\"-specific style due to the `<a>` HTML tag */\n",
       "\n",
       "#sk-container-id-1 a.estimator_doc_link {\n",
       "  float: right;\n",
       "  font-size: 1rem;\n",
       "  line-height: 1em;\n",
       "  font-family: monospace;\n",
       "  background-color: var(--sklearn-color-background);\n",
       "  border-radius: 1rem;\n",
       "  height: 1rem;\n",
       "  width: 1rem;\n",
       "  text-decoration: none;\n",
       "  /* unfitted */\n",
       "  color: var(--sklearn-color-unfitted-level-1);\n",
       "  border: var(--sklearn-color-unfitted-level-1) 1pt solid;\n",
       "}\n",
       "\n",
       "#sk-container-id-1 a.estimator_doc_link.fitted {\n",
       "  /* fitted */\n",
       "  border: var(--sklearn-color-fitted-level-1) 1pt solid;\n",
       "  color: var(--sklearn-color-fitted-level-1);\n",
       "}\n",
       "\n",
       "/* On hover */\n",
       "#sk-container-id-1 a.estimator_doc_link:hover {\n",
       "  /* unfitted */\n",
       "  background-color: var(--sklearn-color-unfitted-level-3);\n",
       "  color: var(--sklearn-color-background);\n",
       "  text-decoration: none;\n",
       "}\n",
       "\n",
       "#sk-container-id-1 a.estimator_doc_link.fitted:hover {\n",
       "  /* fitted */\n",
       "  background-color: var(--sklearn-color-fitted-level-3);\n",
       "}\n",
       "</style><div id=\"sk-container-id-1\" class=\"sk-top-container\"><div class=\"sk-text-repr-fallback\"><pre>Pipeline(steps=[(&#x27;preprocessor&#x27;,\n",
       "                 ColumnTransformer(transformers=[(&#x27;num&#x27;, MinMaxScaler(),\n",
       "                                                  Index([&#x27;Curr_lat&#x27;, &#x27;Curr_lon&#x27;, &#x27;TRANSPORTATION_DISTANCE_IN_KM&#x27;,\n",
       "       &#x27;Minimum_kms_to_be_covered_in_a_day&#x27;, &#x27;trip_duration_hours&#x27;, &#x27;target&#x27;],\n",
       "      dtype=&#x27;object&#x27;)),\n",
       "                                                 (&#x27;cat&#x27;,\n",
       "                                                  OrdinalEncoder(handle_unknown=&#x27;use_encoded_value&#x27;,\n",
       "                                                                 unknown_value=-1),\n",
       "                                                  Index([&#x27;GpsProvider&#x27;, &#x27;Market/Regular &#x27;, &#x27;DestinationLocation&#x27;, &#x27;vehicleType&#x27;,\n",
       "       &#x27;Material Shipped&#x27;],\n",
       "      dtype=&#x27;object&#x27;))])),\n",
       "                (&#x27;classifier&#x27;, KNeighborsClassifier(n_neighbors=3))])</pre><b>In a Jupyter environment, please rerun this cell to show the HTML representation or trust the notebook. <br />On GitHub, the HTML representation is unable to render, please try loading this page with nbviewer.org.</b></div><div class=\"sk-container\" hidden><div class=\"sk-item sk-dashed-wrapped\"><div class=\"sk-label-container\"><div class=\"sk-label fitted sk-toggleable\"><input class=\"sk-toggleable__control sk-hidden--visually\" id=\"sk-estimator-id-1\" type=\"checkbox\" ><label for=\"sk-estimator-id-1\" class=\"sk-toggleable__label fitted sk-toggleable__label-arrow\"><div><div>Pipeline</div></div><div><a class=\"sk-estimator-doc-link fitted\" rel=\"noreferrer\" target=\"_blank\" href=\"https://scikit-learn.org/1.6/modules/generated/sklearn.pipeline.Pipeline.html\">?<span>Documentation for Pipeline</span></a><span class=\"sk-estimator-doc-link fitted\">i<span>Fitted</span></span></div></label><div class=\"sk-toggleable__content fitted\"><pre>Pipeline(steps=[(&#x27;preprocessor&#x27;,\n",
       "                 ColumnTransformer(transformers=[(&#x27;num&#x27;, MinMaxScaler(),\n",
       "                                                  Index([&#x27;Curr_lat&#x27;, &#x27;Curr_lon&#x27;, &#x27;TRANSPORTATION_DISTANCE_IN_KM&#x27;,\n",
       "       &#x27;Minimum_kms_to_be_covered_in_a_day&#x27;, &#x27;trip_duration_hours&#x27;, &#x27;target&#x27;],\n",
       "      dtype=&#x27;object&#x27;)),\n",
       "                                                 (&#x27;cat&#x27;,\n",
       "                                                  OrdinalEncoder(handle_unknown=&#x27;use_encoded_value&#x27;,\n",
       "                                                                 unknown_value=-1),\n",
       "                                                  Index([&#x27;GpsProvider&#x27;, &#x27;Market/Regular &#x27;, &#x27;DestinationLocation&#x27;, &#x27;vehicleType&#x27;,\n",
       "       &#x27;Material Shipped&#x27;],\n",
       "      dtype=&#x27;object&#x27;))])),\n",
       "                (&#x27;classifier&#x27;, KNeighborsClassifier(n_neighbors=3))])</pre></div> </div></div><div class=\"sk-serial\"><div class=\"sk-item sk-dashed-wrapped\"><div class=\"sk-label-container\"><div class=\"sk-label fitted sk-toggleable\"><input class=\"sk-toggleable__control sk-hidden--visually\" id=\"sk-estimator-id-2\" type=\"checkbox\" ><label for=\"sk-estimator-id-2\" class=\"sk-toggleable__label fitted sk-toggleable__label-arrow\"><div><div>preprocessor: ColumnTransformer</div></div><div><a class=\"sk-estimator-doc-link fitted\" rel=\"noreferrer\" target=\"_blank\" href=\"https://scikit-learn.org/1.6/modules/generated/sklearn.compose.ColumnTransformer.html\">?<span>Documentation for preprocessor: ColumnTransformer</span></a></div></label><div class=\"sk-toggleable__content fitted\"><pre>ColumnTransformer(transformers=[(&#x27;num&#x27;, MinMaxScaler(),\n",
       "                                 Index([&#x27;Curr_lat&#x27;, &#x27;Curr_lon&#x27;, &#x27;TRANSPORTATION_DISTANCE_IN_KM&#x27;,\n",
       "       &#x27;Minimum_kms_to_be_covered_in_a_day&#x27;, &#x27;trip_duration_hours&#x27;, &#x27;target&#x27;],\n",
       "      dtype=&#x27;object&#x27;)),\n",
       "                                (&#x27;cat&#x27;,\n",
       "                                 OrdinalEncoder(handle_unknown=&#x27;use_encoded_value&#x27;,\n",
       "                                                unknown_value=-1),\n",
       "                                 Index([&#x27;GpsProvider&#x27;, &#x27;Market/Regular &#x27;, &#x27;DestinationLocation&#x27;, &#x27;vehicleType&#x27;,\n",
       "       &#x27;Material Shipped&#x27;],\n",
       "      dtype=&#x27;object&#x27;))])</pre></div> </div></div><div class=\"sk-parallel\"><div class=\"sk-parallel-item\"><div class=\"sk-item\"><div class=\"sk-label-container\"><div class=\"sk-label fitted sk-toggleable\"><input class=\"sk-toggleable__control sk-hidden--visually\" id=\"sk-estimator-id-3\" type=\"checkbox\" ><label for=\"sk-estimator-id-3\" class=\"sk-toggleable__label fitted sk-toggleable__label-arrow\"><div><div>num</div></div></label><div class=\"sk-toggleable__content fitted\"><pre>Index([&#x27;Curr_lat&#x27;, &#x27;Curr_lon&#x27;, &#x27;TRANSPORTATION_DISTANCE_IN_KM&#x27;,\n",
       "       &#x27;Minimum_kms_to_be_covered_in_a_day&#x27;, &#x27;trip_duration_hours&#x27;, &#x27;target&#x27;],\n",
       "      dtype=&#x27;object&#x27;)</pre></div> </div></div><div class=\"sk-serial\"><div class=\"sk-item\"><div class=\"sk-estimator fitted sk-toggleable\"><input class=\"sk-toggleable__control sk-hidden--visually\" id=\"sk-estimator-id-4\" type=\"checkbox\" ><label for=\"sk-estimator-id-4\" class=\"sk-toggleable__label fitted sk-toggleable__label-arrow\"><div><div>MinMaxScaler</div></div><div><a class=\"sk-estimator-doc-link fitted\" rel=\"noreferrer\" target=\"_blank\" href=\"https://scikit-learn.org/1.6/modules/generated/sklearn.preprocessing.MinMaxScaler.html\">?<span>Documentation for MinMaxScaler</span></a></div></label><div class=\"sk-toggleable__content fitted\"><pre>MinMaxScaler()</pre></div> </div></div></div></div></div><div class=\"sk-parallel-item\"><div class=\"sk-item\"><div class=\"sk-label-container\"><div class=\"sk-label fitted sk-toggleable\"><input class=\"sk-toggleable__control sk-hidden--visually\" id=\"sk-estimator-id-5\" type=\"checkbox\" ><label for=\"sk-estimator-id-5\" class=\"sk-toggleable__label fitted sk-toggleable__label-arrow\"><div><div>cat</div></div></label><div class=\"sk-toggleable__content fitted\"><pre>Index([&#x27;GpsProvider&#x27;, &#x27;Market/Regular &#x27;, &#x27;DestinationLocation&#x27;, &#x27;vehicleType&#x27;,\n",
       "       &#x27;Material Shipped&#x27;],\n",
       "      dtype=&#x27;object&#x27;)</pre></div> </div></div><div class=\"sk-serial\"><div class=\"sk-item\"><div class=\"sk-estimator fitted sk-toggleable\"><input class=\"sk-toggleable__control sk-hidden--visually\" id=\"sk-estimator-id-6\" type=\"checkbox\" ><label for=\"sk-estimator-id-6\" class=\"sk-toggleable__label fitted sk-toggleable__label-arrow\"><div><div>OrdinalEncoder</div></div><div><a class=\"sk-estimator-doc-link fitted\" rel=\"noreferrer\" target=\"_blank\" href=\"https://scikit-learn.org/1.6/modules/generated/sklearn.preprocessing.OrdinalEncoder.html\">?<span>Documentation for OrdinalEncoder</span></a></div></label><div class=\"sk-toggleable__content fitted\"><pre>OrdinalEncoder(handle_unknown=&#x27;use_encoded_value&#x27;, unknown_value=-1)</pre></div> </div></div></div></div></div></div></div><div class=\"sk-item\"><div class=\"sk-estimator fitted sk-toggleable\"><input class=\"sk-toggleable__control sk-hidden--visually\" id=\"sk-estimator-id-7\" type=\"checkbox\" ><label for=\"sk-estimator-id-7\" class=\"sk-toggleable__label fitted sk-toggleable__label-arrow\"><div><div>KNeighborsClassifier</div></div><div><a class=\"sk-estimator-doc-link fitted\" rel=\"noreferrer\" target=\"_blank\" href=\"https://scikit-learn.org/1.6/modules/generated/sklearn.neighbors.KNeighborsClassifier.html\">?<span>Documentation for KNeighborsClassifier</span></a></div></label><div class=\"sk-toggleable__content fitted\"><pre>KNeighborsClassifier(n_neighbors=3)</pre></div> </div></div></div></div></div></div>"
      ],
      "text/plain": [
       "Pipeline(steps=[('preprocessor',\n",
       "                 ColumnTransformer(transformers=[('num', MinMaxScaler(),\n",
       "                                                  Index(['Curr_lat', 'Curr_lon', 'TRANSPORTATION_DISTANCE_IN_KM',\n",
       "       'Minimum_kms_to_be_covered_in_a_day', 'trip_duration_hours', 'target'],\n",
       "      dtype='object')),\n",
       "                                                 ('cat',\n",
       "                                                  OrdinalEncoder(handle_unknown='use_encoded_value',\n",
       "                                                                 unknown_value=-1),\n",
       "                                                  Index(['GpsProvider', 'Market/Regular ', 'DestinationLocation', 'vehicleType',\n",
       "       'Material Shipped'],\n",
       "      dtype='object'))])),\n",
       "                ('classifier', KNeighborsClassifier(n_neighbors=3))])"
      ]
     },
     "execution_count": 22,
     "metadata": {},
     "output_type": "execute_result"
    }
   ],
   "source": [
    "rf_model.fit(X_train, y_train)\n",
    "knn_model.fit(X, y)"
   ]
  },
  {
   "cell_type": "markdown",
   "metadata": {},
   "source": [
    "### 6.7 Avaliação e métricas do modelo\n",
    "Vamos avaliar o desempenho do modelo utilizando:\n",
    "- **Acurácia**\n",
    "- **Precisão**\n",
    "- **Recall**\n",
    "- **F1-Score**\n",
    "- **Matriz de Confusão**\n"
   ]
  },
  {
   "cell_type": "markdown",
   "metadata": {},
   "source": [
    "#### 6.7.1 KNN"
   ]
  },
  {
   "cell_type": "code",
   "execution_count": 23,
   "metadata": {
    "ExecuteTime": {
     "end_time": "2025-09-22T20:37:04.038430Z",
     "start_time": "2025-09-22T20:37:03.699149Z"
    }
   },
   "outputs": [
    {
     "name": "stdout",
     "output_type": "stream",
     "text": [
      "\n",
      "Relatório de Classificação:\n",
      "               precision    recall  f1-score   support\n",
      "\n",
      "           0       0.89      0.93      0.91      4316\n",
      "           1       0.88      0.81      0.84      2523\n",
      "\n",
      "    accuracy                           0.89      6839\n",
      "   macro avg       0.88      0.87      0.88      6839\n",
      "weighted avg       0.89      0.89      0.89      6839\n",
      "\n"
     ]
    },
    {
     "data": {
      "image/png": "[encoded data removed]",
      "text/plain": [
       "<Figure size 600x400 with 1 Axes>"
      ]
     },
     "metadata": {},
     "output_type": "display_data"
    }
   ],
   "source": [
    "y_pred_knn = knn_model.predict(X)\n",
    "\n",
    "\n",
    "print(\"\\nRelatório de Classificação:\\n\", classification_report(y, y_pred_knn))\n",
    "plt.figure(figsize=(6, 4))\n",
    "sns.heatmap(\n",
    "    confusion_matrix(y, y_pred_knn), annot=True, fmt=\"d\", cmap=\"Blues\", cbar=False\n",
    ")\n",
    "plt.title(\"Confusion Matrix - KNN\", fontsize=14)\n",
    "plt.xlabel(\"Predict\")\n",
    "plt.ylabel(\"Real\")\n",
    "plt.show()"
   ]
  },
  {
   "cell_type": "markdown",
   "metadata": {},
   "source": [
    "#### 6.7.2 Random Forest"
   ]
  },
  {
   "cell_type": "code",
   "execution_count": 24,
   "metadata": {
    "ExecuteTime": {
     "end_time": "2025-09-22T20:37:06.822047Z",
     "start_time": "2025-09-22T20:37:04.124945Z"
    }
   },
   "outputs": [
    {
     "data": {
      "image/png": "[encoded data removed]",
      "text/plain": [
       "<Figure size 600x500 with 2 Axes>"
      ]
     },
     "metadata": {},
     "output_type": "display_data"
    },
    {
     "name": "stdout",
     "output_type": "stream",
     "text": [
      "              precision    recall  f1-score   support\n",
      "\n",
      "           0       1.00      1.00      1.00      1295\n",
      "           1       1.00      1.00      1.00       757\n",
      "\n",
      "    accuracy                           1.00      2052\n",
      "   macro avg       1.00      1.00      1.00      2052\n",
      "weighted avg       1.00      1.00      1.00      2052\n",
      "\n"
     ]
    }
   ],
   "source": [
    "y_pred = rf_model.predict(X_test)\n",
    "\n",
    "cm = confusion_matrix(y_test, y_pred)\n",
    "\n",
    "plt.figure(figsize=(6, 5))\n",
    "sns.heatmap(\n",
    "    cm,\n",
    "    annot=True,\n",
    "    fmt=\"d\",\n",
    "    cmap=\"Blues\",\n",
    "    xticklabels=rf_model.named_steps[\"classifier\"].classes_,\n",
    "    yticklabels=rf_model.named_steps[\"classifier\"].classes_,\n",
    ")\n",
    "\n",
    "plt.xlabel(\"Predito\")\n",
    "plt.ylabel(\"Real\")\n",
    "plt.title(\"Matriz de Confusão - Random Forest\")\n",
    "plt.show()\n",
    "\n",
    "print(classification_report(y_test, y_pred))"
   ]
  },
  {
   "cell_type": "markdown",
   "metadata": {},
   "source": [
    "#### Motivo do 100%\n",
    "\n",
    "- Todos os registros com target = 1 têm Minimum_kms_to_be_covered_in_a_day entre 250 e 275 e trip_duration_hours até ~500.\n",
    "- Todos os registros com target = 0 têm Minimum_kms_to_be_covered_in_a_day entre 0 e 275 e trip_duration_hours começando em 0.28 e indo até 1792.\n",
    "\n",
    "Ou seja, existe uma separação quase perfeita dessas duas features para o target.\n",
    "\n",
    "Isso é o que chamamos de **feature leakage**: o modelo consegue simplesmente olhar para essas colunas e decidir se é 0 ou 1. Os dados entregam a resposta. Por isso você vê 100% de acurácia até em cross-validation."
   ]
  },
  {
   "cell_type": "markdown",
   "metadata": {},
   "source": [
    "# 7. Salvando o modelo em um pickle\n",
    "Salvar o modelo em um pickle é necessário para que armazene seu conhecimento para que não seja necessário treinalo novamente, somente usufruindo de sua própria classificação mais para frente"
   ]
  },
  {
   "cell_type": "markdown",
   "metadata": {},
   "source": [
    "### 7.1 Salvando o arquivo .pkl"
   ]
  },
  {
   "cell_type": "code",
   "execution_count": 25,
   "metadata": {
    "ExecuteTime": {
     "end_time": "2025-09-22T20:37:06.897454Z",
     "start_time": "2025-09-22T20:37:06.884915Z"
    }
   },
   "outputs": [],
   "source": [
    "with open(\"t_l_tracking_dataset_knn_model.pkl\", \"wb\") as f:\n",
    "    pickle.dump(knn_model, f)\n",
    "\n",
    "with open(\"t_l_tracking_dataset_rf_model.pkl\", \"wb\") as f:\n",
    "    pickle.dump(rf_model, f)"
   ]
  }
 ],
 "metadata": {
  "kernelspec": {
   "display_name": "Python 3",
   "language": "python",
   "name": "python3"
  },
  "language_info": {
   "codemirror_mode": {
    "name": "ipython",
    "version": 3
   },
   "file_extension": ".py",
   "mimetype": "text/x-python",
   "name": "python",
   "nbconvert_exporter": "python",
   "pygments_lexer": "ipython3",
   "version": "3.12.2"
  }
 },
 "nbformat": 4,
 "nbformat_minor": 4
}
