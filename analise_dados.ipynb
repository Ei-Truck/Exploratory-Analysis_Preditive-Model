{
 "cells": [
  {
   "metadata": {},
   "cell_type": "markdown",
   "source": ""
  },
  {
   "cell_type": "markdown",
   "metadata": {},
   "source": [
    "# Análise de Dados de Logística\n",
    "## 1. Introdução\n",
    "Este notebook tem como objetivo realizar uma análise exploratória de dados (EDA) em um conjunto de dados de logística. A análise visa identificar padrões, tendências e insights que possam otimizar as operações de transporte e entrega.\n",
    "\n",
    "### Descrição da Base de Dados\n",
    "A base de dados contém informações sobre viagens de transporte, incluindo detalhes como provedor de GPS, IDs de reserva, locais de origem e destino, datas e horários de viagem, tipo de veículo, distância percorrida, status de entrega (no prazo ou atrasado), e informações sobre clientes e fornecedores"
   ]
  },
  {
   "metadata": {},
   "cell_type": "markdown",
   "source": [
    "### 1.2 Objetivos da Análise\n",
    "- Compreender a distribuição das variáveis chave, como distância de transporte, duração da viagem e status de entrega.\n",
    "- Identificar outliers e anomalias nos dados que possam impactar a eficiência das operações.\n",
    "- Explorar correlações entre variáveis para entender fatores que influenciam atrasos nas entregas.\n",
    "- Visualizar os dados de forma clara e informativa para facilitar a interpretação dos resultados.\n",
    "- Fornecer insights acionáveis para melhorar a logística e o planejamento de rotas.\n",
    "- Preparar os dados para análises futuras, como modelagem preditiva ou otimização de rotas.\n"
   ]
  },
  {
   "metadata": {},
   "cell_type": "markdown",
   "source": "### 1.3 metodos core do projeto"
  },
  {
   "metadata": {
    "ExecuteTime": {
     "end_time": "2025-09-20T15:53:41.799315Z",
     "start_time": "2025-09-20T15:53:41.792707Z"
    }
   },
   "cell_type": "code",
   "source": [
    "def save_base_cleaned(df, nome_base=\"base_limpa\", pasta=\".\"):\n",
    "    arquivos = [\n",
    "        f for f in os.listdir(pasta) if f.startswith(nome_base) and f.endswith(\".csv\")\n",
    "    ]\n",
    "\n",
    "    if not arquivos:\n",
    "        novo_num = 1\n",
    "    else:\n",
    "        nums = [int(f.replace(\".csv\", \"\").split(\"_\")[-1]) for f in arquivos]\n",
    "        novo_num = max(nums) + 1\n",
    "\n",
    "    nome_arquivo = os.path.join(pasta, f\"{nome_base}_{novo_num}.csv\")\n",
    "    df.to_csv(nome_arquivo, index=False)"
   ],
   "outputs": [],
   "execution_count": 78
  },
  {
   "cell_type": "markdown",
   "metadata": {},
   "source": [
    "## 2. Carregamento e Pré-processamento de Dados"
   ]
  },
  {
   "metadata": {},
   "cell_type": "markdown",
   "source": "### 2.1 imports"
  },
  {
   "metadata": {
    "ExecuteTime": {
     "end_time": "2025-09-20T15:53:41.818012Z",
     "start_time": "2025-09-20T15:53:41.812808Z"
    }
   },
   "cell_type": "code",
   "source": [
    "import pandas as pd\n",
    "import numpy as np\n",
    "import matplotlib.pyplot as plt\n",
    "import seaborn as sns\n",
    "import plotly.express as px\n",
    "import os\n",
    "import kagglehub"
   ],
   "outputs": [],
   "execution_count": 79
  },
  {
   "metadata": {},
   "cell_type": "markdown",
   "source": "### 2.2 Carregamento dos Dados"
  },
  {
   "metadata": {
    "ExecuteTime": {
     "end_time": "2025-09-20T15:53:45.155852Z",
     "start_time": "2025-09-20T15:53:41.861355Z"
    }
   },
   "cell_type": "code",
   "source": [
    "path = kagglehub.dataset_download(\n",
    "    \"nicolemachado/transportation-and-logistics-tracking-dataset\"\n",
    ")\n",
    "excel_path = os.path.join(path, \"Transportation and Logistics Tracking Dataset..xlsx\")\n",
    "df = pd.read_excel(excel_path, sheet_name=\"Primary data\")\n",
    "df"
   ],
   "outputs": [
    {
     "data": {
      "text/plain": [
       "        GpsProvider           BookingID Market/Regular   \\\n",
       "0     CONSENT TRACK  MVCV0000927/082021          Market   \n",
       "1           VAMOSYS  VCV00014271/082021         Regular   \n",
       "2     CONSENT TRACK  VCV00014382/082021         Regular   \n",
       "3           VAMOSYS  VCV00014743/082021         Regular   \n",
       "4           VAMOSYS  VCV00014744/082021         Regular   \n",
       "...             ...                 ...             ...   \n",
       "6875          JTECH        WDSBKTP42751         Regular   \n",
       "6876          JTECH        WDSBKTP43203         Regular   \n",
       "6877          JTECH        WDSBKTP43021         Regular   \n",
       "6878          JTECH        WDSBKTP42685         Regular   \n",
       "6879          JTECH        WDSBKTP42858         Regular   \n",
       "\n",
       "              BookingID_Date  vehicle_no  \\\n",
       "0    2020-08-17 14:59:01.000    KA590408   \n",
       "1    2020-08-27 16:22:22.827  TN30BC5917   \n",
       "2    2020-08-27 17:59:24.987  TN22AR2748   \n",
       "3    2020-08-28 00:48:24.503  TN28AQ0781   \n",
       "4    2020-08-28 01:23:19.243   TN68F1722   \n",
       "...                      ...         ...   \n",
       "6875 2019-03-27 17:25:33.000    KA219502   \n",
       "6876 2019-03-31 15:02:34.000  KA01AE9163   \n",
       "6877 2019-03-29 18:56:26.000  KA01AE9163   \n",
       "6878 2019-03-27 08:29:45.000   KA21A3643   \n",
       "6879 2019-03-28 17:55:17.000   KA51D1317   \n",
       "\n",
       "                                        Origin_Location  \\\n",
       "0                  TVSLSL-PUZHAL-HUB,CHENNAI,TAMIL NADU   \n",
       "1     DAIMLER INDIA COMMERCIAL VEHICLES,KANCHIPURAM,...   \n",
       "2                 LUCAS TVS LTD-PONDY,PONDY,PONDICHERRY   \n",
       "3     DAIMLER INDIA COMMERCIAL VEHICLES,KANCHIPURAM,...   \n",
       "4                 LUCAS TVS LTD-PONDY,PONDY,PONDICHERRY   \n",
       "...                                                 ...   \n",
       "6875             Ramamurthy Nagar, Bangalore, Karnataka   \n",
       "6876             Ramamurthy Nagar, Bangalore, Karnataka   \n",
       "6877               Mugabala, Bangalore Rural, Karnataka   \n",
       "6878               Mugabala, Bangalore Rural, Karnataka   \n",
       "6879               Mugabala, Bangalore Rural, Karnataka   \n",
       "\n",
       "                                   Destination_Location  \\\n",
       "0          ASHOK LEYLAND PLANT 1- HOSUR,HOSUR,KARNATAKA   \n",
       "1     DAIMLER INDIA COMMERCIAL VEHICLES,KANCHIPURAM,...   \n",
       "2                 LUCAS TVS LTD-PONDY,PONDY,PONDICHERRY   \n",
       "3     DAIMLER INDIA COMMERCIAL VEHICLES,KANCHIPURAM,...   \n",
       "4                 LUCAS TVS LTD-PONDY,PONDY,PONDICHERRY   \n",
       "...                                                 ...   \n",
       "6875            Sahakaranagar P.O, Bangalore, Karnataka   \n",
       "6876  Bangalore International Airport, Bangalore, Ka...   \n",
       "6877                       Anekal, Bangalore, Karnataka   \n",
       "6878                       Anekal, Bangalore, Karnataka   \n",
       "6879                       Anekal, Bangalore, Karnataka   \n",
       "\n",
       "                                Org_lat_lon  \\\n",
       "0                           13.1550,80.1960   \n",
       "1                           12.8390,79.9540   \n",
       "2                           11.8710,79.7390   \n",
       "3                           12.8390,79.9540   \n",
       "4                           11.8720,79.6320   \n",
       "...                                     ...   \n",
       "6875  13.007503209603689,77.665098855934886   \n",
       "6876  13.007503209603689,77.665098855934886   \n",
       "6877  16.560192249175344,80.792293091599547   \n",
       "6878  16.560192249175344,80.792293091599547   \n",
       "6879  16.560192249175344,80.792293091599547   \n",
       "\n",
       "                                Des_lat_lon      Data_Ping_time  ...  \\\n",
       "0                           12.7400,77.8200 2020-08-24 00:05:09  ...   \n",
       "1                           12.8390,79.9540 2020-08-28 12:40:28  ...   \n",
       "2                           11.8710,79.7390 2020-08-28 09:05:09  ...   \n",
       "3                           12.8390,79.9540 2020-08-28 12:40:31  ...   \n",
       "4                           11.8720,79.6320 2020-08-28 12:40:29  ...   \n",
       "...                                     ...                 ...  ...   \n",
       "6875  13.068901840235711,77.590655738806618 2019-06-14 15:20:12  ...   \n",
       "6876  13.196312912801169,77.708156925688726 2019-06-14 15:20:12  ...   \n",
       "6877                    12.722686,77.676518 2019-06-14 15:20:12  ...   \n",
       "6878  12.896896847817695,77.712223056874862 2019-06-14 15:20:12  ...   \n",
       "6879  13.199089183304451,77.708554234959038 2019-06-14 15:20:12  ...   \n",
       "\n",
       "     TRANSPORTATION_DISTANCE_IN_KM                  vehicleType  \\\n",
       "0                            320.0  32 FT Single-Axle 7MT - HCV   \n",
       "1                            103.0  32 FT Multi-Axle 14MT - HCV   \n",
       "2                            300.0    1 MT Tata Ace (Open Body)   \n",
       "3                             61.0  32 FT Multi-Axle 14MT - HCV   \n",
       "4                            240.0  32 FT Multi-Axle 14MT - HCV   \n",
       "...                            ...                          ...   \n",
       "6875                          12.0         25 FT Open Body 21MT   \n",
       "6876                          31.0       40 FT 3XL Trailer 35MT   \n",
       "6877                          49.0       40 FT 3XL Trailer 35MT   \n",
       "6878                          49.0       40 FT 3XL Trailer 35MT   \n",
       "6879                          49.0       40 FT 3XL Trailer 35MT   \n",
       "\n",
       "     Minimum_kms_to_be_covered_in_a_day Driver_Name  Driver_MobileNo  \\\n",
       "0                                   NaN         NaN              NaN   \n",
       "1                                   NaN      RAMESH              NaN   \n",
       "2                                   NaN        GIRI              NaN   \n",
       "3                                   NaN        RAVI              NaN   \n",
       "4                                   NaN       TAMIL              NaN   \n",
       "...                                 ...         ...              ...   \n",
       "6875                                NaN         NaN              NaN   \n",
       "6876                                NaN         NaN              NaN   \n",
       "6877                                NaN         NaN              NaN   \n",
       "6878                                NaN         NaN              NaN   \n",
       "6879                                NaN         NaN              NaN   \n",
       "\n",
       "      customerID                          customerNameCode  supplierID  \\\n",
       "0     ALLEXCHE45                     Ashok leyland limited  VIJEXHOSR7   \n",
       "1     DMREXCHEUX  Daimler india commercial vehicles pvt lt  VJLEXSHE09   \n",
       "2     LUTGCCHE06                             Lucas tvs ltd  GSTEXLAK1Q   \n",
       "3     DMREXCHEUX  Daimler india commercial vehicles pvt lt  ARVEXNAM09   \n",
       "4     LUTGCCHE06                             Lucas tvs ltd  SRTEXKOR96   \n",
       "...          ...                                       ...         ...   \n",
       "6875  LTLEXMUM40                   Larsen & toubro limited       55556   \n",
       "6876  LTLEXMUM40                   Larsen & toubro limited       55556   \n",
       "6877  LTLEXMUM40                   Larsen & toubro limited       55556   \n",
       "6878  LTLEXMUM40                   Larsen & toubro limited       55556   \n",
       "6879  LTLEXMUM40                   Larsen & toubro limited       55556   \n",
       "\n",
       "       supplierNameCode          Material Shipped  \n",
       "0       VIJAY TRANSPORT     BRACKET / GRAB HANDLE  \n",
       "1          VJ LOGISTICS     ZB MODEL PLATE / 3143  \n",
       "2        G.S. TRANSPORT          LETTERING / FUSO  \n",
       "3     ARVINTH TRANSPORT  LU STRUT RA / RADIUS ROD  \n",
       "4         SR TRANSPORTS      WISHBONE / V ROD/HDT  \n",
       "...                 ...                       ...  \n",
       "6875     A S TRANSPORTS              TOOL KIT SET  \n",
       "6876     A S TRANSPORTS        CONTROL LEVER ASSY  \n",
       "6877     A S TRANSPORTS    SPARE PARTS AUTOMOBILE  \n",
       "6878     A S TRANSPORTS    SPARE PARTS AUTOMOBILE  \n",
       "6879     A S TRANSPORTS    SPARE PARTS AUTOMOBILE  \n",
       "\n",
       "[6880 rows x 32 columns]"
      ],
      "text/html": [
       "<div>\n",
       "<style scoped>\n",
       "    .dataframe tbody tr th:only-of-type {\n",
       "        vertical-align: middle;\n",
       "    }\n",
       "\n",
       "    .dataframe tbody tr th {\n",
       "        vertical-align: top;\n",
       "    }\n",
       "\n",
       "    .dataframe thead th {\n",
       "        text-align: right;\n",
       "    }\n",
       "</style>\n",
       "<table border=\"1\" class=\"dataframe\">\n",
       "  <thead>\n",
       "    <tr style=\"text-align: right;\">\n",
       "      <th></th>\n",
       "      <th>GpsProvider</th>\n",
       "      <th>BookingID</th>\n",
       "      <th>Market/Regular</th>\n",
       "      <th>BookingID_Date</th>\n",
       "      <th>vehicle_no</th>\n",
       "      <th>Origin_Location</th>\n",
       "      <th>Destination_Location</th>\n",
       "      <th>Org_lat_lon</th>\n",
       "      <th>Des_lat_lon</th>\n",
       "      <th>Data_Ping_time</th>\n",
       "      <th>...</th>\n",
       "      <th>TRANSPORTATION_DISTANCE_IN_KM</th>\n",
       "      <th>vehicleType</th>\n",
       "      <th>Minimum_kms_to_be_covered_in_a_day</th>\n",
       "      <th>Driver_Name</th>\n",
       "      <th>Driver_MobileNo</th>\n",
       "      <th>customerID</th>\n",
       "      <th>customerNameCode</th>\n",
       "      <th>supplierID</th>\n",
       "      <th>supplierNameCode</th>\n",
       "      <th>Material Shipped</th>\n",
       "    </tr>\n",
       "  </thead>\n",
       "  <tbody>\n",
       "    <tr>\n",
       "      <th>0</th>\n",
       "      <td>CONSENT TRACK</td>\n",
       "      <td>MVCV0000927/082021</td>\n",
       "      <td>Market</td>\n",
       "      <td>2020-08-17 14:59:01.000</td>\n",
       "      <td>KA590408</td>\n",
       "      <td>TVSLSL-PUZHAL-HUB,CHENNAI,TAMIL NADU</td>\n",
       "      <td>ASHOK LEYLAND PLANT 1- HOSUR,HOSUR,KARNATAKA</td>\n",
       "      <td>13.1550,80.1960</td>\n",
       "      <td>12.7400,77.8200</td>\n",
       "      <td>2020-08-24 00:05:09</td>\n",
       "      <td>...</td>\n",
       "      <td>320.0</td>\n",
       "      <td>32 FT Single-Axle 7MT - HCV</td>\n",
       "      <td>NaN</td>\n",
       "      <td>NaN</td>\n",
       "      <td>NaN</td>\n",
       "      <td>ALLEXCHE45</td>\n",
       "      <td>Ashok leyland limited</td>\n",
       "      <td>VIJEXHOSR7</td>\n",
       "      <td>VIJAY TRANSPORT</td>\n",
       "      <td>BRACKET / GRAB HANDLE</td>\n",
       "    </tr>\n",
       "    <tr>\n",
       "      <th>1</th>\n",
       "      <td>VAMOSYS</td>\n",
       "      <td>VCV00014271/082021</td>\n",
       "      <td>Regular</td>\n",
       "      <td>2020-08-27 16:22:22.827</td>\n",
       "      <td>TN30BC5917</td>\n",
       "      <td>DAIMLER INDIA COMMERCIAL VEHICLES,KANCHIPURAM,...</td>\n",
       "      <td>DAIMLER INDIA COMMERCIAL VEHICLES,KANCHIPURAM,...</td>\n",
       "      <td>12.8390,79.9540</td>\n",
       "      <td>12.8390,79.9540</td>\n",
       "      <td>2020-08-28 12:40:28</td>\n",
       "      <td>...</td>\n",
       "      <td>103.0</td>\n",
       "      <td>32 FT Multi-Axle 14MT - HCV</td>\n",
       "      <td>NaN</td>\n",
       "      <td>RAMESH</td>\n",
       "      <td>NaN</td>\n",
       "      <td>DMREXCHEUX</td>\n",
       "      <td>Daimler india commercial vehicles pvt lt</td>\n",
       "      <td>VJLEXSHE09</td>\n",
       "      <td>VJ LOGISTICS</td>\n",
       "      <td>ZB MODEL PLATE / 3143</td>\n",
       "    </tr>\n",
       "    <tr>\n",
       "      <th>2</th>\n",
       "      <td>CONSENT TRACK</td>\n",
       "      <td>VCV00014382/082021</td>\n",
       "      <td>Regular</td>\n",
       "      <td>2020-08-27 17:59:24.987</td>\n",
       "      <td>TN22AR2748</td>\n",
       "      <td>LUCAS TVS LTD-PONDY,PONDY,PONDICHERRY</td>\n",
       "      <td>LUCAS TVS LTD-PONDY,PONDY,PONDICHERRY</td>\n",
       "      <td>11.8710,79.7390</td>\n",
       "      <td>11.8710,79.7390</td>\n",
       "      <td>2020-08-28 09:05:09</td>\n",
       "      <td>...</td>\n",
       "      <td>300.0</td>\n",
       "      <td>1 MT Tata Ace (Open Body)</td>\n",
       "      <td>NaN</td>\n",
       "      <td>GIRI</td>\n",
       "      <td>NaN</td>\n",
       "      <td>LUTGCCHE06</td>\n",
       "      <td>Lucas tvs ltd</td>\n",
       "      <td>GSTEXLAK1Q</td>\n",
       "      <td>G.S. TRANSPORT</td>\n",
       "      <td>LETTERING / FUSO</td>\n",
       "    </tr>\n",
       "    <tr>\n",
       "      <th>3</th>\n",
       "      <td>VAMOSYS</td>\n",
       "      <td>VCV00014743/082021</td>\n",
       "      <td>Regular</td>\n",
       "      <td>2020-08-28 00:48:24.503</td>\n",
       "      <td>TN28AQ0781</td>\n",
       "      <td>DAIMLER INDIA COMMERCIAL VEHICLES,KANCHIPURAM,...</td>\n",
       "      <td>DAIMLER INDIA COMMERCIAL VEHICLES,KANCHIPURAM,...</td>\n",
       "      <td>12.8390,79.9540</td>\n",
       "      <td>12.8390,79.9540</td>\n",
       "      <td>2020-08-28 12:40:31</td>\n",
       "      <td>...</td>\n",
       "      <td>61.0</td>\n",
       "      <td>32 FT Multi-Axle 14MT - HCV</td>\n",
       "      <td>NaN</td>\n",
       "      <td>RAVI</td>\n",
       "      <td>NaN</td>\n",
       "      <td>DMREXCHEUX</td>\n",
       "      <td>Daimler india commercial vehicles pvt lt</td>\n",
       "      <td>ARVEXNAM09</td>\n",
       "      <td>ARVINTH TRANSPORT</td>\n",
       "      <td>LU STRUT RA / RADIUS ROD</td>\n",
       "    </tr>\n",
       "    <tr>\n",
       "      <th>4</th>\n",
       "      <td>VAMOSYS</td>\n",
       "      <td>VCV00014744/082021</td>\n",
       "      <td>Regular</td>\n",
       "      <td>2020-08-28 01:23:19.243</td>\n",
       "      <td>TN68F1722</td>\n",
       "      <td>LUCAS TVS LTD-PONDY,PONDY,PONDICHERRY</td>\n",
       "      <td>LUCAS TVS LTD-PONDY,PONDY,PONDICHERRY</td>\n",
       "      <td>11.8720,79.6320</td>\n",
       "      <td>11.8720,79.6320</td>\n",
       "      <td>2020-08-28 12:40:29</td>\n",
       "      <td>...</td>\n",
       "      <td>240.0</td>\n",
       "      <td>32 FT Multi-Axle 14MT - HCV</td>\n",
       "      <td>NaN</td>\n",
       "      <td>TAMIL</td>\n",
       "      <td>NaN</td>\n",
       "      <td>LUTGCCHE06</td>\n",
       "      <td>Lucas tvs ltd</td>\n",
       "      <td>SRTEXKOR96</td>\n",
       "      <td>SR TRANSPORTS</td>\n",
       "      <td>WISHBONE / V ROD/HDT</td>\n",
       "    </tr>\n",
       "    <tr>\n",
       "      <th>...</th>\n",
       "      <td>...</td>\n",
       "      <td>...</td>\n",
       "      <td>...</td>\n",
       "      <td>...</td>\n",
       "      <td>...</td>\n",
       "      <td>...</td>\n",
       "      <td>...</td>\n",
       "      <td>...</td>\n",
       "      <td>...</td>\n",
       "      <td>...</td>\n",
       "      <td>...</td>\n",
       "      <td>...</td>\n",
       "      <td>...</td>\n",
       "      <td>...</td>\n",
       "      <td>...</td>\n",
       "      <td>...</td>\n",
       "      <td>...</td>\n",
       "      <td>...</td>\n",
       "      <td>...</td>\n",
       "      <td>...</td>\n",
       "      <td>...</td>\n",
       "    </tr>\n",
       "    <tr>\n",
       "      <th>6875</th>\n",
       "      <td>JTECH</td>\n",
       "      <td>WDSBKTP42751</td>\n",
       "      <td>Regular</td>\n",
       "      <td>2019-03-27 17:25:33.000</td>\n",
       "      <td>KA219502</td>\n",
       "      <td>Ramamurthy Nagar, Bangalore, Karnataka</td>\n",
       "      <td>Sahakaranagar P.O, Bangalore, Karnataka</td>\n",
       "      <td>13.007503209603689,77.665098855934886</td>\n",
       "      <td>13.068901840235711,77.590655738806618</td>\n",
       "      <td>2019-06-14 15:20:12</td>\n",
       "      <td>...</td>\n",
       "      <td>12.0</td>\n",
       "      <td>25 FT Open Body 21MT</td>\n",
       "      <td>NaN</td>\n",
       "      <td>NaN</td>\n",
       "      <td>NaN</td>\n",
       "      <td>LTLEXMUM40</td>\n",
       "      <td>Larsen &amp; toubro limited</td>\n",
       "      <td>55556</td>\n",
       "      <td>A S TRANSPORTS</td>\n",
       "      <td>TOOL KIT SET</td>\n",
       "    </tr>\n",
       "    <tr>\n",
       "      <th>6876</th>\n",
       "      <td>JTECH</td>\n",
       "      <td>WDSBKTP43203</td>\n",
       "      <td>Regular</td>\n",
       "      <td>2019-03-31 15:02:34.000</td>\n",
       "      <td>KA01AE9163</td>\n",
       "      <td>Ramamurthy Nagar, Bangalore, Karnataka</td>\n",
       "      <td>Bangalore International Airport, Bangalore, Ka...</td>\n",
       "      <td>13.007503209603689,77.665098855934886</td>\n",
       "      <td>13.196312912801169,77.708156925688726</td>\n",
       "      <td>2019-06-14 15:20:12</td>\n",
       "      <td>...</td>\n",
       "      <td>31.0</td>\n",
       "      <td>40 FT 3XL Trailer 35MT</td>\n",
       "      <td>NaN</td>\n",
       "      <td>NaN</td>\n",
       "      <td>NaN</td>\n",
       "      <td>LTLEXMUM40</td>\n",
       "      <td>Larsen &amp; toubro limited</td>\n",
       "      <td>55556</td>\n",
       "      <td>A S TRANSPORTS</td>\n",
       "      <td>CONTROL LEVER ASSY</td>\n",
       "    </tr>\n",
       "    <tr>\n",
       "      <th>6877</th>\n",
       "      <td>JTECH</td>\n",
       "      <td>WDSBKTP43021</td>\n",
       "      <td>Regular</td>\n",
       "      <td>2019-03-29 18:56:26.000</td>\n",
       "      <td>KA01AE9163</td>\n",
       "      <td>Mugabala, Bangalore Rural, Karnataka</td>\n",
       "      <td>Anekal, Bangalore, Karnataka</td>\n",
       "      <td>16.560192249175344,80.792293091599547</td>\n",
       "      <td>12.722686,77.676518</td>\n",
       "      <td>2019-06-14 15:20:12</td>\n",
       "      <td>...</td>\n",
       "      <td>49.0</td>\n",
       "      <td>40 FT 3XL Trailer 35MT</td>\n",
       "      <td>NaN</td>\n",
       "      <td>NaN</td>\n",
       "      <td>NaN</td>\n",
       "      <td>LTLEXMUM40</td>\n",
       "      <td>Larsen &amp; toubro limited</td>\n",
       "      <td>55556</td>\n",
       "      <td>A S TRANSPORTS</td>\n",
       "      <td>SPARE PARTS AUTOMOBILE</td>\n",
       "    </tr>\n",
       "    <tr>\n",
       "      <th>6878</th>\n",
       "      <td>JTECH</td>\n",
       "      <td>WDSBKTP42685</td>\n",
       "      <td>Regular</td>\n",
       "      <td>2019-03-27 08:29:45.000</td>\n",
       "      <td>KA21A3643</td>\n",
       "      <td>Mugabala, Bangalore Rural, Karnataka</td>\n",
       "      <td>Anekal, Bangalore, Karnataka</td>\n",
       "      <td>16.560192249175344,80.792293091599547</td>\n",
       "      <td>12.896896847817695,77.712223056874862</td>\n",
       "      <td>2019-06-14 15:20:12</td>\n",
       "      <td>...</td>\n",
       "      <td>49.0</td>\n",
       "      <td>40 FT 3XL Trailer 35MT</td>\n",
       "      <td>NaN</td>\n",
       "      <td>NaN</td>\n",
       "      <td>NaN</td>\n",
       "      <td>LTLEXMUM40</td>\n",
       "      <td>Larsen &amp; toubro limited</td>\n",
       "      <td>55556</td>\n",
       "      <td>A S TRANSPORTS</td>\n",
       "      <td>SPARE PARTS AUTOMOBILE</td>\n",
       "    </tr>\n",
       "    <tr>\n",
       "      <th>6879</th>\n",
       "      <td>JTECH</td>\n",
       "      <td>WDSBKTP42858</td>\n",
       "      <td>Regular</td>\n",
       "      <td>2019-03-28 17:55:17.000</td>\n",
       "      <td>KA51D1317</td>\n",
       "      <td>Mugabala, Bangalore Rural, Karnataka</td>\n",
       "      <td>Anekal, Bangalore, Karnataka</td>\n",
       "      <td>16.560192249175344,80.792293091599547</td>\n",
       "      <td>13.199089183304451,77.708554234959038</td>\n",
       "      <td>2019-06-14 15:20:12</td>\n",
       "      <td>...</td>\n",
       "      <td>49.0</td>\n",
       "      <td>40 FT 3XL Trailer 35MT</td>\n",
       "      <td>NaN</td>\n",
       "      <td>NaN</td>\n",
       "      <td>NaN</td>\n",
       "      <td>LTLEXMUM40</td>\n",
       "      <td>Larsen &amp; toubro limited</td>\n",
       "      <td>55556</td>\n",
       "      <td>A S TRANSPORTS</td>\n",
       "      <td>SPARE PARTS AUTOMOBILE</td>\n",
       "    </tr>\n",
       "  </tbody>\n",
       "</table>\n",
       "<p>6880 rows × 32 columns</p>\n",
       "</div>"
      ]
     },
     "execution_count": 80,
     "metadata": {},
     "output_type": "execute_result"
    }
   ],
   "execution_count": 80
  },
  {
   "metadata": {},
   "cell_type": "markdown",
   "source": "### 2.3 informações do dataframe"
  },
  {
   "metadata": {
    "ExecuteTime": {
     "end_time": "2025-09-20T15:53:45.244117Z",
     "start_time": "2025-09-20T15:53:45.214803Z"
    }
   },
   "cell_type": "code",
   "source": [
    "df.info()\n",
    "df.isnull().sum()"
   ],
   "outputs": [
    {
     "name": "stdout",
     "output_type": "stream",
     "text": [
      "<class 'pandas.core.frame.DataFrame'>\n",
      "RangeIndex: 6880 entries, 0 to 6879\n",
      "Data columns (total 32 columns):\n",
      " #   Column                              Non-Null Count  Dtype         \n",
      "---  ------                              --------------  -----         \n",
      " 0   GpsProvider                         5927 non-null   object        \n",
      " 1   BookingID                           6880 non-null   object        \n",
      " 2   Market/Regular                      6880 non-null   object        \n",
      " 3   BookingID_Date                      6880 non-null   datetime64[ns]\n",
      " 4   vehicle_no                          6880 non-null   object        \n",
      " 5   Origin_Location                     6880 non-null   object        \n",
      " 6   Destination_Location                6880 non-null   object        \n",
      " 7   Org_lat_lon                         6880 non-null   object        \n",
      " 8   Des_lat_lon                         6880 non-null   object        \n",
      " 9   Data_Ping_time                      5927 non-null   datetime64[ns]\n",
      " 10  Planned_ETA                         6880 non-null   object        \n",
      " 11  Current_Location                    5916 non-null   object        \n",
      " 12  DestinationLocation                 6880 non-null   object        \n",
      " 13  actual_eta                          6843 non-null   object        \n",
      " 14  Curr_lat                            5927 non-null   float64       \n",
      " 15  Curr_lon                            5927 non-null   float64       \n",
      " 16  ontime                              2548 non-null   object        \n",
      " 17  delay                               4342 non-null   object        \n",
      " 18  OriginLocation_Code                 6877 non-null   object        \n",
      " 19  DestinationLocation_Code            6853 non-null   object        \n",
      " 20  trip_start_date                     6880 non-null   object        \n",
      " 21  trip_end_date                       6686 non-null   object        \n",
      " 22  TRANSPORTATION_DISTANCE_IN_KM       6168 non-null   float64       \n",
      " 23  vehicleType                         6111 non-null   object        \n",
      " 24  Minimum_kms_to_be_covered_in_a_day  2820 non-null   float64       \n",
      " 25  Driver_Name                         3451 non-null   object        \n",
      " 26  Driver_MobileNo                     2691 non-null   float64       \n",
      " 27  customerID                          6880 non-null   object        \n",
      " 28  customerNameCode                    6880 non-null   object        \n",
      " 29  supplierID                          6880 non-null   object        \n",
      " 30  supplierNameCode                    6880 non-null   object        \n",
      " 31  Material Shipped                    6880 non-null   object        \n",
      "dtypes: datetime64[ns](2), float64(5), object(25)\n",
      "memory usage: 1.7+ MB\n"
     ]
    },
    {
     "data": {
      "text/plain": [
       "GpsProvider                            953\n",
       "BookingID                                0\n",
       "Market/Regular                           0\n",
       "BookingID_Date                           0\n",
       "vehicle_no                               0\n",
       "Origin_Location                          0\n",
       "Destination_Location                     0\n",
       "Org_lat_lon                              0\n",
       "Des_lat_lon                              0\n",
       "Data_Ping_time                         953\n",
       "Planned_ETA                              0\n",
       "Current_Location                       964\n",
       "DestinationLocation                      0\n",
       "actual_eta                              37\n",
       "Curr_lat                               953\n",
       "Curr_lon                               953\n",
       "ontime                                4332\n",
       "delay                                 2538\n",
       "OriginLocation_Code                      3\n",
       "DestinationLocation_Code                27\n",
       "trip_start_date                          0\n",
       "trip_end_date                          194\n",
       "TRANSPORTATION_DISTANCE_IN_KM          712\n",
       "vehicleType                            769\n",
       "Minimum_kms_to_be_covered_in_a_day    4060\n",
       "Driver_Name                           3429\n",
       "Driver_MobileNo                       4189\n",
       "customerID                               0\n",
       "customerNameCode                         0\n",
       "supplierID                               0\n",
       "supplierNameCode                         0\n",
       "Material Shipped                         0\n",
       "dtype: int64"
      ]
     },
     "execution_count": 81,
     "metadata": {},
     "output_type": "execute_result"
    }
   ],
   "execution_count": 81
  },
  {
   "metadata": {},
   "cell_type": "markdown",
   "source": "### 2.4 tratando dados ausentes"
  },
  {
   "metadata": {
    "ExecuteTime": {
     "end_time": "2025-09-20T15:53:45.369902Z",
     "start_time": "2025-09-20T15:53:45.325917Z"
    }
   },
   "cell_type": "code",
   "source": [
    "colunas_nulas = df.columns[\n",
    "    df.isnull().any() & ~df.columns.isin([\"delay\", \"ontime\"])\n",
    "].tolist()\n",
    "\n",
    "for col in colunas_nulas:\n",
    "    if df[col].dtype == \"object\":\n",
    "        mode_val = df[col].mode()[0]\n",
    "        df[col] = df[col].fillna(mode_val)\n",
    "    elif df[col].dtype in [\"int64\", \"float64\"]:\n",
    "        median_val = df[col].median()\n",
    "        df[col] = df[col].fillna(median_val)\n",
    "\n",
    "print(df.isnull().sum())"
   ],
   "outputs": [
    {
     "name": "stdout",
     "output_type": "stream",
     "text": [
      "GpsProvider                              0\n",
      "BookingID                                0\n",
      "Market/Regular                           0\n",
      "BookingID_Date                           0\n",
      "vehicle_no                               0\n",
      "Origin_Location                          0\n",
      "Destination_Location                     0\n",
      "Org_lat_lon                              0\n",
      "Des_lat_lon                              0\n",
      "Data_Ping_time                         953\n",
      "Planned_ETA                              0\n",
      "Current_Location                         0\n",
      "DestinationLocation                      0\n",
      "actual_eta                               0\n",
      "Curr_lat                                 0\n",
      "Curr_lon                                 0\n",
      "ontime                                4332\n",
      "delay                                 2538\n",
      "OriginLocation_Code                      0\n",
      "DestinationLocation_Code                 0\n",
      "trip_start_date                          0\n",
      "trip_end_date                            0\n",
      "TRANSPORTATION_DISTANCE_IN_KM            0\n",
      "vehicleType                              0\n",
      "Minimum_kms_to_be_covered_in_a_day       0\n",
      "Driver_Name                              0\n",
      "Driver_MobileNo                          0\n",
      "customerID                               0\n",
      "customerNameCode                         0\n",
      "supplierID                               0\n",
      "supplierNameCode                         0\n",
      "Material Shipped                         0\n",
      "dtype: int64\n"
     ]
    }
   ],
   "execution_count": 82
  },
  {
   "metadata": {},
   "cell_type": "markdown",
   "source": "### 2.5 tratando dados de data"
  },
  {
   "metadata": {
    "ExecuteTime": {
     "end_time": "2025-09-20T15:53:45.566694Z",
     "start_time": "2025-09-20T15:53:45.503363Z"
    }
   },
   "cell_type": "code",
   "source": [
    "# Converter colunas de data para o tipo datetime\n",
    "date_cols = [\n",
    "    \"BookingID_Date\",\n",
    "    \"Planned_ETA\",\n",
    "    \"actual_eta\",\n",
    "    \"trip_start_date\",\n",
    "    \"trip_end_date\",\n",
    "]\n",
    "for col in date_cols:\n",
    "    if col in df.columns:\n",
    "        df[col] = pd.to_datetime(df[col], errors=\"coerce\")\n",
    "df.info()\n",
    "df[\"trip_duration_hours\"] = (\n",
    "    df[\"actual_eta\"] - df[\"trip_start_date\"]\n",
    ").dt.total_seconds() / 3600\n",
    "\n",
    "\n",
    "df[\"trip_duration_hours\"] = (\n",
    "    df[\"actual_eta\"] - df[\"trip_start_date\"]\n",
    ").dt.total_seconds() / 3600\n",
    "df"
   ],
   "outputs": [
    {
     "name": "stdout",
     "output_type": "stream",
     "text": [
      "<class 'pandas.core.frame.DataFrame'>\n",
      "RangeIndex: 6880 entries, 0 to 6879\n",
      "Data columns (total 32 columns):\n",
      " #   Column                              Non-Null Count  Dtype         \n",
      "---  ------                              --------------  -----         \n",
      " 0   GpsProvider                         6880 non-null   object        \n",
      " 1   BookingID                           6880 non-null   object        \n",
      " 2   Market/Regular                      6880 non-null   object        \n",
      " 3   BookingID_Date                      6880 non-null   datetime64[ns]\n",
      " 4   vehicle_no                          6880 non-null   object        \n",
      " 5   Origin_Location                     6880 non-null   object        \n",
      " 6   Destination_Location                6880 non-null   object        \n",
      " 7   Org_lat_lon                         6880 non-null   object        \n",
      " 8   Des_lat_lon                         6880 non-null   object        \n",
      " 9   Data_Ping_time                      5927 non-null   datetime64[ns]\n",
      " 10  Planned_ETA                         6880 non-null   datetime64[ns]\n",
      " 11  Current_Location                    6880 non-null   object        \n",
      " 12  DestinationLocation                 6880 non-null   object        \n",
      " 13  actual_eta                          6880 non-null   datetime64[ns]\n",
      " 14  Curr_lat                            6880 non-null   float64       \n",
      " 15  Curr_lon                            6880 non-null   float64       \n",
      " 16  ontime                              2548 non-null   object        \n",
      " 17  delay                               4342 non-null   object        \n",
      " 18  OriginLocation_Code                 6880 non-null   object        \n",
      " 19  DestinationLocation_Code            6880 non-null   object        \n",
      " 20  trip_start_date                     6880 non-null   datetime64[ns]\n",
      " 21  trip_end_date                       6880 non-null   datetime64[ns]\n",
      " 22  TRANSPORTATION_DISTANCE_IN_KM       6880 non-null   float64       \n",
      " 23  vehicleType                         6880 non-null   object        \n",
      " 24  Minimum_kms_to_be_covered_in_a_day  6880 non-null   float64       \n",
      " 25  Driver_Name                         6880 non-null   object        \n",
      " 26  Driver_MobileNo                     6880 non-null   float64       \n",
      " 27  customerID                          6880 non-null   object        \n",
      " 28  customerNameCode                    6880 non-null   object        \n",
      " 29  supplierID                          6880 non-null   object        \n",
      " 30  supplierNameCode                    6880 non-null   object        \n",
      " 31  Material Shipped                    6880 non-null   object        \n",
      "dtypes: datetime64[ns](6), float64(5), object(21)\n",
      "memory usage: 1.7+ MB\n"
     ]
    },
    {
     "data": {
      "text/plain": [
       "        GpsProvider           BookingID Market/Regular   \\\n",
       "0     CONSENT TRACK  MVCV0000927/082021          Market   \n",
       "1           VAMOSYS  VCV00014271/082021         Regular   \n",
       "2     CONSENT TRACK  VCV00014382/082021         Regular   \n",
       "3           VAMOSYS  VCV00014743/082021         Regular   \n",
       "4           VAMOSYS  VCV00014744/082021         Regular   \n",
       "...             ...                 ...             ...   \n",
       "6875          JTECH        WDSBKTP42751         Regular   \n",
       "6876          JTECH        WDSBKTP43203         Regular   \n",
       "6877          JTECH        WDSBKTP43021         Regular   \n",
       "6878          JTECH        WDSBKTP42685         Regular   \n",
       "6879          JTECH        WDSBKTP42858         Regular   \n",
       "\n",
       "              BookingID_Date  vehicle_no  \\\n",
       "0    2020-08-17 14:59:01.000    KA590408   \n",
       "1    2020-08-27 16:22:22.827  TN30BC5917   \n",
       "2    2020-08-27 17:59:24.987  TN22AR2748   \n",
       "3    2020-08-28 00:48:24.503  TN28AQ0781   \n",
       "4    2020-08-28 01:23:19.243   TN68F1722   \n",
       "...                      ...         ...   \n",
       "6875 2019-03-27 17:25:33.000    KA219502   \n",
       "6876 2019-03-31 15:02:34.000  KA01AE9163   \n",
       "6877 2019-03-29 18:56:26.000  KA01AE9163   \n",
       "6878 2019-03-27 08:29:45.000   KA21A3643   \n",
       "6879 2019-03-28 17:55:17.000   KA51D1317   \n",
       "\n",
       "                                        Origin_Location  \\\n",
       "0                  TVSLSL-PUZHAL-HUB,CHENNAI,TAMIL NADU   \n",
       "1     DAIMLER INDIA COMMERCIAL VEHICLES,KANCHIPURAM,...   \n",
       "2                 LUCAS TVS LTD-PONDY,PONDY,PONDICHERRY   \n",
       "3     DAIMLER INDIA COMMERCIAL VEHICLES,KANCHIPURAM,...   \n",
       "4                 LUCAS TVS LTD-PONDY,PONDY,PONDICHERRY   \n",
       "...                                                 ...   \n",
       "6875             Ramamurthy Nagar, Bangalore, Karnataka   \n",
       "6876             Ramamurthy Nagar, Bangalore, Karnataka   \n",
       "6877               Mugabala, Bangalore Rural, Karnataka   \n",
       "6878               Mugabala, Bangalore Rural, Karnataka   \n",
       "6879               Mugabala, Bangalore Rural, Karnataka   \n",
       "\n",
       "                                   Destination_Location  \\\n",
       "0          ASHOK LEYLAND PLANT 1- HOSUR,HOSUR,KARNATAKA   \n",
       "1     DAIMLER INDIA COMMERCIAL VEHICLES,KANCHIPURAM,...   \n",
       "2                 LUCAS TVS LTD-PONDY,PONDY,PONDICHERRY   \n",
       "3     DAIMLER INDIA COMMERCIAL VEHICLES,KANCHIPURAM,...   \n",
       "4                 LUCAS TVS LTD-PONDY,PONDY,PONDICHERRY   \n",
       "...                                                 ...   \n",
       "6875            Sahakaranagar P.O, Bangalore, Karnataka   \n",
       "6876  Bangalore International Airport, Bangalore, Ka...   \n",
       "6877                       Anekal, Bangalore, Karnataka   \n",
       "6878                       Anekal, Bangalore, Karnataka   \n",
       "6879                       Anekal, Bangalore, Karnataka   \n",
       "\n",
       "                                Org_lat_lon  \\\n",
       "0                           13.1550,80.1960   \n",
       "1                           12.8390,79.9540   \n",
       "2                           11.8710,79.7390   \n",
       "3                           12.8390,79.9540   \n",
       "4                           11.8720,79.6320   \n",
       "...                                     ...   \n",
       "6875  13.007503209603689,77.665098855934886   \n",
       "6876  13.007503209603689,77.665098855934886   \n",
       "6877  16.560192249175344,80.792293091599547   \n",
       "6878  16.560192249175344,80.792293091599547   \n",
       "6879  16.560192249175344,80.792293091599547   \n",
       "\n",
       "                                Des_lat_lon      Data_Ping_time  ...  \\\n",
       "0                           12.7400,77.8200 2020-08-24 00:05:09  ...   \n",
       "1                           12.8390,79.9540 2020-08-28 12:40:28  ...   \n",
       "2                           11.8710,79.7390 2020-08-28 09:05:09  ...   \n",
       "3                           12.8390,79.9540 2020-08-28 12:40:31  ...   \n",
       "4                           11.8720,79.6320 2020-08-28 12:40:29  ...   \n",
       "...                                     ...                 ...  ...   \n",
       "6875  13.068901840235711,77.590655738806618 2019-06-14 15:20:12  ...   \n",
       "6876  13.196312912801169,77.708156925688726 2019-06-14 15:20:12  ...   \n",
       "6877                    12.722686,77.676518 2019-06-14 15:20:12  ...   \n",
       "6878  12.896896847817695,77.712223056874862 2019-06-14 15:20:12  ...   \n",
       "6879  13.199089183304451,77.708554234959038 2019-06-14 15:20:12  ...   \n",
       "\n",
       "                      vehicleType Minimum_kms_to_be_covered_in_a_day  \\\n",
       "0     32 FT Single-Axle 7MT - HCV                              250.0   \n",
       "1     32 FT Multi-Axle 14MT - HCV                              250.0   \n",
       "2       1 MT Tata Ace (Open Body)                              250.0   \n",
       "3     32 FT Multi-Axle 14MT - HCV                              250.0   \n",
       "4     32 FT Multi-Axle 14MT - HCV                              250.0   \n",
       "...                           ...                                ...   \n",
       "6875         25 FT Open Body 21MT                              250.0   \n",
       "6876       40 FT 3XL Trailer 35MT                              250.0   \n",
       "6877       40 FT 3XL Trailer 35MT                              250.0   \n",
       "6878       40 FT 3XL Trailer 35MT                              250.0   \n",
       "6879       40 FT 3XL Trailer 35MT                              250.0   \n",
       "\n",
       "     Driver_Name Driver_MobileNo  customerID  \\\n",
       "0           MANU    8.930762e+09  ALLEXCHE45   \n",
       "1         RAMESH    8.930762e+09  DMREXCHEUX   \n",
       "2           GIRI    8.930762e+09  LUTGCCHE06   \n",
       "3           RAVI    8.930762e+09  DMREXCHEUX   \n",
       "4          TAMIL    8.930762e+09  LUTGCCHE06   \n",
       "...          ...             ...         ...   \n",
       "6875        MANU    8.930762e+09  LTLEXMUM40   \n",
       "6876        MANU    8.930762e+09  LTLEXMUM40   \n",
       "6877        MANU    8.930762e+09  LTLEXMUM40   \n",
       "6878        MANU    8.930762e+09  LTLEXMUM40   \n",
       "6879        MANU    8.930762e+09  LTLEXMUM40   \n",
       "\n",
       "                              customerNameCode  supplierID   supplierNameCode  \\\n",
       "0                        Ashok leyland limited  VIJEXHOSR7    VIJAY TRANSPORT   \n",
       "1     Daimler india commercial vehicles pvt lt  VJLEXSHE09       VJ LOGISTICS   \n",
       "2                                Lucas tvs ltd  GSTEXLAK1Q     G.S. TRANSPORT   \n",
       "3     Daimler india commercial vehicles pvt lt  ARVEXNAM09  ARVINTH TRANSPORT   \n",
       "4                                Lucas tvs ltd  SRTEXKOR96      SR TRANSPORTS   \n",
       "...                                        ...         ...                ...   \n",
       "6875                   Larsen & toubro limited       55556     A S TRANSPORTS   \n",
       "6876                   Larsen & toubro limited       55556     A S TRANSPORTS   \n",
       "6877                   Larsen & toubro limited       55556     A S TRANSPORTS   \n",
       "6878                   Larsen & toubro limited       55556     A S TRANSPORTS   \n",
       "6879                   Larsen & toubro limited       55556     A S TRANSPORTS   \n",
       "\n",
       "              Material Shipped trip_duration_hours  \n",
       "0        BRACKET / GRAB HANDLE          263.650958  \n",
       "1        ZB MODEL PLATE / 3143           20.406946  \n",
       "2             LETTERING / FUSO           22.107443  \n",
       "3     LU STRUT RA / RADIUS ROD           12.045277  \n",
       "4         WISHBONE / V ROD/HDT           13.150591  \n",
       "...                        ...                 ...  \n",
       "6875              TOOL KIT SET           -0.233333  \n",
       "6876        CONTROL LEVER ASSY            2.350000  \n",
       "6877    SPARE PARTS AUTOMOBILE            4.150000  \n",
       "6878    SPARE PARTS AUTOMOBILE            1.100000  \n",
       "6879    SPARE PARTS AUTOMOBILE            3.250000  \n",
       "\n",
       "[6880 rows x 33 columns]"
      ],
      "text/html": [
       "<div>\n",
       "<style scoped>\n",
       "    .dataframe tbody tr th:only-of-type {\n",
       "        vertical-align: middle;\n",
       "    }\n",
       "\n",
       "    .dataframe tbody tr th {\n",
       "        vertical-align: top;\n",
       "    }\n",
       "\n",
       "    .dataframe thead th {\n",
       "        text-align: right;\n",
       "    }\n",
       "</style>\n",
       "<table border=\"1\" class=\"dataframe\">\n",
       "  <thead>\n",
       "    <tr style=\"text-align: right;\">\n",
       "      <th></th>\n",
       "      <th>GpsProvider</th>\n",
       "      <th>BookingID</th>\n",
       "      <th>Market/Regular</th>\n",
       "      <th>BookingID_Date</th>\n",
       "      <th>vehicle_no</th>\n",
       "      <th>Origin_Location</th>\n",
       "      <th>Destination_Location</th>\n",
       "      <th>Org_lat_lon</th>\n",
       "      <th>Des_lat_lon</th>\n",
       "      <th>Data_Ping_time</th>\n",
       "      <th>...</th>\n",
       "      <th>vehicleType</th>\n",
       "      <th>Minimum_kms_to_be_covered_in_a_day</th>\n",
       "      <th>Driver_Name</th>\n",
       "      <th>Driver_MobileNo</th>\n",
       "      <th>customerID</th>\n",
       "      <th>customerNameCode</th>\n",
       "      <th>supplierID</th>\n",
       "      <th>supplierNameCode</th>\n",
       "      <th>Material Shipped</th>\n",
       "      <th>trip_duration_hours</th>\n",
       "    </tr>\n",
       "  </thead>\n",
       "  <tbody>\n",
       "    <tr>\n",
       "      <th>0</th>\n",
       "      <td>CONSENT TRACK</td>\n",
       "      <td>MVCV0000927/082021</td>\n",
       "      <td>Market</td>\n",
       "      <td>2020-08-17 14:59:01.000</td>\n",
       "      <td>KA590408</td>\n",
       "      <td>TVSLSL-PUZHAL-HUB,CHENNAI,TAMIL NADU</td>\n",
       "      <td>ASHOK LEYLAND PLANT 1- HOSUR,HOSUR,KARNATAKA</td>\n",
       "      <td>13.1550,80.1960</td>\n",
       "      <td>12.7400,77.8200</td>\n",
       "      <td>2020-08-24 00:05:09</td>\n",
       "      <td>...</td>\n",
       "      <td>32 FT Single-Axle 7MT - HCV</td>\n",
       "      <td>250.0</td>\n",
       "      <td>MANU</td>\n",
       "      <td>8.930762e+09</td>\n",
       "      <td>ALLEXCHE45</td>\n",
       "      <td>Ashok leyland limited</td>\n",
       "      <td>VIJEXHOSR7</td>\n",
       "      <td>VIJAY TRANSPORT</td>\n",
       "      <td>BRACKET / GRAB HANDLE</td>\n",
       "      <td>263.650958</td>\n",
       "    </tr>\n",
       "    <tr>\n",
       "      <th>1</th>\n",
       "      <td>VAMOSYS</td>\n",
       "      <td>VCV00014271/082021</td>\n",
       "      <td>Regular</td>\n",
       "      <td>2020-08-27 16:22:22.827</td>\n",
       "      <td>TN30BC5917</td>\n",
       "      <td>DAIMLER INDIA COMMERCIAL VEHICLES,KANCHIPURAM,...</td>\n",
       "      <td>DAIMLER INDIA COMMERCIAL VEHICLES,KANCHIPURAM,...</td>\n",
       "      <td>12.8390,79.9540</td>\n",
       "      <td>12.8390,79.9540</td>\n",
       "      <td>2020-08-28 12:40:28</td>\n",
       "      <td>...</td>\n",
       "      <td>32 FT Multi-Axle 14MT - HCV</td>\n",
       "      <td>250.0</td>\n",
       "      <td>RAMESH</td>\n",
       "      <td>8.930762e+09</td>\n",
       "      <td>DMREXCHEUX</td>\n",
       "      <td>Daimler india commercial vehicles pvt lt</td>\n",
       "      <td>VJLEXSHE09</td>\n",
       "      <td>VJ LOGISTICS</td>\n",
       "      <td>ZB MODEL PLATE / 3143</td>\n",
       "      <td>20.406946</td>\n",
       "    </tr>\n",
       "    <tr>\n",
       "      <th>2</th>\n",
       "      <td>CONSENT TRACK</td>\n",
       "      <td>VCV00014382/082021</td>\n",
       "      <td>Regular</td>\n",
       "      <td>2020-08-27 17:59:24.987</td>\n",
       "      <td>TN22AR2748</td>\n",
       "      <td>LUCAS TVS LTD-PONDY,PONDY,PONDICHERRY</td>\n",
       "      <td>LUCAS TVS LTD-PONDY,PONDY,PONDICHERRY</td>\n",
       "      <td>11.8710,79.7390</td>\n",
       "      <td>11.8710,79.7390</td>\n",
       "      <td>2020-08-28 09:05:09</td>\n",
       "      <td>...</td>\n",
       "      <td>1 MT Tata Ace (Open Body)</td>\n",
       "      <td>250.0</td>\n",
       "      <td>GIRI</td>\n",
       "      <td>8.930762e+09</td>\n",
       "      <td>LUTGCCHE06</td>\n",
       "      <td>Lucas tvs ltd</td>\n",
       "      <td>GSTEXLAK1Q</td>\n",
       "      <td>G.S. TRANSPORT</td>\n",
       "      <td>LETTERING / FUSO</td>\n",
       "      <td>22.107443</td>\n",
       "    </tr>\n",
       "    <tr>\n",
       "      <th>3</th>\n",
       "      <td>VAMOSYS</td>\n",
       "      <td>VCV00014743/082021</td>\n",
       "      <td>Regular</td>\n",
       "      <td>2020-08-28 00:48:24.503</td>\n",
       "      <td>TN28AQ0781</td>\n",
       "      <td>DAIMLER INDIA COMMERCIAL VEHICLES,KANCHIPURAM,...</td>\n",
       "      <td>DAIMLER INDIA COMMERCIAL VEHICLES,KANCHIPURAM,...</td>\n",
       "      <td>12.8390,79.9540</td>\n",
       "      <td>12.8390,79.9540</td>\n",
       "      <td>2020-08-28 12:40:31</td>\n",
       "      <td>...</td>\n",
       "      <td>32 FT Multi-Axle 14MT - HCV</td>\n",
       "      <td>250.0</td>\n",
       "      <td>RAVI</td>\n",
       "      <td>8.930762e+09</td>\n",
       "      <td>DMREXCHEUX</td>\n",
       "      <td>Daimler india commercial vehicles pvt lt</td>\n",
       "      <td>ARVEXNAM09</td>\n",
       "      <td>ARVINTH TRANSPORT</td>\n",
       "      <td>LU STRUT RA / RADIUS ROD</td>\n",
       "      <td>12.045277</td>\n",
       "    </tr>\n",
       "    <tr>\n",
       "      <th>4</th>\n",
       "      <td>VAMOSYS</td>\n",
       "      <td>VCV00014744/082021</td>\n",
       "      <td>Regular</td>\n",
       "      <td>2020-08-28 01:23:19.243</td>\n",
       "      <td>TN68F1722</td>\n",
       "      <td>LUCAS TVS LTD-PONDY,PONDY,PONDICHERRY</td>\n",
       "      <td>LUCAS TVS LTD-PONDY,PONDY,PONDICHERRY</td>\n",
       "      <td>11.8720,79.6320</td>\n",
       "      <td>11.8720,79.6320</td>\n",
       "      <td>2020-08-28 12:40:29</td>\n",
       "      <td>...</td>\n",
       "      <td>32 FT Multi-Axle 14MT - HCV</td>\n",
       "      <td>250.0</td>\n",
       "      <td>TAMIL</td>\n",
       "      <td>8.930762e+09</td>\n",
       "      <td>LUTGCCHE06</td>\n",
       "      <td>Lucas tvs ltd</td>\n",
       "      <td>SRTEXKOR96</td>\n",
       "      <td>SR TRANSPORTS</td>\n",
       "      <td>WISHBONE / V ROD/HDT</td>\n",
       "      <td>13.150591</td>\n",
       "    </tr>\n",
       "    <tr>\n",
       "      <th>...</th>\n",
       "      <td>...</td>\n",
       "      <td>...</td>\n",
       "      <td>...</td>\n",
       "      <td>...</td>\n",
       "      <td>...</td>\n",
       "      <td>...</td>\n",
       "      <td>...</td>\n",
       "      <td>...</td>\n",
       "      <td>...</td>\n",
       "      <td>...</td>\n",
       "      <td>...</td>\n",
       "      <td>...</td>\n",
       "      <td>...</td>\n",
       "      <td>...</td>\n",
       "      <td>...</td>\n",
       "      <td>...</td>\n",
       "      <td>...</td>\n",
       "      <td>...</td>\n",
       "      <td>...</td>\n",
       "      <td>...</td>\n",
       "      <td>...</td>\n",
       "    </tr>\n",
       "    <tr>\n",
       "      <th>6875</th>\n",
       "      <td>JTECH</td>\n",
       "      <td>WDSBKTP42751</td>\n",
       "      <td>Regular</td>\n",
       "      <td>2019-03-27 17:25:33.000</td>\n",
       "      <td>KA219502</td>\n",
       "      <td>Ramamurthy Nagar, Bangalore, Karnataka</td>\n",
       "      <td>Sahakaranagar P.O, Bangalore, Karnataka</td>\n",
       "      <td>13.007503209603689,77.665098855934886</td>\n",
       "      <td>13.068901840235711,77.590655738806618</td>\n",
       "      <td>2019-06-14 15:20:12</td>\n",
       "      <td>...</td>\n",
       "      <td>25 FT Open Body 21MT</td>\n",
       "      <td>250.0</td>\n",
       "      <td>MANU</td>\n",
       "      <td>8.930762e+09</td>\n",
       "      <td>LTLEXMUM40</td>\n",
       "      <td>Larsen &amp; toubro limited</td>\n",
       "      <td>55556</td>\n",
       "      <td>A S TRANSPORTS</td>\n",
       "      <td>TOOL KIT SET</td>\n",
       "      <td>-0.233333</td>\n",
       "    </tr>\n",
       "    <tr>\n",
       "      <th>6876</th>\n",
       "      <td>JTECH</td>\n",
       "      <td>WDSBKTP43203</td>\n",
       "      <td>Regular</td>\n",
       "      <td>2019-03-31 15:02:34.000</td>\n",
       "      <td>KA01AE9163</td>\n",
       "      <td>Ramamurthy Nagar, Bangalore, Karnataka</td>\n",
       "      <td>Bangalore International Airport, Bangalore, Ka...</td>\n",
       "      <td>13.007503209603689,77.665098855934886</td>\n",
       "      <td>13.196312912801169,77.708156925688726</td>\n",
       "      <td>2019-06-14 15:20:12</td>\n",
       "      <td>...</td>\n",
       "      <td>40 FT 3XL Trailer 35MT</td>\n",
       "      <td>250.0</td>\n",
       "      <td>MANU</td>\n",
       "      <td>8.930762e+09</td>\n",
       "      <td>LTLEXMUM40</td>\n",
       "      <td>Larsen &amp; toubro limited</td>\n",
       "      <td>55556</td>\n",
       "      <td>A S TRANSPORTS</td>\n",
       "      <td>CONTROL LEVER ASSY</td>\n",
       "      <td>2.350000</td>\n",
       "    </tr>\n",
       "    <tr>\n",
       "      <th>6877</th>\n",
       "      <td>JTECH</td>\n",
       "      <td>WDSBKTP43021</td>\n",
       "      <td>Regular</td>\n",
       "      <td>2019-03-29 18:56:26.000</td>\n",
       "      <td>KA01AE9163</td>\n",
       "      <td>Mugabala, Bangalore Rural, Karnataka</td>\n",
       "      <td>Anekal, Bangalore, Karnataka</td>\n",
       "      <td>16.560192249175344,80.792293091599547</td>\n",
       "      <td>12.722686,77.676518</td>\n",
       "      <td>2019-06-14 15:20:12</td>\n",
       "      <td>...</td>\n",
       "      <td>40 FT 3XL Trailer 35MT</td>\n",
       "      <td>250.0</td>\n",
       "      <td>MANU</td>\n",
       "      <td>8.930762e+09</td>\n",
       "      <td>LTLEXMUM40</td>\n",
       "      <td>Larsen &amp; toubro limited</td>\n",
       "      <td>55556</td>\n",
       "      <td>A S TRANSPORTS</td>\n",
       "      <td>SPARE PARTS AUTOMOBILE</td>\n",
       "      <td>4.150000</td>\n",
       "    </tr>\n",
       "    <tr>\n",
       "      <th>6878</th>\n",
       "      <td>JTECH</td>\n",
       "      <td>WDSBKTP42685</td>\n",
       "      <td>Regular</td>\n",
       "      <td>2019-03-27 08:29:45.000</td>\n",
       "      <td>KA21A3643</td>\n",
       "      <td>Mugabala, Bangalore Rural, Karnataka</td>\n",
       "      <td>Anekal, Bangalore, Karnataka</td>\n",
       "      <td>16.560192249175344,80.792293091599547</td>\n",
       "      <td>12.896896847817695,77.712223056874862</td>\n",
       "      <td>2019-06-14 15:20:12</td>\n",
       "      <td>...</td>\n",
       "      <td>40 FT 3XL Trailer 35MT</td>\n",
       "      <td>250.0</td>\n",
       "      <td>MANU</td>\n",
       "      <td>8.930762e+09</td>\n",
       "      <td>LTLEXMUM40</td>\n",
       "      <td>Larsen &amp; toubro limited</td>\n",
       "      <td>55556</td>\n",
       "      <td>A S TRANSPORTS</td>\n",
       "      <td>SPARE PARTS AUTOMOBILE</td>\n",
       "      <td>1.100000</td>\n",
       "    </tr>\n",
       "    <tr>\n",
       "      <th>6879</th>\n",
       "      <td>JTECH</td>\n",
       "      <td>WDSBKTP42858</td>\n",
       "      <td>Regular</td>\n",
       "      <td>2019-03-28 17:55:17.000</td>\n",
       "      <td>KA51D1317</td>\n",
       "      <td>Mugabala, Bangalore Rural, Karnataka</td>\n",
       "      <td>Anekal, Bangalore, Karnataka</td>\n",
       "      <td>16.560192249175344,80.792293091599547</td>\n",
       "      <td>13.199089183304451,77.708554234959038</td>\n",
       "      <td>2019-06-14 15:20:12</td>\n",
       "      <td>...</td>\n",
       "      <td>40 FT 3XL Trailer 35MT</td>\n",
       "      <td>250.0</td>\n",
       "      <td>MANU</td>\n",
       "      <td>8.930762e+09</td>\n",
       "      <td>LTLEXMUM40</td>\n",
       "      <td>Larsen &amp; toubro limited</td>\n",
       "      <td>55556</td>\n",
       "      <td>A S TRANSPORTS</td>\n",
       "      <td>SPARE PARTS AUTOMOBILE</td>\n",
       "      <td>3.250000</td>\n",
       "    </tr>\n",
       "  </tbody>\n",
       "</table>\n",
       "<p>6880 rows × 33 columns</p>\n",
       "</div>"
      ]
     },
     "execution_count": 83,
     "metadata": {},
     "output_type": "execute_result"
    }
   ],
   "execution_count": 83
  },
  {
   "metadata": {},
   "cell_type": "markdown",
   "source": "### 2.6 visao geral do dataframe depois de tratada"
  },
  {
   "metadata": {
    "ExecuteTime": {
     "end_time": "2025-09-20T15:53:45.716119Z",
     "start_time": "2025-09-20T15:53:45.694929Z"
    }
   },
   "cell_type": "code",
   "source": [
    "df.head()"
   ],
   "outputs": [
    {
     "data": {
      "text/plain": [
       "     GpsProvider           BookingID Market/Regular           BookingID_Date  \\\n",
       "0  CONSENT TRACK  MVCV0000927/082021          Market 2020-08-17 14:59:01.000   \n",
       "1        VAMOSYS  VCV00014271/082021         Regular 2020-08-27 16:22:22.827   \n",
       "2  CONSENT TRACK  VCV00014382/082021         Regular 2020-08-27 17:59:24.987   \n",
       "3        VAMOSYS  VCV00014743/082021         Regular 2020-08-28 00:48:24.503   \n",
       "4        VAMOSYS  VCV00014744/082021         Regular 2020-08-28 01:23:19.243   \n",
       "\n",
       "   vehicle_no                                    Origin_Location  \\\n",
       "0    KA590408               TVSLSL-PUZHAL-HUB,CHENNAI,TAMIL NADU   \n",
       "1  TN30BC5917  DAIMLER INDIA COMMERCIAL VEHICLES,KANCHIPURAM,...   \n",
       "2  TN22AR2748              LUCAS TVS LTD-PONDY,PONDY,PONDICHERRY   \n",
       "3  TN28AQ0781  DAIMLER INDIA COMMERCIAL VEHICLES,KANCHIPURAM,...   \n",
       "4   TN68F1722              LUCAS TVS LTD-PONDY,PONDY,PONDICHERRY   \n",
       "\n",
       "                                Destination_Location      Org_lat_lon  \\\n",
       "0       ASHOK LEYLAND PLANT 1- HOSUR,HOSUR,KARNATAKA  13.1550,80.1960   \n",
       "1  DAIMLER INDIA COMMERCIAL VEHICLES,KANCHIPURAM,...  12.8390,79.9540   \n",
       "2              LUCAS TVS LTD-PONDY,PONDY,PONDICHERRY  11.8710,79.7390   \n",
       "3  DAIMLER INDIA COMMERCIAL VEHICLES,KANCHIPURAM,...  12.8390,79.9540   \n",
       "4              LUCAS TVS LTD-PONDY,PONDY,PONDICHERRY  11.8720,79.6320   \n",
       "\n",
       "       Des_lat_lon      Data_Ping_time  ...                  vehicleType  \\\n",
       "0  12.7400,77.8200 2020-08-24 00:05:09  ...  32 FT Single-Axle 7MT - HCV   \n",
       "1  12.8390,79.9540 2020-08-28 12:40:28  ...  32 FT Multi-Axle 14MT - HCV   \n",
       "2  11.8710,79.7390 2020-08-28 09:05:09  ...    1 MT Tata Ace (Open Body)   \n",
       "3  12.8390,79.9540 2020-08-28 12:40:31  ...  32 FT Multi-Axle 14MT - HCV   \n",
       "4  11.8720,79.6320 2020-08-28 12:40:29  ...  32 FT Multi-Axle 14MT - HCV   \n",
       "\n",
       "  Minimum_kms_to_be_covered_in_a_day Driver_Name Driver_MobileNo  customerID  \\\n",
       "0                              250.0        MANU    8.930762e+09  ALLEXCHE45   \n",
       "1                              250.0      RAMESH    8.930762e+09  DMREXCHEUX   \n",
       "2                              250.0        GIRI    8.930762e+09  LUTGCCHE06   \n",
       "3                              250.0        RAVI    8.930762e+09  DMREXCHEUX   \n",
       "4                              250.0       TAMIL    8.930762e+09  LUTGCCHE06   \n",
       "\n",
       "                           customerNameCode  supplierID   supplierNameCode  \\\n",
       "0                     Ashok leyland limited  VIJEXHOSR7    VIJAY TRANSPORT   \n",
       "1  Daimler india commercial vehicles pvt lt  VJLEXSHE09       VJ LOGISTICS   \n",
       "2                             Lucas tvs ltd  GSTEXLAK1Q     G.S. TRANSPORT   \n",
       "3  Daimler india commercial vehicles pvt lt  ARVEXNAM09  ARVINTH TRANSPORT   \n",
       "4                             Lucas tvs ltd  SRTEXKOR96      SR TRANSPORTS   \n",
       "\n",
       "           Material Shipped trip_duration_hours  \n",
       "0     BRACKET / GRAB HANDLE          263.650958  \n",
       "1     ZB MODEL PLATE / 3143           20.406946  \n",
       "2          LETTERING / FUSO           22.107443  \n",
       "3  LU STRUT RA / RADIUS ROD           12.045277  \n",
       "4      WISHBONE / V ROD/HDT           13.150591  \n",
       "\n",
       "[5 rows x 33 columns]"
      ],
      "text/html": [
       "<div>\n",
       "<style scoped>\n",
       "    .dataframe tbody tr th:only-of-type {\n",
       "        vertical-align: middle;\n",
       "    }\n",
       "\n",
       "    .dataframe tbody tr th {\n",
       "        vertical-align: top;\n",
       "    }\n",
       "\n",
       "    .dataframe thead th {\n",
       "        text-align: right;\n",
       "    }\n",
       "</style>\n",
       "<table border=\"1\" class=\"dataframe\">\n",
       "  <thead>\n",
       "    <tr style=\"text-align: right;\">\n",
       "      <th></th>\n",
       "      <th>GpsProvider</th>\n",
       "      <th>BookingID</th>\n",
       "      <th>Market/Regular</th>\n",
       "      <th>BookingID_Date</th>\n",
       "      <th>vehicle_no</th>\n",
       "      <th>Origin_Location</th>\n",
       "      <th>Destination_Location</th>\n",
       "      <th>Org_lat_lon</th>\n",
       "      <th>Des_lat_lon</th>\n",
       "      <th>Data_Ping_time</th>\n",
       "      <th>...</th>\n",
       "      <th>vehicleType</th>\n",
       "      <th>Minimum_kms_to_be_covered_in_a_day</th>\n",
       "      <th>Driver_Name</th>\n",
       "      <th>Driver_MobileNo</th>\n",
       "      <th>customerID</th>\n",
       "      <th>customerNameCode</th>\n",
       "      <th>supplierID</th>\n",
       "      <th>supplierNameCode</th>\n",
       "      <th>Material Shipped</th>\n",
       "      <th>trip_duration_hours</th>\n",
       "    </tr>\n",
       "  </thead>\n",
       "  <tbody>\n",
       "    <tr>\n",
       "      <th>0</th>\n",
       "      <td>CONSENT TRACK</td>\n",
       "      <td>MVCV0000927/082021</td>\n",
       "      <td>Market</td>\n",
       "      <td>2020-08-17 14:59:01.000</td>\n",
       "      <td>KA590408</td>\n",
       "      <td>TVSLSL-PUZHAL-HUB,CHENNAI,TAMIL NADU</td>\n",
       "      <td>ASHOK LEYLAND PLANT 1- HOSUR,HOSUR,KARNATAKA</td>\n",
       "      <td>13.1550,80.1960</td>\n",
       "      <td>12.7400,77.8200</td>\n",
       "      <td>2020-08-24 00:05:09</td>\n",
       "      <td>...</td>\n",
       "      <td>32 FT Single-Axle 7MT - HCV</td>\n",
       "      <td>250.0</td>\n",
       "      <td>MANU</td>\n",
       "      <td>8.930762e+09</td>\n",
       "      <td>ALLEXCHE45</td>\n",
       "      <td>Ashok leyland limited</td>\n",
       "      <td>VIJEXHOSR7</td>\n",
       "      <td>VIJAY TRANSPORT</td>\n",
       "      <td>BRACKET / GRAB HANDLE</td>\n",
       "      <td>263.650958</td>\n",
       "    </tr>\n",
       "    <tr>\n",
       "      <th>1</th>\n",
       "      <td>VAMOSYS</td>\n",
       "      <td>VCV00014271/082021</td>\n",
       "      <td>Regular</td>\n",
       "      <td>2020-08-27 16:22:22.827</td>\n",
       "      <td>TN30BC5917</td>\n",
       "      <td>DAIMLER INDIA COMMERCIAL VEHICLES,KANCHIPURAM,...</td>\n",
       "      <td>DAIMLER INDIA COMMERCIAL VEHICLES,KANCHIPURAM,...</td>\n",
       "      <td>12.8390,79.9540</td>\n",
       "      <td>12.8390,79.9540</td>\n",
       "      <td>2020-08-28 12:40:28</td>\n",
       "      <td>...</td>\n",
       "      <td>32 FT Multi-Axle 14MT - HCV</td>\n",
       "      <td>250.0</td>\n",
       "      <td>RAMESH</td>\n",
       "      <td>8.930762e+09</td>\n",
       "      <td>DMREXCHEUX</td>\n",
       "      <td>Daimler india commercial vehicles pvt lt</td>\n",
       "      <td>VJLEXSHE09</td>\n",
       "      <td>VJ LOGISTICS</td>\n",
       "      <td>ZB MODEL PLATE / 3143</td>\n",
       "      <td>20.406946</td>\n",
       "    </tr>\n",
       "    <tr>\n",
       "      <th>2</th>\n",
       "      <td>CONSENT TRACK</td>\n",
       "      <td>VCV00014382/082021</td>\n",
       "      <td>Regular</td>\n",
       "      <td>2020-08-27 17:59:24.987</td>\n",
       "      <td>TN22AR2748</td>\n",
       "      <td>LUCAS TVS LTD-PONDY,PONDY,PONDICHERRY</td>\n",
       "      <td>LUCAS TVS LTD-PONDY,PONDY,PONDICHERRY</td>\n",
       "      <td>11.8710,79.7390</td>\n",
       "      <td>11.8710,79.7390</td>\n",
       "      <td>2020-08-28 09:05:09</td>\n",
       "      <td>...</td>\n",
       "      <td>1 MT Tata Ace (Open Body)</td>\n",
       "      <td>250.0</td>\n",
       "      <td>GIRI</td>\n",
       "      <td>8.930762e+09</td>\n",
       "      <td>LUTGCCHE06</td>\n",
       "      <td>Lucas tvs ltd</td>\n",
       "      <td>GSTEXLAK1Q</td>\n",
       "      <td>G.S. TRANSPORT</td>\n",
       "      <td>LETTERING / FUSO</td>\n",
       "      <td>22.107443</td>\n",
       "    </tr>\n",
       "    <tr>\n",
       "      <th>3</th>\n",
       "      <td>VAMOSYS</td>\n",
       "      <td>VCV00014743/082021</td>\n",
       "      <td>Regular</td>\n",
       "      <td>2020-08-28 00:48:24.503</td>\n",
       "      <td>TN28AQ0781</td>\n",
       "      <td>DAIMLER INDIA COMMERCIAL VEHICLES,KANCHIPURAM,...</td>\n",
       "      <td>DAIMLER INDIA COMMERCIAL VEHICLES,KANCHIPURAM,...</td>\n",
       "      <td>12.8390,79.9540</td>\n",
       "      <td>12.8390,79.9540</td>\n",
       "      <td>2020-08-28 12:40:31</td>\n",
       "      <td>...</td>\n",
       "      <td>32 FT Multi-Axle 14MT - HCV</td>\n",
       "      <td>250.0</td>\n",
       "      <td>RAVI</td>\n",
       "      <td>8.930762e+09</td>\n",
       "      <td>DMREXCHEUX</td>\n",
       "      <td>Daimler india commercial vehicles pvt lt</td>\n",
       "      <td>ARVEXNAM09</td>\n",
       "      <td>ARVINTH TRANSPORT</td>\n",
       "      <td>LU STRUT RA / RADIUS ROD</td>\n",
       "      <td>12.045277</td>\n",
       "    </tr>\n",
       "    <tr>\n",
       "      <th>4</th>\n",
       "      <td>VAMOSYS</td>\n",
       "      <td>VCV00014744/082021</td>\n",
       "      <td>Regular</td>\n",
       "      <td>2020-08-28 01:23:19.243</td>\n",
       "      <td>TN68F1722</td>\n",
       "      <td>LUCAS TVS LTD-PONDY,PONDY,PONDICHERRY</td>\n",
       "      <td>LUCAS TVS LTD-PONDY,PONDY,PONDICHERRY</td>\n",
       "      <td>11.8720,79.6320</td>\n",
       "      <td>11.8720,79.6320</td>\n",
       "      <td>2020-08-28 12:40:29</td>\n",
       "      <td>...</td>\n",
       "      <td>32 FT Multi-Axle 14MT - HCV</td>\n",
       "      <td>250.0</td>\n",
       "      <td>TAMIL</td>\n",
       "      <td>8.930762e+09</td>\n",
       "      <td>LUTGCCHE06</td>\n",
       "      <td>Lucas tvs ltd</td>\n",
       "      <td>SRTEXKOR96</td>\n",
       "      <td>SR TRANSPORTS</td>\n",
       "      <td>WISHBONE / V ROD/HDT</td>\n",
       "      <td>13.150591</td>\n",
       "    </tr>\n",
       "  </tbody>\n",
       "</table>\n",
       "<p>5 rows × 33 columns</p>\n",
       "</div>"
      ]
     },
     "execution_count": 84,
     "metadata": {},
     "output_type": "execute_result"
    }
   ],
   "execution_count": 84
  },
  {
   "cell_type": "markdown",
   "metadata": {},
   "source": [
    "## 3. Análise Exploratória de Dados (EDA)"
   ]
  },
  {
   "cell_type": "markdown",
   "metadata": {},
   "source": [
    "### 3.1. Estatísticas Descritivas\n",
    "Vamos começar com uma visão geral estatística dos dados numéricos e categóricos para entender a sua distribuição e identificar possíveis anomalias."
   ]
  },
  {
   "cell_type": "code",
   "metadata": {
    "ExecuteTime": {
     "end_time": "2025-09-20T15:53:46.010426Z",
     "start_time": "2025-09-20T15:53:45.880251Z"
    }
   },
   "source": [
    "print(\"Estatísticas Descritivas para Colunas Numéricas:\")\n",
    "print(df.describe())\n",
    "\n",
    "print(\"Estatísticas Descritivas para Colunas Categóricas:\")\n",
    "print(df.describe(include=\"object\"))\n",
    "\n",
    "print(\"Distribuição da Duração da Viagem (horas):\")\n",
    "print(df[\"trip_duration_hours\"].describe())"
   ],
   "outputs": [
    {
     "name": "stdout",
     "output_type": "stream",
     "text": [
      "Estatísticas Descritivas para Colunas Numéricas:\n",
      "                      BookingID_Date                 Data_Ping_time  \\\n",
      "count                           6880                           5927   \n",
      "mean   2020-02-08 05:18:40.453054208  2020-04-06 04:54:24.370193920   \n",
      "min              2019-03-18 12:19:22            2019-06-07 18:25:10   \n",
      "25%       2019-10-11 18:47:32.500000            2019-12-01 07:35:10   \n",
      "50%       2020-01-20 13:49:40.500000            2020-06-19 16:10:08   \n",
      "75%    2020-07-30 13:46:34.750000128            2020-08-10 15:52:45   \n",
      "max              2020-12-03 13:10:21            2020-08-28 12:40:31   \n",
      "std                              NaN                            NaN   \n",
      "\n",
      "                         Planned_ETA                     actual_eta  \\\n",
      "count                           6880                           6880   \n",
      "mean   2020-01-28 16:55:28.104071680  2020-02-07 06:52:51.626986752   \n",
      "min              1899-12-30 04:06:00            1899-12-30 03:21:00   \n",
      "25%              2019-10-12 01:25:20  2019-11-09 17:00:02.878499840   \n",
      "50%       2020-01-20 17:40:05.500000  2020-01-30 21:27:07.293500160   \n",
      "75%    2020-08-02 02:41:48.249999872  2020-08-06 13:47:20.218999808   \n",
      "max              2020-12-05 00:57:28     2020-08-30 03:21:27.263000   \n",
      "std                              NaN                            NaN   \n",
      "\n",
      "          Curr_lat     Curr_lon                trip_start_date  \\\n",
      "count  6880.000000  6880.000000                           6880   \n",
      "mean     18.512517    78.632807  2020-01-26 17:04:46.352471296   \n",
      "min       8.166790    69.657698            1899-12-30 00:00:00   \n",
      "25%      12.991093    77.282660     2019-10-11 18:47:32.500000   \n",
      "50%      17.470922    77.843340     2020-01-20 13:49:40.500000   \n",
      "75%      22.996990    79.952711  2020-07-30 13:46:34.750000128   \n",
      "max      32.367928    95.529550            2020-12-03 13:10:21   \n",
      "std       5.654480     3.926197                            NaN   \n",
      "\n",
      "                       trip_end_date  TRANSPORTATION_DISTANCE_IN_KM  \\\n",
      "count                           6880                    6880.000000   \n",
      "mean   2020-01-23 09:43:19.047618560                     513.096737   \n",
      "min              1899-12-30 03:21:00                       0.000000   \n",
      "25%              2019-10-21 12:33:00                      45.925000   \n",
      "50%              2020-01-10 15:50:00                     160.000000   \n",
      "75%              2020-07-30 15:36:30                     660.000000   \n",
      "max              2020-08-28 12:15:10                    2954.700000   \n",
      "std                              NaN                     728.576753   \n",
      "\n",
      "       Minimum_kms_to_be_covered_in_a_day  Driver_MobileNo  \\\n",
      "count                         6880.000000     6.880000e+03   \n",
      "mean                           250.098110     8.800991e+09   \n",
      "min                              0.000000     6.000546e+09   \n",
      "25%                            250.000000     8.930762e+09   \n",
      "50%                            250.000000     8.930762e+09   \n",
      "75%                            250.000000     8.930762e+09   \n",
      "max                            275.000000     1.000000e+10   \n",
      "std                             15.566115     7.259616e+08   \n",
      "\n",
      "       trip_duration_hours  \n",
      "count          6880.000000  \n",
      "mean            277.801465  \n",
      "min           -2885.440449  \n",
      "25%              29.067481  \n",
      "50%             105.506826  \n",
      "75%             219.190675  \n",
      "max            7397.818249  \n",
      "std             622.841973  \n",
      "Estatísticas Descritivas para Colunas Categóricas:\n",
      "          GpsProvider           BookingID Market/Regular   vehicle_no  \\\n",
      "count            6880                6880            6880        6880   \n",
      "unique             29                6875               2        2325   \n",
      "top     CONSENT TRACK  MVCV0000798/082021         Regular  TS15UC9341   \n",
      "freq             4812                   3            6811          37   \n",
      "\n",
      "                             Origin_Location  \\\n",
      "count                                   6880   \n",
      "unique                                   180   \n",
      "top     Mugabala, Bangalore Rural, Karnataka   \n",
      "freq                                     572   \n",
      "\n",
      "                                     Destination_Location  \\\n",
      "count                                                6880   \n",
      "unique                                                520   \n",
      "top     DAIMLER INDIA COMMERCIAL VEHICLES,KANCHIPURAM,...   \n",
      "freq                                                  342   \n",
      "\n",
      "                                  Org_lat_lon      Des_lat_lon  \\\n",
      "count                                    6880             6880   \n",
      "unique                                    173              522   \n",
      "top     16.560192249175344,80.792293091599547  12.8390,79.9540   \n",
      "freq                                     1189              342   \n",
      "\n",
      "                                         Current_Location  \\\n",
      "count                                                6880   \n",
      "unique                                               2567   \n",
      "top     Perumalpattu - Kottamedu Rd, Oragadam Industri...   \n",
      "freq                                                 1162   \n",
      "\n",
      "                                      DestinationLocation  ... delay  \\\n",
      "count                                                6880  ...  4342   \n",
      "unique                                                520  ...     1   \n",
      "top     DAIMLER INDIA COMMERCIAL VEHICLES,KANCHIPURAM,...  ...     R   \n",
      "freq                                                  342  ...  4342   \n",
      "\n",
      "       OriginLocation_Code DestinationLocation_Code             vehicleType  \\\n",
      "count                 6880                     6880                    6880   \n",
      "unique                 178                      478                      44   \n",
      "top              V0048673             CHEMMNFILCCA1  40 FT 3XL Trailer 35MT   \n",
      "freq                  1189                      286                    3344   \n",
      "\n",
      "       Driver_Name  customerID         customerNameCode supplierID  \\\n",
      "count         6880        6880                     6880       6880   \n",
      "unique        1355          39                       39        321   \n",
      "top           MANU  LTLEXMUM40  Larsen & toubro limited        999   \n",
      "freq          3489        4092                     4092        742   \n",
      "\n",
      "        supplierNameCode Material Shipped  \n",
      "count               6880             6880  \n",
      "unique               309             1407  \n",
      "top              Unknown       AUTO PARTS  \n",
      "freq                 742             1510  \n",
      "\n",
      "[4 rows x 21 columns]\n",
      "Distribuição da Duração da Viagem (horas):\n",
      "count    6880.000000\n",
      "mean      277.801465\n",
      "std       622.841973\n",
      "min     -2885.440449\n",
      "25%        29.067481\n",
      "50%       105.506826\n",
      "75%       219.190675\n",
      "max      7397.818249\n",
      "Name: trip_duration_hours, dtype: float64\n"
     ]
    }
   ],
   "execution_count": 85
  },
  {
   "cell_type": "markdown",
   "metadata": {},
   "source": [
    "### 3.2. Análise da Distribuição das Variáveis e Identificação de Outliers\n",
    "Vamos analisar a distribuição de algumas variáveis chave e identificar possíveis outliers que possam impactar a análise."
   ]
  },
  {
   "cell_type": "code",
   "metadata": {
    "ExecuteTime": {
     "end_time": "2025-09-20T15:53:47.174316Z",
     "start_time": "2025-09-20T15:53:46.129514Z"
    }
   },
   "source": [
    "fig, axes = plt.subplots(1, 2, figsize=(16, 6))\n",
    "\n",
    "sns.histplot(df[\"trip_duration_hours\"], bins=50, kde=True, ax=axes[0], color=\"skyblue\")\n",
    "axes[0].set_title(\n",
    "    \"Distribuição da Duração das Viagens (Horas)\", fontsize=14, weight=\"bold\"\n",
    ")\n",
    "axes[0].set_xlabel(\"Duração da Viagem (horas)\")\n",
    "axes[0].set_ylabel(\"Frequência\")\n",
    "axes[0].axvline(\n",
    "    df[\"trip_duration_hours\"].mean(), color=\"red\", linestyle=\"--\", label=\"Média\"\n",
    ")\n",
    "axes[0].axvline(\n",
    "    df[\"trip_duration_hours\"].median(), color=\"green\", linestyle=\"--\", label=\"Mediana\"\n",
    ")\n",
    "axes[0].legend()\n",
    "\n",
    "sns.boxplot(y=df[\"trip_duration_hours\"], ax=axes[1], color=\"lightcoral\")\n",
    "axes[1].set_title(\"Boxplot da Duração das Viagens (Horas)\", fontsize=14, weight=\"bold\")\n",
    "axes[1].set_ylabel(\"Duração da Viagem (horas)\")\n",
    "\n",
    "plt.tight_layout()\n",
    "plt.show()\n",
    "\n",
    "\n",
    "fig, axes = plt.subplots(1, 2, figsize=(16, 6))\n",
    "\n",
    "# Histograma + KDE\n",
    "sns.histplot(\n",
    "    df[\"TRANSPORTATION_DISTANCE_IN_KM\"],\n",
    "    bins=50,\n",
    "    kde=True,\n",
    "    ax=axes[0],\n",
    "    color=\"lightgreen\",\n",
    ")\n",
    "axes[0].set_title(\n",
    "    \"Distribuição da Distância de Transporte (KM)\", fontsize=14, weight=\"bold\"\n",
    ")\n",
    "axes[0].set_xlabel(\"Distância (KM)\")\n",
    "axes[0].set_ylabel(\"Frequência\")\n",
    "axes[0].axvline(\n",
    "    df[\"TRANSPORTATION_DISTANCE_IN_KM\"].mean(),\n",
    "    color=\"red\",\n",
    "    linestyle=\"--\",\n",
    "    label=\"Média\",\n",
    ")\n",
    "axes[0].axvline(\n",
    "    df[\"TRANSPORTATION_DISTANCE_IN_KM\"].median(),\n",
    "    color=\"blue\",\n",
    "    linestyle=\"--\",\n",
    "    label=\"Mediana\",\n",
    ")\n",
    "axes[0].legend()\n",
    "\n",
    "# Boxplot\n",
    "sns.boxplot(y=df[\"TRANSPORTATION_DISTANCE_IN_KM\"], ax=axes[1], color=\"gold\")\n",
    "axes[1].set_title(\"Boxplot da Distância de Transporte (KM)\", fontsize=14, weight=\"bold\")\n",
    "axes[1].set_ylabel(\"Distância (KM)\")\n",
    "\n",
    "plt.tight_layout()\n",
    "plt.show()\n",
    "\n",
    "Q1 = df[\"trip_duration_hours\"].quantile(0.25)\n",
    "Q3 = df[\"trip_duration_hours\"].quantile(0.75)\n",
    "IQR = Q3 - Q1\n",
    "lower_bound = Q1 - 1.5 * IQR\n",
    "upper_bound = Q3 + 1.5 * IQR\n",
    "\n",
    "outliers_duration = df[\n",
    "    (df[\"trip_duration_hours\"] < lower_bound)\n",
    "    | (df[\"trip_duration_hours\"] > upper_bound)\n",
    "]\n",
    "\n",
    "print(f\" Número de outliers na duração da viagem: {len(outliers_duration)}\")\n",
    "print(\"Exemplo de outliers na duração da viagem:\")\n",
    "display(\n",
    "    outliers_duration[\n",
    "        [\"BookingID\", \"trip_duration_hours\", \"TRANSPORTATION_DISTANCE_IN_KM\"]\n",
    "    ].head()\n",
    ")"
   ],
   "outputs": [
    {
     "data": {
      "text/plain": [
       "<Figure size 1600x600 with 2 Axes>"
      ],
      "image/png": "[encoded data removed]"
     },
     "metadata": {},
     "output_type": "display_data"
    },
    {
     "data": {
      "text/plain": [
       "<Figure size 1600x600 with 2 Axes>"
      ],
      "image/png": "[encoded data removed]"
     },
     "metadata": {},
     "output_type": "display_data"
    },
    {
     "name": "stdout",
     "output_type": "stream",
     "text": [
      "Número de outliers na duração da viagem: 901\n",
      "Exemplo de outliers na duração da viagem:\n"
     ]
    },
    {
     "data": {
      "text/plain": [
       "         BookingID  trip_duration_hours  TRANSPORTATION_DISTANCE_IN_KM\n",
       "1086  AEIBK2022716           860.913863                         1000.0\n",
       "1216  AEIBK2023415           633.667401                         1900.0\n",
       "1358  AEIBK2021224          1244.548892                         1199.0\n",
       "1359  AEIBK2021709          1098.553873                         1330.0\n",
       "1360  AEIBK2020139          1619.423786                         2230.0"
      ],
      "text/html": [
       "<div>\n",
       "<style scoped>\n",
       "    .dataframe tbody tr th:only-of-type {\n",
       "        vertical-align: middle;\n",
       "    }\n",
       "\n",
       "    .dataframe tbody tr th {\n",
       "        vertical-align: top;\n",
       "    }\n",
       "\n",
       "    .dataframe thead th {\n",
       "        text-align: right;\n",
       "    }\n",
       "</style>\n",
       "<table border=\"1\" class=\"dataframe\">\n",
       "  <thead>\n",
       "    <tr style=\"text-align: right;\">\n",
       "      <th></th>\n",
       "      <th>BookingID</th>\n",
       "      <th>trip_duration_hours</th>\n",
       "      <th>TRANSPORTATION_DISTANCE_IN_KM</th>\n",
       "    </tr>\n",
       "  </thead>\n",
       "  <tbody>\n",
       "    <tr>\n",
       "      <th>1086</th>\n",
       "      <td>AEIBK2022716</td>\n",
       "      <td>860.913863</td>\n",
       "      <td>1000.0</td>\n",
       "    </tr>\n",
       "    <tr>\n",
       "      <th>1216</th>\n",
       "      <td>AEIBK2023415</td>\n",
       "      <td>633.667401</td>\n",
       "      <td>1900.0</td>\n",
       "    </tr>\n",
       "    <tr>\n",
       "      <th>1358</th>\n",
       "      <td>AEIBK2021224</td>\n",
       "      <td>1244.548892</td>\n",
       "      <td>1199.0</td>\n",
       "    </tr>\n",
       "    <tr>\n",
       "      <th>1359</th>\n",
       "      <td>AEIBK2021709</td>\n",
       "      <td>1098.553873</td>\n",
       "      <td>1330.0</td>\n",
       "    </tr>\n",
       "    <tr>\n",
       "      <th>1360</th>\n",
       "      <td>AEIBK2020139</td>\n",
       "      <td>1619.423786</td>\n",
       "      <td>2230.0</td>\n",
       "    </tr>\n",
       "  </tbody>\n",
       "</table>\n",
       "</div>"
      ]
     },
     "metadata": {},
     "output_type": "display_data"
    }
   ],
   "execution_count": 86
  },
  {
   "cell_type": "markdown",
   "metadata": {},
   "source": [
    "### 3.3. Análise de Correlações\n",
    "Vamos investigar as correlações entre as variáveis numéricas para entender como elas se relacionam."
   ]
  },
  {
   "cell_type": "code",
   "metadata": {
    "ExecuteTime": {
     "end_time": "2025-09-20T15:53:47.482780Z",
     "start_time": "2025-09-20T15:53:47.194319Z"
    }
   },
   "source": [
    "numeric_cols = df.select_dtypes(include=np.number).columns.tolist()\n",
    "correlation_matrix = df[numeric_cols].corr()\n",
    "\n",
    "plt.figure(figsize=(12, 10))\n",
    "sns.heatmap(correlation_matrix, annot=True, cmap=\"coolwarm\", fmt=\".2f\")\n",
    "plt.title(\"Matriz de Correlação das Variáveis Numéricas\")\n",
    "plt.show()\n",
    "\n",
    "print(\"Matriz de Correlação:\")\n",
    "print(correlation_matrix)"
   ],
   "outputs": [
    {
     "data": {
      "text/plain": [
       "<Figure size 1200x1000 with 2 Axes>"
      ],
      "image/png": "[encoded data removed]"
     },
     "metadata": {},
     "output_type": "display_data"
    },
    {
     "name": "stdout",
     "output_type": "stream",
     "text": [
      "Matriz de Correlação:\n",
      "                                    Curr_lat  Curr_lon  \\\n",
      "Curr_lat                            1.000000  0.020084   \n",
      "Curr_lon                            0.020084  1.000000   \n",
      "TRANSPORTATION_DISTANCE_IN_KM       0.092215 -0.068425   \n",
      "Minimum_kms_to_be_covered_in_a_day  0.032663  0.022609   \n",
      "Driver_MobileNo                    -0.113427 -0.004231   \n",
      "trip_duration_hours                 0.134056  0.063126   \n",
      "\n",
      "                                    TRANSPORTATION_DISTANCE_IN_KM  \\\n",
      "Curr_lat                                                 0.092215   \n",
      "Curr_lon                                                -0.068425   \n",
      "TRANSPORTATION_DISTANCE_IN_KM                            1.000000   \n",
      "Minimum_kms_to_be_covered_in_a_day                       0.020730   \n",
      "Driver_MobileNo                                         -0.179005   \n",
      "trip_duration_hours                                     -0.072300   \n",
      "\n",
      "                                    Minimum_kms_to_be_covered_in_a_day  \\\n",
      "Curr_lat                                                      0.032663   \n",
      "Curr_lon                                                      0.022609   \n",
      "TRANSPORTATION_DISTANCE_IN_KM                                 0.020730   \n",
      "Minimum_kms_to_be_covered_in_a_day                            1.000000   \n",
      "Driver_MobileNo                                               0.000577   \n",
      "trip_duration_hours                                          -0.019190   \n",
      "\n",
      "                                    Driver_MobileNo  trip_duration_hours  \n",
      "Curr_lat                                  -0.113427             0.134056  \n",
      "Curr_lon                                  -0.004231             0.063126  \n",
      "TRANSPORTATION_DISTANCE_IN_KM             -0.179005            -0.072300  \n",
      "Minimum_kms_to_be_covered_in_a_day         0.000577            -0.019190  \n",
      "Driver_MobileNo                            1.000000             0.019782  \n",
      "trip_duration_hours                        0.019782             1.000000  \n"
     ]
    }
   ],
   "execution_count": 87
  },
  {
   "cell_type": "markdown",
   "metadata": {},
   "source": [
    "## 4. Visualizações"
   ]
  },
  {
   "cell_type": "markdown",
   "metadata": {},
   "source": [
    "### 4.1. Distribuição de Entregas no Prazo vs. Atrasadas (Matplotlib/Seaborn)\n",
    "Este gráfico de barras mostra a proporção de entregas que foram realizadas no prazo (G) versus as que foram atrasadas (R). É crucial para entender a eficiência geral das operações de logística."
   ]
  },
  {
   "metadata": {
    "ExecuteTime": {
     "end_time": "2025-09-20T15:54:51.240089Z",
     "start_time": "2025-09-20T15:54:51.129673Z"
    }
   },
   "cell_type": "code",
   "source": [
    "delivery_status_ontime = df[\"ontime\"].value_counts()\n",
    "delivery_status_delay = df[\"delay\"].value_counts()\n",
    "\n",
    "print(delivery_status_ontime)\n",
    "print(delivery_status_delay)\n",
    "\n",
    "plt.figure(figsize=(8, 6))\n",
    "\n",
    "plt.bar(\n",
    "    delivery_status_ontime.index.astype(str),\n",
    "    delivery_status_ontime.values,\n",
    "    label=\"Ontime\",\n",
    ")\n",
    "plt.bar(\n",
    "    delivery_status_delay.index.astype(str),\n",
    "    delivery_status_delay.values,\n",
    "    label=\"Delay\",\n",
    "    alpha=0.7,\n",
    ")\n",
    "\n",
    "plt.title(\"Distribuição de Entregas (Ontime vs Delay)\")\n",
    "plt.xlabel(\"Status\")\n",
    "plt.ylabel(\"Quantidade\")\n",
    "plt.xticks(ticks=[0, 1], labels=[\"Ontime (G)\", \"Delay (R)\"])\n",
    "plt.grid(axis=\"y\", linestyle=\"--\", alpha=0.7)\n",
    "plt.legend()\n",
    "plt.show()"
   ],
   "outputs": [
    {
     "name": "stdout",
     "output_type": "stream",
     "text": [
      "ontime\n",
      "G    2548\n",
      "Name: count, dtype: int64\n",
      "delay\n",
      "R    4342\n",
      "Name: count, dtype: int64\n"
     ]
    },
    {
     "data": {
      "text/plain": [
       "<Figure size 800x600 with 1 Axes>"
      ],
      "image/png": "[encoded data removed]"
     },
     "metadata": {},
     "output_type": "display_data"
    }
   ],
   "execution_count": 90
  },
  {
   "cell_type": "markdown",
   "metadata": {},
   "source": [
    "### 4.2. Distribuição da Duração da Viagem (Seaborn)\n",
    "Um histograma com KDE (Kernel Density Estimate) para a duração da viagem em horas nos permite visualizar a forma da distribuição, identificar picos e a dispersão dos dados. Isso ajuda a entender o tempo típico de viagem e a presença de viagens excepcionalmente longas ou curtas."
   ]
  },
  {
   "cell_type": "code",
   "metadata": {
    "ExecuteTime": {
     "end_time": "2025-09-20T15:48:38.864077Z",
     "start_time": "2025-09-20T15:48:38.548876Z"
    }
   },
   "source": [
    "plt.figure(figsize=(12, 7))\n",
    "sns.histplot(df[\"trip_duration_hours\"], bins=50, kde=True, color=\"skyblue\")\n",
    "plt.title(\"Distribuição da Duração da Viagem em Horas\", fontsize=16)\n",
    "plt.xlabel(\"Duração da Viagem (horas)\", fontsize=12)\n",
    "plt.ylabel(\"Frequência\", fontsize=12)\n",
    "plt.grid(axis=\"y\", linestyle=\"--\", alpha=0.7)\n",
    "\n",
    "mean = df[\"trip_duration_hours\"].mean()\n",
    "median = df[\"trip_duration_hours\"].median()\n",
    "\n",
    "plt.axvline(mean, color=\"red\", linestyle=\"--\", label=f\"Média: {mean:.2f}h\")\n",
    "plt.axvline(median, color=\"green\", linestyle=\"-\", label=f\"Mediana: {median:.2f}h\")\n",
    "\n",
    "limite = df[\"trip_duration_hours\"].quantile(0.95)\n",
    "plt.xlim(0, limite)\n",
    "\n",
    "plt.legend()\n",
    "plt.show()"
   ],
   "outputs": [
    {
     "data": {
      "text/plain": [
       "<Figure size 1200x700 with 1 Axes>"
      ],
      "image/png": "[encoded data removed]"
     },
     "metadata": {},
     "output_type": "display_data"
    }
   ],
   "execution_count": 67
  },
  {
   "cell_type": "markdown",
   "metadata": {},
   "source": [
    "### 4.3. Boxplot da Duração da Viagem para Identificação de Outliers (Matplotlib/Seaborn)\n",
    "O boxplot é uma ferramenta eficaz para visualizar a mediana, quartis e identificar outliers na duração da viagem. Outliers podem indicar viagens com problemas, erros de registro ou eventos incomuns que merecem investigação."
   ]
  },
  {
   "cell_type": "code",
   "metadata": {
    "ExecuteTime": {
     "end_time": "2025-09-20T15:48:39.021005Z",
     "start_time": "2025-09-20T15:48:38.891314Z"
    }
   },
   "source": [
    "plt.figure(figsize=(10, 5))\n",
    "sns.boxplot(x=df[\"trip_duration_hours\"], color=\"lightcoral\", fliersize=3, linewidth=1.2)\n",
    "\n",
    "# Título e rótulos\n",
    "plt.title(\"Boxplot da Duração da Viagem em Horas\", fontsize=16)\n",
    "plt.xlabel(\"Duração da Viagem (horas)\", fontsize=12)\n",
    "plt.grid(axis=\"x\", linestyle=\"--\", alpha=0.7)\n",
    "\n",
    "mean = df[\"trip_duration_hours\"].mean()\n",
    "median = df[\"trip_duration_hours\"].median()\n",
    "plt.axvline(mean, color=\"blue\", linestyle=\"--\", label=f\"Média: {mean:.2f}h\")\n",
    "plt.axvline(median, color=\"green\", linestyle=\"-\", label=f\"Mediana: {median:.2f}h\")\n",
    "\n",
    "limite = df[\"trip_duration_hours\"].quantile(0.95)\n",
    "plt.xlim(0, limite)\n",
    "\n",
    "plt.legend()\n",
    "plt.show()"
   ],
   "outputs": [
    {
     "data": {
      "text/plain": [
       "<Figure size 1000x500 with 1 Axes>"
      ],
      "image/png": "[encoded data removed]"
     },
     "metadata": {},
     "output_type": "display_data"
    }
   ],
   "execution_count": 68
  },
  {
   "cell_type": "markdown",
   "metadata": {},
   "source": [
    "### 4.4. Matriz de Correlação Interativa (Plotly)\n",
    "Um mapa de calor interativo da matriz de correlação permite explorar a relação entre todas as variáveis numéricas. Cores mais quentes indicam correlação positiva forte, enquanto cores mais frias indicam correlação negativa forte. A interatividade do Plotly permite inspecionar os valores exatos das correlações ao passar o mouse."
   ]
  },
  {
   "cell_type": "code",
   "metadata": {
    "ExecuteTime": {
     "end_time": "2025-09-20T15:48:39.091303Z",
     "start_time": "2025-09-20T15:48:39.049351Z"
    }
   },
   "source": [
    "numeric_cols = df.select_dtypes(include=np.number).columns.tolist()\n",
    "correlation_matrix = df[numeric_cols].corr()\n",
    "\n",
    "fig = px.imshow(\n",
    "    correlation_matrix,\n",
    "    text_auto=True,\n",
    "    aspect=\"auto\",\n",
    "    title=\"Matriz de Correlação das Variáveis Numéricas\",\n",
    "    color_continuous_scale=\"RdBu_r\",\n",
    ")\n",
    "fig.update_layout(title_font_size=16)\n",
    "fig.show()"
   ],
   "outputs": [
    {
     "data": {
      "application/vnd.plotly.v1+json": {
       "data": [
        {
         "coloraxis": "coloraxis",
         "name": "0",
         "texttemplate": "%{z}",
         "x": [
          "Curr_lat",
          "Curr_lon",
          "TRANSPORTATION_DISTANCE_IN_KM",
          "Minimum_kms_to_be_covered_in_a_day",
          "Driver_MobileNo",
          "trip_duration_hours"
         ],
         "y": [
          "Curr_lat",
          "Curr_lon",
          "TRANSPORTATION_DISTANCE_IN_KM",
          "Minimum_kms_to_be_covered_in_a_day",
          "Driver_MobileNo",
          "trip_duration_hours"
         ],
         "z": {
          "dtype": "f8",
          "bdata": "AAAAAAAA8D+BFVkb2JCUP4HJQrtgm7c/RwaVISu5oD8zR4shkQm9v4MuL5O+KME/gRVZG9iQlD8AAAAAAADwPzH+wf9ShLG/t4aSIM4mlz+JC+oBEFRxv9jL9z8EKbA/gclCu2Cbtz8x/sH/UoSxvwAAAAAAAPA/GL4KxSQ6lT8oJC/OoenGv+spH8k6grK/RwaVISu5oD+3hpIgziaXPxi+CsUkOpU/AAAAAAAA8D/5EVEpLeRCP+xiR4xyppO/M0eLIZEJvb+JC+oBEFRxvygkL86h6ca/+RFRKS3kQj8AAAAAAADwP4m4b+2pQZQ/gy4vk74owT/Yy/c/BCmwP+spH8k6grK/7GJHjHKmk7+JuG/tqUGUPwAAAAAAAPA/",
          "shape": "6, 6"
         },
         "type": "heatmap",
         "xaxis": "x",
         "yaxis": "y",
         "hovertemplate": "x: %{x}<br>y: %{y}<br>color: %{z}<extra></extra>"
        }
       ],
       "layout": {
        "template": {
         "data": {
          "histogram2dcontour": [
           {
            "type": "histogram2dcontour",
            "colorbar": {
             "outlinewidth": 0,
             "ticks": ""
            },
            "colorscale": [
             [
              0.0,
              "#0d0887"
             ],
             [
              0.1111111111111111,
              "#46039f"
             ],
             [
              0.2222222222222222,
              "#7201a8"
             ],
             [
              0.3333333333333333,
              "#9c179e"
             ],
             [
              0.4444444444444444,
              "#bd3786"
             ],
             [
              0.5555555555555556,
              "#d8576b"
             ],
             [
              0.6666666666666666,
              "#ed7953"
             ],
             [
              0.7777777777777778,
              "#fb9f3a"
             ],
             [
              0.8888888888888888,
              "#fdca26"
             ],
             [
              1.0,
              "#f0f921"
             ]
            ]
           }
          ],
          "choropleth": [
           {
            "type": "choropleth",
            "colorbar": {
             "outlinewidth": 0,
             "ticks": ""
            }
           }
          ],
          "histogram2d": [
           {
            "type": "histogram2d",
            "colorbar": {
             "outlinewidth": 0,
             "ticks": ""
            },
            "colorscale": [
             [
              0.0,
              "#0d0887"
             ],
             [
              0.1111111111111111,
              "#46039f"
             ],
             [
              0.2222222222222222,
              "#7201a8"
             ],
             [
              0.3333333333333333,
              "#9c179e"
             ],
             [
              0.4444444444444444,
              "#bd3786"
             ],
             [
              0.5555555555555556,
              "#d8576b"
             ],
             [
              0.6666666666666666,
              "#ed7953"
             ],
             [
              0.7777777777777778,
              "#fb9f3a"
             ],
             [
              0.8888888888888888,
              "#fdca26"
             ],
             [
              1.0,
              "#f0f921"
             ]
            ]
           }
          ],
          "heatmap": [
           {
            "type": "heatmap",
            "colorbar": {
             "outlinewidth": 0,
             "ticks": ""
            },
            "colorscale": [
             [
              0.0,
              "#0d0887"
             ],
             [
              0.1111111111111111,
              "#46039f"
             ],
             [
              0.2222222222222222,
              "#7201a8"
             ],
             [
              0.3333333333333333,
              "#9c179e"
             ],
             [
              0.4444444444444444,
              "#bd3786"
             ],
             [
              0.5555555555555556,
              "#d8576b"
             ],
             [
              0.6666666666666666,
              "#ed7953"
             ],
             [
              0.7777777777777778,
              "#fb9f3a"
             ],
             [
              0.8888888888888888,
              "#fdca26"
             ],
             [
              1.0,
              "#f0f921"
             ]
            ]
           }
          ],
          "contourcarpet": [
           {
            "type": "contourcarpet",
            "colorbar": {
             "outlinewidth": 0,
             "ticks": ""
            }
           }
          ],
          "contour": [
           {
            "type": "contour",
            "colorbar": {
             "outlinewidth": 0,
             "ticks": ""
            },
            "colorscale": [
             [
              0.0,
              "#0d0887"
             ],
             [
              0.1111111111111111,
              "#46039f"
             ],
             [
              0.2222222222222222,
              "#7201a8"
             ],
             [
              0.3333333333333333,
              "#9c179e"
             ],
             [
              0.4444444444444444,
              "#bd3786"
             ],
             [
              0.5555555555555556,
              "#d8576b"
             ],
             [
              0.6666666666666666,
              "#ed7953"
             ],
             [
              0.7777777777777778,
              "#fb9f3a"
             ],
             [
              0.8888888888888888,
              "#fdca26"
             ],
             [
              1.0,
              "#f0f921"
             ]
            ]
           }
          ],
          "surface": [
           {
            "type": "surface",
            "colorbar": {
             "outlinewidth": 0,
             "ticks": ""
            },
            "colorscale": [
             [
              0.0,
              "#0d0887"
             ],
             [
              0.1111111111111111,
              "#46039f"
             ],
             [
              0.2222222222222222,
              "#7201a8"
             ],
             [
              0.3333333333333333,
              "#9c179e"
             ],
             [
              0.4444444444444444,
              "#bd3786"
             ],
             [
              0.5555555555555556,
              "#d8576b"
             ],
             [
              0.6666666666666666,
              "#ed7953"
             ],
             [
              0.7777777777777778,
              "#fb9f3a"
             ],
             [
              0.8888888888888888,
              "#fdca26"
             ],
             [
              1.0,
              "#f0f921"
             ]
            ]
           }
          ],
          "mesh3d": [
           {
            "type": "mesh3d",
            "colorbar": {
             "outlinewidth": 0,
             "ticks": ""
            }
           }
          ],
          "scatter": [
           {
            "marker": {
             "line": {
              "color": "#283442"
             }
            },
            "type": "scatter"
           }
          ],
          "parcoords": [
           {
            "type": "parcoords",
            "line": {
             "colorbar": {
              "outlinewidth": 0,
              "ticks": ""
             }
            }
           }
          ],
          "scatterpolargl": [
           {
            "type": "scatterpolargl",
            "marker": {
             "colorbar": {
              "outlinewidth": 0,
              "ticks": ""
             }
            }
           }
          ],
          "bar": [
           {
            "error_x": {
             "color": "#f2f5fa"
            },
            "error_y": {
             "color": "#f2f5fa"
            },
            "marker": {
             "line": {
              "color": "rgb(17,17,17)",
              "width": 0.5
             },
             "pattern": {
              "fillmode": "overlay",
              "size": 10,
              "solidity": 0.2
             }
            },
            "type": "bar"
           }
          ],
          "scattergeo": [
           {
            "type": "scattergeo",
            "marker": {
             "colorbar": {
              "outlinewidth": 0,
              "ticks": ""
             }
            }
           }
          ],
          "scatterpolar": [
           {
            "type": "scatterpolar",
            "marker": {
             "colorbar": {
              "outlinewidth": 0,
              "ticks": ""
             }
            }
           }
          ],
          "histogram": [
           {
            "marker": {
             "pattern": {
              "fillmode": "overlay",
              "size": 10,
              "solidity": 0.2
             }
            },
            "type": "histogram"
           }
          ],
          "scattergl": [
           {
            "marker": {
             "line": {
              "color": "#283442"
             }
            },
            "type": "scattergl"
           }
          ],
          "scatter3d": [
           {
            "type": "scatter3d",
            "line": {
             "colorbar": {
              "outlinewidth": 0,
              "ticks": ""
             }
            },
            "marker": {
             "colorbar": {
              "outlinewidth": 0,
              "ticks": ""
             }
            }
           }
          ],
          "scattermap": [
           {
            "type": "scattermap",
            "marker": {
             "colorbar": {
              "outlinewidth": 0,
              "ticks": ""
             }
            }
           }
          ],
          "scattermapbox": [
           {
            "type": "scattermapbox",
            "marker": {
             "colorbar": {
              "outlinewidth": 0,
              "ticks": ""
             }
            }
           }
          ],
          "scatterternary": [
           {
            "type": "scatterternary",
            "marker": {
             "colorbar": {
              "outlinewidth": 0,
              "ticks": ""
             }
            }
           }
          ],
          "scattercarpet": [
           {
            "type": "scattercarpet",
            "marker": {
             "colorbar": {
              "outlinewidth": 0,
              "ticks": ""
             }
            }
           }
          ],
          "carpet": [
           {
            "aaxis": {
             "endlinecolor": "#A2B1C6",
             "gridcolor": "#506784",
             "linecolor": "#506784",
             "minorgridcolor": "#506784",
             "startlinecolor": "#A2B1C6"
            },
            "baxis": {
             "endlinecolor": "#A2B1C6",
             "gridcolor": "#506784",
             "linecolor": "#506784",
             "minorgridcolor": "#506784",
             "startlinecolor": "#A2B1C6"
            },
            "type": "carpet"
           }
          ],
          "table": [
           {
            "cells": {
             "fill": {
              "color": "#506784"
             },
             "line": {
              "color": "rgb(17,17,17)"
             }
            },
            "header": {
             "fill": {
              "color": "#2a3f5f"
             },
             "line": {
              "color": "rgb(17,17,17)"
             }
            },
            "type": "table"
           }
          ],
          "barpolar": [
           {
            "marker": {
             "line": {
              "color": "rgb(17,17,17)",
              "width": 0.5
             },
             "pattern": {
              "fillmode": "overlay",
              "size": 10,
              "solidity": 0.2
             }
            },
            "type": "barpolar"
           }
          ],
          "pie": [
           {
            "automargin": true,
            "type": "pie"
           }
          ]
         },
         "layout": {
          "autotypenumbers": "strict",
          "colorway": [
           "#636efa",
           "#EF553B",
           "#00cc96",
           "#ab63fa",
           "#FFA15A",
           "#19d3f3",
           "#FF6692",
           "#B6E880",
           "#FF97FF",
           "#FECB52"
          ],
          "font": {
           "color": "#f2f5fa"
          },
          "hovermode": "closest",
          "hoverlabel": {
           "align": "left"
          },
          "paper_bgcolor": "rgb(17,17,17)",
          "plot_bgcolor": "rgb(17,17,17)",
          "polar": {
           "bgcolor": "rgb(17,17,17)",
           "angularaxis": {
            "gridcolor": "#506784",
            "linecolor": "#506784",
            "ticks": ""
           },
           "radialaxis": {
            "gridcolor": "#506784",
            "linecolor": "#506784",
            "ticks": ""
           }
          },
          "ternary": {
           "bgcolor": "rgb(17,17,17)",
           "aaxis": {
            "gridcolor": "#506784",
            "linecolor": "#506784",
            "ticks": ""
           },
           "baxis": {
            "gridcolor": "#506784",
            "linecolor": "#506784",
            "ticks": ""
           },
           "caxis": {
            "gridcolor": "#506784",
            "linecolor": "#506784",
            "ticks": ""
           }
          },
          "coloraxis": {
           "colorbar": {
            "outlinewidth": 0,
            "ticks": ""
           }
          },
          "colorscale": {
           "sequential": [
            [
             0.0,
             "#0d0887"
            ],
            [
             0.1111111111111111,
             "#46039f"
            ],
            [
             0.2222222222222222,
             "#7201a8"
            ],
            [
             0.3333333333333333,
             "#9c179e"
            ],
            [
             0.4444444444444444,
             "#bd3786"
            ],
            [
             0.5555555555555556,
             "#d8576b"
            ],
            [
             0.6666666666666666,
             "#ed7953"
            ],
            [
             0.7777777777777778,
             "#fb9f3a"
            ],
            [
             0.8888888888888888,
             "#fdca26"
            ],
            [
             1.0,
             "#f0f921"
            ]
           ],
           "sequentialminus": [
            [
             0.0,
             "#0d0887"
            ],
            [
             0.1111111111111111,
             "#46039f"
            ],
            [
             0.2222222222222222,
             "#7201a8"
            ],
            [
             0.3333333333333333,
             "#9c179e"
            ],
            [
             0.4444444444444444,
             "#bd3786"
            ],
            [
             0.5555555555555556,
             "#d8576b"
            ],
            [
             0.6666666666666666,
             "#ed7953"
            ],
            [
             0.7777777777777778,
             "#fb9f3a"
            ],
            [
             0.8888888888888888,
             "#fdca26"
            ],
            [
             1.0,
             "#f0f921"
            ]
           ],
           "diverging": [
            [
             0,
             "#8e0152"
            ],
            [
             0.1,
             "#c51b7d"
            ],
            [
             0.2,
             "#de77ae"
            ],
            [
             0.3,
             "#f1b6da"
            ],
            [
             0.4,
             "#fde0ef"
            ],
            [
             0.5,
             "#f7f7f7"
            ],
            [
             0.6,
             "#e6f5d0"
            ],
            [
             0.7,
             "#b8e186"
            ],
            [
             0.8,
             "#7fbc41"
            ],
            [
             0.9,
             "#4d9221"
            ],
            [
             1,
             "#276419"
            ]
           ]
          },
          "xaxis": {
           "gridcolor": "#283442",
           "linecolor": "#506784",
           "ticks": "",
           "title": {
            "standoff": 15
           },
           "zerolinecolor": "#283442",
           "automargin": true,
           "zerolinewidth": 2
          },
          "yaxis": {
           "gridcolor": "#283442",
           "linecolor": "#506784",
           "ticks": "",
           "title": {
            "standoff": 15
           },
           "zerolinecolor": "#283442",
           "automargin": true,
           "zerolinewidth": 2
          },
          "scene": {
           "xaxis": {
            "backgroundcolor": "rgb(17,17,17)",
            "gridcolor": "#506784",
            "linecolor": "#506784",
            "showbackground": true,
            "ticks": "",
            "zerolinecolor": "#C8D4E3",
            "gridwidth": 2
           },
           "yaxis": {
            "backgroundcolor": "rgb(17,17,17)",
            "gridcolor": "#506784",
            "linecolor": "#506784",
            "showbackground": true,
            "ticks": "",
            "zerolinecolor": "#C8D4E3",
            "gridwidth": 2
           },
           "zaxis": {
            "backgroundcolor": "rgb(17,17,17)",
            "gridcolor": "#506784",
            "linecolor": "#506784",
            "showbackground": true,
            "ticks": "",
            "zerolinecolor": "#C8D4E3",
            "gridwidth": 2
           }
          },
          "shapedefaults": {
           "line": {
            "color": "#f2f5fa"
           }
          },
          "annotationdefaults": {
           "arrowcolor": "#f2f5fa",
           "arrowhead": 0,
           "arrowwidth": 1
          },
          "geo": {
           "bgcolor": "rgb(17,17,17)",
           "landcolor": "rgb(17,17,17)",
           "subunitcolor": "#506784",
           "showland": true,
           "showlakes": true,
           "lakecolor": "rgb(17,17,17)"
          },
          "title": {
           "x": 0.05
          },
          "updatemenudefaults": {
           "bgcolor": "#506784",
           "borderwidth": 0
          },
          "sliderdefaults": {
           "bgcolor": "#C8D4E3",
           "borderwidth": 1,
           "bordercolor": "rgb(17,17,17)",
           "tickwidth": 0
          },
          "mapbox": {
           "style": "dark"
          }
         }
        },
        "xaxis": {
         "anchor": "y",
         "domain": [
          0.0,
          1.0
         ]
        },
        "yaxis": {
         "anchor": "x",
         "domain": [
          0.0,
          1.0
         ],
         "autorange": "reversed"
        },
        "coloraxis": {
         "colorscale": [
          [
           0.0,
           "rgb(5,48,97)"
          ],
          [
           0.1,
           "rgb(33,102,172)"
          ],
          [
           0.2,
           "rgb(67,147,195)"
          ],
          [
           0.3,
           "rgb(146,197,222)"
          ],
          [
           0.4,
           "rgb(209,229,240)"
          ],
          [
           0.5,
           "rgb(247,247,247)"
          ],
          [
           0.6,
           "rgb(253,219,199)"
          ],
          [
           0.7,
           "rgb(244,165,130)"
          ],
          [
           0.8,
           "rgb(214,96,77)"
          ],
          [
           0.9,
           "rgb(178,24,43)"
          ],
          [
           1.0,
           "rgb(103,0,31)"
          ]
         ]
        },
        "title": {
         "text": "Matriz de Correlação das Variáveis Numéricas",
         "font": {
          "size": 16
         }
        }
       },
       "config": {
        "plotlyServerURL": "https://plot.ly"
       }
      }
     },
     "metadata": {},
     "output_type": "display_data"
    }
   ],
   "execution_count": 69
  },
  {
   "cell_type": "markdown",
   "metadata": {},
   "source": [
    "### 4.5. Relação entre Distância e Duração da Viagem (Seaborn)\n",
    "Um gráfico de dispersão entre a distância de transporte e a duração da viagem pode revelar se há uma relação linear entre essas duas variáveis. A cor pode ser usada para diferenciar entregas no prazo e atrasadas, adicionando uma camada de insight sobre como a distância afeta a pontualidade."
   ]
  },
  {
   "cell_type": "code",
   "metadata": {
    "ExecuteTime": {
     "end_time": "2025-09-20T15:49:26.746423Z",
     "start_time": "2025-09-20T15:49:25.529521Z"
    }
   },
   "source": [
    "plt.figure(figsize=(12, 7))\n",
    "\n",
    "sns.scatterplot(\n",
    "    x=\"TRANSPORTATION_DISTANCE_IN_KM\",\n",
    "    y=\"trip_duration_hours\",\n",
    "    hue=\"ontime\",\n",
    "    data=df,\n",
    "    alpha=0.5,\n",
    "    s=40,\n",
    "    palette=\"Set1\",\n",
    ")\n",
    "\n",
    "sns.regplot(\n",
    "    x=\"TRANSPORTATION_DISTANCE_IN_KM\",\n",
    "    y=\"trip_duration_hours\",\n",
    "    data=df,\n",
    "    scatter=False,\n",
    "    color=\"black\",\n",
    "    line_kws={\"linewidth\": 1.5, \"linestyle\": \"--\"},\n",
    ")\n",
    "\n",
    "# Títulos e labels\n",
    "plt.title(\n",
    "    \"Distância de Transporte vs. Duração da Viagem por Status de Entrega\", fontsize=16\n",
    ")\n",
    "plt.xlabel(\"Distância de Transporte (KM)\", fontsize=12)\n",
    "plt.ylabel(\"Duração da Viagem (Horas)\", fontsize=12)\n",
    "plt.grid(linestyle=\"--\", alpha=0.7)\n",
    "\n",
    "# Limitar eixos para evitar distorção\n",
    "x_lim = df[\"TRANSPORTATION_DISTANCE_IN_KM\"].quantile(0.95)\n",
    "y_lim = df[\"trip_duration_hours\"].quantile(0.90)\n",
    "plt.xlim(0, x_lim)\n",
    "plt.ylim(0, y_lim)\n",
    "\n",
    "plt.legend(title=\"Entrega no Prazo\")\n",
    "plt.show()"
   ],
   "outputs": [
    {
     "data": {
      "text/plain": [
       "<Figure size 1200x700 with 1 Axes>"
      ],
      "image/png": "[encoded data removed]"
     },
     "metadata": {},
     "output_type": "display_data"
    }
   ],
   "execution_count": 77
  },
  {
   "cell_type": "markdown",
   "metadata": {},
   "source": [
    "## 5. Conclusão\n",
    "Esta análise exploratória forneceu insights valiosos sobre os dados de logística. Identificamos a distribuição das entregas no prazo e atrasadas, a duração típica das viagens e a presença de outliers. A correlação entre distância e duração da viagem foi explorada, e visualizações interativas foram criadas para facilitar a compreensão dos dados.\n",
    "\n",
    "### Principais Descobertas:\n",
    "- A maioria das entregas está no prazo, mas uma parcela significativa sofre atrasos, indicando uma área para otimização.\n",
    "- A duração das viagens e as distâncias percorridas variam amplamente, com alguns outliers que podem representar rotas incomuns ou problemas específicos.\n",
    "- Existe uma correlação positiva entre a distância de transporte e a duração da viagem, como esperado, mas a análise detalhada pode revelar ineficiências em certas rotas ou tipos de veículos.\n",
    "\n",
    "### Sugestões para Análises Futuras:\n",
    "- Investigar os fatores que contribuem para os atrasos nas entregas (e.g., tipo de veículo, rota, condições climáticas, horário de pico).\n",
    "- Realizar uma análise mais aprofundada dos outliers para entender suas causas e se devem ser tratados de forma diferente.\n",
    "- Desenvolver um modelo preditivo para estimar a duração da viagem e a probabilidade de atraso, utilizando variáveis como tipo de veículo, distância, origem e destino.\n",
    "- Analisar o impacto de diferentes provedores de GPS e fornecedores na eficiência das entregas."
   ]
  },
  {
   "metadata": {},
   "cell_type": "markdown",
   "source": [
    "# 6. Modelo Preditivo\n",
    "\n",
    "O modelo preditivo será desenvolvido para prever caso uma viagem atrase ou não, utilizando as colunas delay e ontime como variáveis alvo.\n",
    "Transformaremos elas em variáveis binárias, onde 1 representa atraso e 0 representa no prazo com nome de TARGET.\n",
    "Faremos o tratamento necessário e apresentaremos o melhor modelo utilizado."
   ]
  },
  {
   "metadata": {},
   "cell_type": "markdown",
   "source": "### 6.1. retirada de colunas desnecessárias"
  },
  {
   "metadata": {
    "ExecuteTime": {
     "end_time": "2025-09-20T15:48:10.509523Z",
     "start_time": "2025-09-20T15:48:10.484915Z"
    }
   },
   "cell_type": "code",
   "source": [
    "colunas_desnecessarias = [\n",
    "    # Identificador único, não traz informação útil para prever atrasos\n",
    "    \"BookingID\",\n",
    "    # Data/hora bruta do agendamento. Melhor extrair variáveis derivadas (mês, dia da semana, hora)\n",
    "    \"BookingID_Date\",\n",
    "    # Placa do veículo, informação única que não generaliza (melhor usar vehicleType)\n",
    "    \"vehicle_no\",\n",
    "    # Nome do motorista: dado pessoal + não generaliza para outros\n",
    "    \"Driver_Name\",\n",
    "    # Telefone do motorista: dado pessoal e irrelevante para atrasos\n",
    "    \"Driver_MobileNo\",\n",
    "    # Identificador do cliente: é apenas um código\n",
    "    \"customerID\",\n",
    "    # Nome/código do cliente: pode enviesar o modelo, não generaliza (a não ser que queira analisar clientes específicos)\n",
    "    \"customerNameCode\",\n",
    "    # Identificador do fornecedor: apenas um código\n",
    "    \"supplierID\",\n",
    "    # Nome/código do fornecedor: pode enviesar, só faz sentido em análise de fornecedor\n",
    "    \"supplierNameCode\",\n",
    "    # Código da localização de origem (redundante, já temos latitude/longitude)\n",
    "    \"OriginLocation_Code\",\n",
    "    # Código da localização de destino (redundante, já temos latitude/longitude)\n",
    "    \"DestinationLocation_Code\",\n",
    "    # Data/hora de ping do GPS: só se sabe durante a viagem, não pode ser usado na previsão antes de sair\n",
    "    \"Data_Ping_time\",\n",
    "    # ETA real: só se sabe após a viagem (causa vazamento de dados)\n",
    "    \"actual_eta\",\n",
    "    # Data de término da viagem: informação conhecida apenas após a entrega (vazamento de dados)\n",
    "    \"trip_end_date\",\n",
    "    # Ambas já foram usadas para classificar o target\n",
    "    \"delay\",\n",
    "    \"ontime\",\n",
    "]\n",
    "\n",
    "df = df.drop(columns=[c for c in colunas_desnecessarias if c in df.columns])\n",
    "df"
   ],
   "outputs": [
    {
     "data": {
      "text/plain": [
       "        GpsProvider Market/Regular   \\\n",
       "0     CONSENT TRACK          Market   \n",
       "1           VAMOSYS         Regular   \n",
       "2     CONSENT TRACK         Regular   \n",
       "3           VAMOSYS         Regular   \n",
       "4           VAMOSYS         Regular   \n",
       "...             ...             ...   \n",
       "6875          JTECH         Regular   \n",
       "6876          JTECH         Regular   \n",
       "6877          JTECH         Regular   \n",
       "6878          JTECH         Regular   \n",
       "6879          JTECH         Regular   \n",
       "\n",
       "                                        Origin_Location  \\\n",
       "0                  TVSLSL-PUZHAL-HUB,CHENNAI,TAMIL NADU   \n",
       "1     DAIMLER INDIA COMMERCIAL VEHICLES,KANCHIPURAM,...   \n",
       "2                 LUCAS TVS LTD-PONDY,PONDY,PONDICHERRY   \n",
       "3     DAIMLER INDIA COMMERCIAL VEHICLES,KANCHIPURAM,...   \n",
       "4                 LUCAS TVS LTD-PONDY,PONDY,PONDICHERRY   \n",
       "...                                                 ...   \n",
       "6875             Ramamurthy Nagar, Bangalore, Karnataka   \n",
       "6876             Ramamurthy Nagar, Bangalore, Karnataka   \n",
       "6877               Mugabala, Bangalore Rural, Karnataka   \n",
       "6878               Mugabala, Bangalore Rural, Karnataka   \n",
       "6879               Mugabala, Bangalore Rural, Karnataka   \n",
       "\n",
       "                                   Destination_Location  \\\n",
       "0          ASHOK LEYLAND PLANT 1- HOSUR,HOSUR,KARNATAKA   \n",
       "1     DAIMLER INDIA COMMERCIAL VEHICLES,KANCHIPURAM,...   \n",
       "2                 LUCAS TVS LTD-PONDY,PONDY,PONDICHERRY   \n",
       "3     DAIMLER INDIA COMMERCIAL VEHICLES,KANCHIPURAM,...   \n",
       "4                 LUCAS TVS LTD-PONDY,PONDY,PONDICHERRY   \n",
       "...                                                 ...   \n",
       "6875            Sahakaranagar P.O, Bangalore, Karnataka   \n",
       "6876  Bangalore International Airport, Bangalore, Ka...   \n",
       "6877                       Anekal, Bangalore, Karnataka   \n",
       "6878                       Anekal, Bangalore, Karnataka   \n",
       "6879                       Anekal, Bangalore, Karnataka   \n",
       "\n",
       "                                Org_lat_lon  \\\n",
       "0                           13.1550,80.1960   \n",
       "1                           12.8390,79.9540   \n",
       "2                           11.8710,79.7390   \n",
       "3                           12.8390,79.9540   \n",
       "4                           11.8720,79.6320   \n",
       "...                                     ...   \n",
       "6875  13.007503209603689,77.665098855934886   \n",
       "6876  13.007503209603689,77.665098855934886   \n",
       "6877  16.560192249175344,80.792293091599547   \n",
       "6878  16.560192249175344,80.792293091599547   \n",
       "6879  16.560192249175344,80.792293091599547   \n",
       "\n",
       "                                Des_lat_lon             Planned_ETA  \\\n",
       "0                           12.7400,77.8200 2020-08-21 18:59:01.000   \n",
       "1                           12.8390,79.9540 2020-08-31 20:22:22.827   \n",
       "2                           11.8710,79.7390 2020-08-31 21:59:24.987   \n",
       "3                           12.8390,79.9540 2020-09-01 04:48:24.503   \n",
       "4                           11.8720,79.6320 2020-09-01 05:23:19.243   \n",
       "...                                     ...                     ...   \n",
       "6875  13.068901840235711,77.590655738806618 2019-03-27 18:31:00.000   \n",
       "6876  13.196312912801169,77.708156925688726 2019-03-31 20:36:00.000   \n",
       "6877                    12.722686,77.676518 2019-03-30 01:38:00.000   \n",
       "6878  12.896896847817695,77.712223056874862 2019-03-27 17:20:00.000   \n",
       "6879  13.199089183304451,77.708554234959038 2019-03-29 00:26:00.000   \n",
       "\n",
       "                                       Current_Location  \\\n",
       "0     Vaniyambadi Rd, Valayambattu, Tamil Nadu 63575...   \n",
       "1     Unnamed Road, Oragadam Industrial Corridor, Va...   \n",
       "2     570, National Hwy 48, Shenoy Nagar, Chennai, T...   \n",
       "3     Singaperumal Koil - Sriperumbudur Rd, Oragadam...   \n",
       "4               Melmaruvathur, Tamil Nadu 603319, India   \n",
       "...                                                 ...   \n",
       "6875  SGT Goods Shed Rd, Kadugodi, Bengaluru, Karnat...   \n",
       "6876  Shed No 60, Medahalli Kadugodi Road, Virgonaga...   \n",
       "6877  Shed No 60, Medahalli Kadugodi Road, Virgonaga...   \n",
       "6878  Shed No 60, Medahalli Kadugodi Road, Virgonaga...   \n",
       "6879  20/1, Sulthangunta, Shivaji Nagar, Bengaluru, ...   \n",
       "\n",
       "                                    DestinationLocation   Curr_lat   Curr_lon  \\\n",
       "0          ASHOK LEYLAND PLANT 1- HOSUR,HOSUR,KARNATAKA  12.663500  78.649870   \n",
       "1     DAIMLER INDIA COMMERCIAL VEHICLES,KANCHIPURAM,...  12.836757  79.954428   \n",
       "2                 LUCAS TVS LTD-PONDY,PONDY,PONDICHERRY  13.073956  80.225780   \n",
       "3     DAIMLER INDIA COMMERCIAL VEHICLES,KANCHIPURAM,...  12.836686  79.950560   \n",
       "4                 LUCAS TVS LTD-PONDY,PONDY,PONDICHERRY  12.429501  79.831556   \n",
       "...                                                 ...        ...        ...   \n",
       "6875            Sahakaranagar P.O, Bangalore, Karnataka  12.996370  77.740616   \n",
       "6876  Bangalore International Airport, Bangalore, Ka...  13.024788  77.722391   \n",
       "6877                       Anekal, Bangalore, Karnataka  13.024788  77.722391   \n",
       "6878                       Anekal, Bangalore, Karnataka  13.024747  77.721823   \n",
       "6879                       Anekal, Bangalore, Karnataka  12.991815  77.606038   \n",
       "\n",
       "         trip_start_date  TRANSPORTATION_DISTANCE_IN_KM  \\\n",
       "0    2020-08-17 14:59:01                          320.0   \n",
       "1    2020-08-27 16:21:52                          103.0   \n",
       "2    2020-08-27 17:57:04                          300.0   \n",
       "3    2020-08-28 00:47:45                           61.0   \n",
       "4    2020-08-28 01:13:48                          240.0   \n",
       "...                  ...                            ...   \n",
       "6875 2019-03-27 18:00:00                           12.0   \n",
       "6876 2019-03-31 17:30:00                           31.0   \n",
       "6877 2019-03-29 20:44:00                           49.0   \n",
       "6878 2019-03-27 15:29:00                           49.0   \n",
       "6879 2019-03-28 20:26:00                           49.0   \n",
       "\n",
       "                      vehicleType  Minimum_kms_to_be_covered_in_a_day  \\\n",
       "0     32 FT Single-Axle 7MT - HCV                               250.0   \n",
       "1     32 FT Multi-Axle 14MT - HCV                               250.0   \n",
       "2       1 MT Tata Ace (Open Body)                               250.0   \n",
       "3     32 FT Multi-Axle 14MT - HCV                               250.0   \n",
       "4     32 FT Multi-Axle 14MT - HCV                               250.0   \n",
       "...                           ...                                 ...   \n",
       "6875         25 FT Open Body 21MT                               250.0   \n",
       "6876       40 FT 3XL Trailer 35MT                               250.0   \n",
       "6877       40 FT 3XL Trailer 35MT                               250.0   \n",
       "6878       40 FT 3XL Trailer 35MT                               250.0   \n",
       "6879       40 FT 3XL Trailer 35MT                               250.0   \n",
       "\n",
       "              Material Shipped  trip_duration_hours  \n",
       "0        BRACKET / GRAB HANDLE           263.650958  \n",
       "1        ZB MODEL PLATE / 3143            20.406946  \n",
       "2             LETTERING / FUSO            22.107443  \n",
       "3     LU STRUT RA / RADIUS ROD            12.045277  \n",
       "4         WISHBONE / V ROD/HDT            13.150591  \n",
       "...                        ...                  ...  \n",
       "6875              TOOL KIT SET            -0.233333  \n",
       "6876        CONTROL LEVER ASSY             2.350000  \n",
       "6877    SPARE PARTS AUTOMOBILE             4.150000  \n",
       "6878    SPARE PARTS AUTOMOBILE             1.100000  \n",
       "6879    SPARE PARTS AUTOMOBILE             3.250000  \n",
       "\n",
       "[6880 rows x 17 columns]"
      ],
      "text/html": [
       "<div>\n",
       "<style scoped>\n",
       "    .dataframe tbody tr th:only-of-type {\n",
       "        vertical-align: middle;\n",
       "    }\n",
       "\n",
       "    .dataframe tbody tr th {\n",
       "        vertical-align: top;\n",
       "    }\n",
       "\n",
       "    .dataframe thead th {\n",
       "        text-align: right;\n",
       "    }\n",
       "</style>\n",
       "<table border=\"1\" class=\"dataframe\">\n",
       "  <thead>\n",
       "    <tr style=\"text-align: right;\">\n",
       "      <th></th>\n",
       "      <th>GpsProvider</th>\n",
       "      <th>Market/Regular</th>\n",
       "      <th>Origin_Location</th>\n",
       "      <th>Destination_Location</th>\n",
       "      <th>Org_lat_lon</th>\n",
       "      <th>Des_lat_lon</th>\n",
       "      <th>Planned_ETA</th>\n",
       "      <th>Current_Location</th>\n",
       "      <th>DestinationLocation</th>\n",
       "      <th>Curr_lat</th>\n",
       "      <th>Curr_lon</th>\n",
       "      <th>trip_start_date</th>\n",
       "      <th>TRANSPORTATION_DISTANCE_IN_KM</th>\n",
       "      <th>vehicleType</th>\n",
       "      <th>Minimum_kms_to_be_covered_in_a_day</th>\n",
       "      <th>Material Shipped</th>\n",
       "      <th>trip_duration_hours</th>\n",
       "    </tr>\n",
       "  </thead>\n",
       "  <tbody>\n",
       "    <tr>\n",
       "      <th>0</th>\n",
       "      <td>CONSENT TRACK</td>\n",
       "      <td>Market</td>\n",
       "      <td>TVSLSL-PUZHAL-HUB,CHENNAI,TAMIL NADU</td>\n",
       "      <td>ASHOK LEYLAND PLANT 1- HOSUR,HOSUR,KARNATAKA</td>\n",
       "      <td>13.1550,80.1960</td>\n",
       "      <td>12.7400,77.8200</td>\n",
       "      <td>2020-08-21 18:59:01.000</td>\n",
       "      <td>Vaniyambadi Rd, Valayambattu, Tamil Nadu 63575...</td>\n",
       "      <td>ASHOK LEYLAND PLANT 1- HOSUR,HOSUR,KARNATAKA</td>\n",
       "      <td>12.663500</td>\n",
       "      <td>78.649870</td>\n",
       "      <td>2020-08-17 14:59:01</td>\n",
       "      <td>320.0</td>\n",
       "      <td>32 FT Single-Axle 7MT - HCV</td>\n",
       "      <td>250.0</td>\n",
       "      <td>BRACKET / GRAB HANDLE</td>\n",
       "      <td>263.650958</td>\n",
       "    </tr>\n",
       "    <tr>\n",
       "      <th>1</th>\n",
       "      <td>VAMOSYS</td>\n",
       "      <td>Regular</td>\n",
       "      <td>DAIMLER INDIA COMMERCIAL VEHICLES,KANCHIPURAM,...</td>\n",
       "      <td>DAIMLER INDIA COMMERCIAL VEHICLES,KANCHIPURAM,...</td>\n",
       "      <td>12.8390,79.9540</td>\n",
       "      <td>12.8390,79.9540</td>\n",
       "      <td>2020-08-31 20:22:22.827</td>\n",
       "      <td>Unnamed Road, Oragadam Industrial Corridor, Va...</td>\n",
       "      <td>DAIMLER INDIA COMMERCIAL VEHICLES,KANCHIPURAM,...</td>\n",
       "      <td>12.836757</td>\n",
       "      <td>79.954428</td>\n",
       "      <td>2020-08-27 16:21:52</td>\n",
       "      <td>103.0</td>\n",
       "      <td>32 FT Multi-Axle 14MT - HCV</td>\n",
       "      <td>250.0</td>\n",
       "      <td>ZB MODEL PLATE / 3143</td>\n",
       "      <td>20.406946</td>\n",
       "    </tr>\n",
       "    <tr>\n",
       "      <th>2</th>\n",
       "      <td>CONSENT TRACK</td>\n",
       "      <td>Regular</td>\n",
       "      <td>LUCAS TVS LTD-PONDY,PONDY,PONDICHERRY</td>\n",
       "      <td>LUCAS TVS LTD-PONDY,PONDY,PONDICHERRY</td>\n",
       "      <td>11.8710,79.7390</td>\n",
       "      <td>11.8710,79.7390</td>\n",
       "      <td>2020-08-31 21:59:24.987</td>\n",
       "      <td>570, National Hwy 48, Shenoy Nagar, Chennai, T...</td>\n",
       "      <td>LUCAS TVS LTD-PONDY,PONDY,PONDICHERRY</td>\n",
       "      <td>13.073956</td>\n",
       "      <td>80.225780</td>\n",
       "      <td>2020-08-27 17:57:04</td>\n",
       "      <td>300.0</td>\n",
       "      <td>1 MT Tata Ace (Open Body)</td>\n",
       "      <td>250.0</td>\n",
       "      <td>LETTERING / FUSO</td>\n",
       "      <td>22.107443</td>\n",
       "    </tr>\n",
       "    <tr>\n",
       "      <th>3</th>\n",
       "      <td>VAMOSYS</td>\n",
       "      <td>Regular</td>\n",
       "      <td>DAIMLER INDIA COMMERCIAL VEHICLES,KANCHIPURAM,...</td>\n",
       "      <td>DAIMLER INDIA COMMERCIAL VEHICLES,KANCHIPURAM,...</td>\n",
       "      <td>12.8390,79.9540</td>\n",
       "      <td>12.8390,79.9540</td>\n",
       "      <td>2020-09-01 04:48:24.503</td>\n",
       "      <td>Singaperumal Koil - Sriperumbudur Rd, Oragadam...</td>\n",
       "      <td>DAIMLER INDIA COMMERCIAL VEHICLES,KANCHIPURAM,...</td>\n",
       "      <td>12.836686</td>\n",
       "      <td>79.950560</td>\n",
       "      <td>2020-08-28 00:47:45</td>\n",
       "      <td>61.0</td>\n",
       "      <td>32 FT Multi-Axle 14MT - HCV</td>\n",
       "      <td>250.0</td>\n",
       "      <td>LU STRUT RA / RADIUS ROD</td>\n",
       "      <td>12.045277</td>\n",
       "    </tr>\n",
       "    <tr>\n",
       "      <th>4</th>\n",
       "      <td>VAMOSYS</td>\n",
       "      <td>Regular</td>\n",
       "      <td>LUCAS TVS LTD-PONDY,PONDY,PONDICHERRY</td>\n",
       "      <td>LUCAS TVS LTD-PONDY,PONDY,PONDICHERRY</td>\n",
       "      <td>11.8720,79.6320</td>\n",
       "      <td>11.8720,79.6320</td>\n",
       "      <td>2020-09-01 05:23:19.243</td>\n",
       "      <td>Melmaruvathur, Tamil Nadu 603319, India</td>\n",
       "      <td>LUCAS TVS LTD-PONDY,PONDY,PONDICHERRY</td>\n",
       "      <td>12.429501</td>\n",
       "      <td>79.831556</td>\n",
       "      <td>2020-08-28 01:13:48</td>\n",
       "      <td>240.0</td>\n",
       "      <td>32 FT Multi-Axle 14MT - HCV</td>\n",
       "      <td>250.0</td>\n",
       "      <td>WISHBONE / V ROD/HDT</td>\n",
       "      <td>13.150591</td>\n",
       "    </tr>\n",
       "    <tr>\n",
       "      <th>...</th>\n",
       "      <td>...</td>\n",
       "      <td>...</td>\n",
       "      <td>...</td>\n",
       "      <td>...</td>\n",
       "      <td>...</td>\n",
       "      <td>...</td>\n",
       "      <td>...</td>\n",
       "      <td>...</td>\n",
       "      <td>...</td>\n",
       "      <td>...</td>\n",
       "      <td>...</td>\n",
       "      <td>...</td>\n",
       "      <td>...</td>\n",
       "      <td>...</td>\n",
       "      <td>...</td>\n",
       "      <td>...</td>\n",
       "      <td>...</td>\n",
       "    </tr>\n",
       "    <tr>\n",
       "      <th>6875</th>\n",
       "      <td>JTECH</td>\n",
       "      <td>Regular</td>\n",
       "      <td>Ramamurthy Nagar, Bangalore, Karnataka</td>\n",
       "      <td>Sahakaranagar P.O, Bangalore, Karnataka</td>\n",
       "      <td>13.007503209603689,77.665098855934886</td>\n",
       "      <td>13.068901840235711,77.590655738806618</td>\n",
       "      <td>2019-03-27 18:31:00.000</td>\n",
       "      <td>SGT Goods Shed Rd, Kadugodi, Bengaluru, Karnat...</td>\n",
       "      <td>Sahakaranagar P.O, Bangalore, Karnataka</td>\n",
       "      <td>12.996370</td>\n",
       "      <td>77.740616</td>\n",
       "      <td>2019-03-27 18:00:00</td>\n",
       "      <td>12.0</td>\n",
       "      <td>25 FT Open Body 21MT</td>\n",
       "      <td>250.0</td>\n",
       "      <td>TOOL KIT SET</td>\n",
       "      <td>-0.233333</td>\n",
       "    </tr>\n",
       "    <tr>\n",
       "      <th>6876</th>\n",
       "      <td>JTECH</td>\n",
       "      <td>Regular</td>\n",
       "      <td>Ramamurthy Nagar, Bangalore, Karnataka</td>\n",
       "      <td>Bangalore International Airport, Bangalore, Ka...</td>\n",
       "      <td>13.007503209603689,77.665098855934886</td>\n",
       "      <td>13.196312912801169,77.708156925688726</td>\n",
       "      <td>2019-03-31 20:36:00.000</td>\n",
       "      <td>Shed No 60, Medahalli Kadugodi Road, Virgonaga...</td>\n",
       "      <td>Bangalore International Airport, Bangalore, Ka...</td>\n",
       "      <td>13.024788</td>\n",
       "      <td>77.722391</td>\n",
       "      <td>2019-03-31 17:30:00</td>\n",
       "      <td>31.0</td>\n",
       "      <td>40 FT 3XL Trailer 35MT</td>\n",
       "      <td>250.0</td>\n",
       "      <td>CONTROL LEVER ASSY</td>\n",
       "      <td>2.350000</td>\n",
       "    </tr>\n",
       "    <tr>\n",
       "      <th>6877</th>\n",
       "      <td>JTECH</td>\n",
       "      <td>Regular</td>\n",
       "      <td>Mugabala, Bangalore Rural, Karnataka</td>\n",
       "      <td>Anekal, Bangalore, Karnataka</td>\n",
       "      <td>16.560192249175344,80.792293091599547</td>\n",
       "      <td>12.722686,77.676518</td>\n",
       "      <td>2019-03-30 01:38:00.000</td>\n",
       "      <td>Shed No 60, Medahalli Kadugodi Road, Virgonaga...</td>\n",
       "      <td>Anekal, Bangalore, Karnataka</td>\n",
       "      <td>13.024788</td>\n",
       "      <td>77.722391</td>\n",
       "      <td>2019-03-29 20:44:00</td>\n",
       "      <td>49.0</td>\n",
       "      <td>40 FT 3XL Trailer 35MT</td>\n",
       "      <td>250.0</td>\n",
       "      <td>SPARE PARTS AUTOMOBILE</td>\n",
       "      <td>4.150000</td>\n",
       "    </tr>\n",
       "    <tr>\n",
       "      <th>6878</th>\n",
       "      <td>JTECH</td>\n",
       "      <td>Regular</td>\n",
       "      <td>Mugabala, Bangalore Rural, Karnataka</td>\n",
       "      <td>Anekal, Bangalore, Karnataka</td>\n",
       "      <td>16.560192249175344,80.792293091599547</td>\n",
       "      <td>12.896896847817695,77.712223056874862</td>\n",
       "      <td>2019-03-27 17:20:00.000</td>\n",
       "      <td>Shed No 60, Medahalli Kadugodi Road, Virgonaga...</td>\n",
       "      <td>Anekal, Bangalore, Karnataka</td>\n",
       "      <td>13.024747</td>\n",
       "      <td>77.721823</td>\n",
       "      <td>2019-03-27 15:29:00</td>\n",
       "      <td>49.0</td>\n",
       "      <td>40 FT 3XL Trailer 35MT</td>\n",
       "      <td>250.0</td>\n",
       "      <td>SPARE PARTS AUTOMOBILE</td>\n",
       "      <td>1.100000</td>\n",
       "    </tr>\n",
       "    <tr>\n",
       "      <th>6879</th>\n",
       "      <td>JTECH</td>\n",
       "      <td>Regular</td>\n",
       "      <td>Mugabala, Bangalore Rural, Karnataka</td>\n",
       "      <td>Anekal, Bangalore, Karnataka</td>\n",
       "      <td>16.560192249175344,80.792293091599547</td>\n",
       "      <td>13.199089183304451,77.708554234959038</td>\n",
       "      <td>2019-03-29 00:26:00.000</td>\n",
       "      <td>20/1, Sulthangunta, Shivaji Nagar, Bengaluru, ...</td>\n",
       "      <td>Anekal, Bangalore, Karnataka</td>\n",
       "      <td>12.991815</td>\n",
       "      <td>77.606038</td>\n",
       "      <td>2019-03-28 20:26:00</td>\n",
       "      <td>49.0</td>\n",
       "      <td>40 FT 3XL Trailer 35MT</td>\n",
       "      <td>250.0</td>\n",
       "      <td>SPARE PARTS AUTOMOBILE</td>\n",
       "      <td>3.250000</td>\n",
       "    </tr>\n",
       "  </tbody>\n",
       "</table>\n",
       "<p>6880 rows × 17 columns</p>\n",
       "</div>"
      ]
     },
     "execution_count": 54,
     "metadata": {},
     "output_type": "execute_result"
    }
   ],
   "execution_count": 54
  }
 ],
 "metadata": {
  "kernelspec": {
   "display_name": "Python 3",
   "language": "python",
   "name": "python3"
  },
  "language_info": {
   "codemirror_mode": {
    "name": "ipython",
    "version": 3
   },
   "file_extension": ".py",
   "mimetype": "text/x-python",
   "name": "python",
   "nbconvert_exporter": "python",
   "pygments_lexer": "ipython3",
   "version": "3.11.0rc1"
  }
 },
 "nbformat": 4,
 "nbformat_minor": 4
}
